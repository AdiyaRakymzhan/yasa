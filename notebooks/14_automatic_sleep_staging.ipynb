{
 "cells": [
  {
   "cell_type": "markdown",
   "metadata": {},
   "source": [
    "# Automatic sleep staging\n",
    "\n",
    "This notebook demonstrates how to perform automatic sleep staging of polysomnography data in YASA.\n",
    "\n",
    "Please make sure to install the latest version of YASA first with: `pip install --upgrade yasa`."
   ]
  },
  {
   "cell_type": "code",
   "execution_count": 1,
   "metadata": {},
   "outputs": [],
   "source": [
    "import mne\n",
    "import yasa\n",
    "import numpy as np\n",
    "import pandas as pd\n",
    "import matplotlib.pyplot as plt"
   ]
  },
  {
   "cell_type": "markdown",
   "metadata": {},
   "source": [
    "## Data loading\n",
    "\n",
    "The automatic sleep staging function requires that the data are loaded using the [MNE Python package](https://mne.tools/stable/index.html). For instance, if your polysomnography data are stored in the standard European Data Fomat (.edf), you can use [this function](https://mne.tools/stable/generated/mne.io.read_raw_edf.html?highlight=read_raw_edf#mne.io.read_raw_edf) to load the data into Python."
   ]
  },
  {
   "cell_type": "code",
   "execution_count": 2,
   "metadata": {},
   "outputs": [
    {
     "name": "stdout",
     "output_type": "stream",
     "text": [
      "The channels are: ['F3', 'F4', 'C3', 'C4', 'O1', 'O2', 'EOG1', 'EOG2', 'EMG1']\n",
      "The sampling frequency is: 100.0\n"
     ]
    },
    {
     "data": {
      "text/plain": [
       "<Raw | sub-02_mne_raw.fif, 9 x 294000 (2940.0 s), ~20.2 MB, data loaded>"
      ]
     },
     "execution_count": 2,
     "metadata": {},
     "output_type": "execute_result"
    }
   ],
   "source": [
    "# Let's load a nap recording, directly as an MNE Raw object\n",
    "raw = mne.io.read_raw_fif('sub-02_mne_raw.fif', preload=True, verbose=False)\n",
    "print('The channels are:', raw.ch_names)\n",
    "print('The sampling frequency is:', raw.info['sfreq'])\n",
    "raw"
   ]
  },
  {
   "cell_type": "code",
   "execution_count": 3,
   "metadata": {},
   "outputs": [
    {
     "data": {
      "text/plain": [
       "array(['W', 'W', 'W', 'W', 'W', 'W', 'W', 'W', 'W', 'W', 'W', 'W', 'W',\n",
       "       'W', 'W', 'W', 'W', 'W', 'W', 'W', 'W', 'W', 'N1', 'W', 'W', 'W',\n",
       "       'W', 'N1', 'N1', 'N1', 'W', 'W', 'N1', 'N1', 'N1', 'N1', 'N2',\n",
       "       'N2', 'N2', 'W', 'N1', 'N2', 'N2', 'N2', 'N2', 'N2', 'N2', 'N2',\n",
       "       'N2', 'N2', 'N2', 'N2', 'N2', 'N2', 'N2', 'N2', 'N2', 'N2', 'N2',\n",
       "       'N2', 'N2', 'N2', 'N2', 'N2', 'N2', 'N2', 'N2', 'N2', 'N2', 'N3',\n",
       "       'N3', 'N3', 'N3', 'N3', 'N3', 'N3', 'N3', 'N3', 'N3', 'N3', 'N3',\n",
       "       'N3', 'N3', 'N3', 'N3', 'N3', 'N3', 'N3', 'N3', 'N3', 'N3', 'W',\n",
       "       'W', 'W', 'W', 'W', 'W', 'W'], dtype='<U2')"
      ]
     },
     "execution_count": 3,
     "metadata": {},
     "output_type": "execute_result"
    }
   ],
   "source": [
    "# Let's now load the human-scored hypnogram, where each value represents a 30-sec epoch.\n",
    "hypno = np.loadtxt('sub-02_hypno_30s.txt', dtype=str)\n",
    "hypno"
   ]
  },
  {
   "cell_type": "markdown",
   "metadata": {},
   "source": [
    "## Automatic sleep staging\n",
    "\n",
    "Automatic sleep stages classification can be done since YASA 0.4.0 using the [SleepStaging](https://raphaelvallat.com/yasa/build/html/generated/yasa.SleepStaging.html#yasa.SleepStaging) class. Make sure to read the [documentation](https://raphaelvallat.com/yasa/build/html/generated/yasa.SleepStaging.html#yasa.SleepStaging), which explains how the algorithm works."
   ]
  },
  {
   "cell_type": "code",
   "execution_count": 4,
   "metadata": {},
   "outputs": [],
   "source": [
    "# We first need to specify the channel names and, optionally, the age and sex of the participant\n",
    "# - \"raw\" is the name of the variable containing the polysomnography data loaded with MNE.\n",
    "# - \"eeg_name\" is the name of the EEG channel, preferentially a central derivation (e.g. C4-M1). This is always required to run the sleep staging algorithm.\n",
    "# - \"eog_name\" is the name of the EOG channel (e.g. LOC-M1). This is optional.\n",
    "# - \"eog_name\" is the name of the EOG channel (e.g. EMG1-EMG3). This is optional.\n",
    "# - \"metadata\" is a dictionary containing the age and sex of the participant. This is optional.\n",
    "sls = yasa.SleepStaging(raw, eeg_name=\"C4\", eog_name=\"EOG1\", emg_name=\"EMG1\", metadata=dict(age=21, male=False))"
   ]
  },
  {
   "cell_type": "code",
   "execution_count": 5,
   "metadata": {},
   "outputs": [
    {
     "data": {
      "text/plain": [
       "array(['W', 'W', 'W', 'W', 'W', 'W', 'W', 'W', 'W', 'W', 'W', 'W', 'W',\n",
       "       'N2', 'N2', 'W', 'N2', 'W', 'W', 'W', 'W', 'W', 'W', 'W', 'W', 'W',\n",
       "       'W', 'W', 'W', 'N1', 'N2', 'W', 'N1', 'N1', 'N2', 'N2', 'N2', 'N2',\n",
       "       'N2', 'N2', 'N2', 'N2', 'N2', 'N2', 'N2', 'N2', 'N2', 'N2', 'N2',\n",
       "       'N2', 'N2', 'N2', 'N2', 'N2', 'N2', 'N2', 'N2', 'N2', 'N2', 'N2',\n",
       "       'N2', 'N2', 'N2', 'N2', 'N2', 'N2', 'N3', 'N3', 'N3', 'N3', 'N3',\n",
       "       'N3', 'N3', 'N3', 'N3', 'N3', 'N3', 'N3', 'N3', 'N3', 'N3', 'N3',\n",
       "       'N3', 'N3', 'N3', 'N3', 'N3', 'N3', 'N3', 'N3', 'N3', 'N3', 'N3',\n",
       "       'W', 'N3', 'W', 'W', 'W'], dtype=object)"
      ]
     },
     "execution_count": 5,
     "metadata": {},
     "output_type": "execute_result"
    }
   ],
   "source": [
    "# Getting the predicted sleep stages is now as easy as:\n",
    "y_pred = sls.predict()\n",
    "y_pred"
   ]
  },
  {
   "cell_type": "code",
   "execution_count": 6,
   "metadata": {},
   "outputs": [
    {
     "name": "stdout",
     "output_type": "stream",
     "text": [
      "The overall agreement is 0.827\n"
     ]
    }
   ],
   "source": [
    "# What is the accuracy of the prediction, compared to the human scoring\n",
    "accuracy = (hypno == y_pred).sum() / y_pred.size\n",
    "print(\"The overall agreement is %.3f\" % accuracy)"
   ]
  },
  {
   "cell_type": "markdown",
   "metadata": {},
   "source": [
    "**Stage probabilities and confidence of the algorithm at each epoch**"
   ]
  },
  {
   "cell_type": "code",
   "execution_count": 7,
   "metadata": {},
   "outputs": [
    {
     "data": {
      "text/html": [
       "<div>\n",
       "<style scoped>\n",
       "    .dataframe tbody tr th:only-of-type {\n",
       "        vertical-align: middle;\n",
       "    }\n",
       "\n",
       "    .dataframe tbody tr th {\n",
       "        vertical-align: top;\n",
       "    }\n",
       "\n",
       "    .dataframe thead th {\n",
       "        text-align: right;\n",
       "    }\n",
       "</style>\n",
       "<table border=\"1\" class=\"dataframe\">\n",
       "  <thead>\n",
       "    <tr style=\"text-align: right;\">\n",
       "      <th></th>\n",
       "      <th>N1</th>\n",
       "      <th>N2</th>\n",
       "      <th>N3</th>\n",
       "      <th>R</th>\n",
       "      <th>W</th>\n",
       "    </tr>\n",
       "    <tr>\n",
       "      <th>epoch</th>\n",
       "      <th></th>\n",
       "      <th></th>\n",
       "      <th></th>\n",
       "      <th></th>\n",
       "      <th></th>\n",
       "    </tr>\n",
       "  </thead>\n",
       "  <tbody>\n",
       "    <tr>\n",
       "      <th>0</th>\n",
       "      <td>0.019392</td>\n",
       "      <td>0.033505</td>\n",
       "      <td>0.001639</td>\n",
       "      <td>0.005495</td>\n",
       "      <td>0.939969</td>\n",
       "    </tr>\n",
       "    <tr>\n",
       "      <th>1</th>\n",
       "      <td>0.075906</td>\n",
       "      <td>0.040468</td>\n",
       "      <td>0.001974</td>\n",
       "      <td>0.012812</td>\n",
       "      <td>0.868840</td>\n",
       "    </tr>\n",
       "    <tr>\n",
       "      <th>2</th>\n",
       "      <td>0.012592</td>\n",
       "      <td>0.005998</td>\n",
       "      <td>0.000151</td>\n",
       "      <td>0.002452</td>\n",
       "      <td>0.978806</td>\n",
       "    </tr>\n",
       "    <tr>\n",
       "      <th>3</th>\n",
       "      <td>0.011069</td>\n",
       "      <td>0.006643</td>\n",
       "      <td>0.000039</td>\n",
       "      <td>0.001884</td>\n",
       "      <td>0.980364</td>\n",
       "    </tr>\n",
       "    <tr>\n",
       "      <th>4</th>\n",
       "      <td>0.011321</td>\n",
       "      <td>0.028442</td>\n",
       "      <td>0.000220</td>\n",
       "      <td>0.002674</td>\n",
       "      <td>0.957343</td>\n",
       "    </tr>\n",
       "    <tr>\n",
       "      <th>...</th>\n",
       "      <td>...</td>\n",
       "      <td>...</td>\n",
       "      <td>...</td>\n",
       "      <td>...</td>\n",
       "      <td>...</td>\n",
       "    </tr>\n",
       "    <tr>\n",
       "      <th>93</th>\n",
       "      <td>0.028755</td>\n",
       "      <td>0.078150</td>\n",
       "      <td>0.263581</td>\n",
       "      <td>0.010250</td>\n",
       "      <td>0.619264</td>\n",
       "    </tr>\n",
       "    <tr>\n",
       "      <th>94</th>\n",
       "      <td>0.018776</td>\n",
       "      <td>0.093083</td>\n",
       "      <td>0.575573</td>\n",
       "      <td>0.010271</td>\n",
       "      <td>0.302296</td>\n",
       "    </tr>\n",
       "    <tr>\n",
       "      <th>95</th>\n",
       "      <td>0.029719</td>\n",
       "      <td>0.036139</td>\n",
       "      <td>0.007347</td>\n",
       "      <td>0.005370</td>\n",
       "      <td>0.921425</td>\n",
       "    </tr>\n",
       "    <tr>\n",
       "      <th>96</th>\n",
       "      <td>0.001642</td>\n",
       "      <td>0.005175</td>\n",
       "      <td>0.002520</td>\n",
       "      <td>0.000904</td>\n",
       "      <td>0.989759</td>\n",
       "    </tr>\n",
       "    <tr>\n",
       "      <th>97</th>\n",
       "      <td>0.001098</td>\n",
       "      <td>0.002812</td>\n",
       "      <td>0.000454</td>\n",
       "      <td>0.000220</td>\n",
       "      <td>0.995417</td>\n",
       "    </tr>\n",
       "  </tbody>\n",
       "</table>\n",
       "<p>98 rows × 5 columns</p>\n",
       "</div>"
      ],
      "text/plain": [
       "             N1        N2        N3         R         W\n",
       "epoch                                                  \n",
       "0      0.019392  0.033505  0.001639  0.005495  0.939969\n",
       "1      0.075906  0.040468  0.001974  0.012812  0.868840\n",
       "2      0.012592  0.005998  0.000151  0.002452  0.978806\n",
       "3      0.011069  0.006643  0.000039  0.001884  0.980364\n",
       "4      0.011321  0.028442  0.000220  0.002674  0.957343\n",
       "...         ...       ...       ...       ...       ...\n",
       "93     0.028755  0.078150  0.263581  0.010250  0.619264\n",
       "94     0.018776  0.093083  0.575573  0.010271  0.302296\n",
       "95     0.029719  0.036139  0.007347  0.005370  0.921425\n",
       "96     0.001642  0.005175  0.002520  0.000904  0.989759\n",
       "97     0.001098  0.002812  0.000454  0.000220  0.995417\n",
       "\n",
       "[98 rows x 5 columns]"
      ]
     },
     "execution_count": 7,
     "metadata": {},
     "output_type": "execute_result"
    }
   ],
   "source": [
    "# What are the predicted probabilities of each sleep stage at each epoch?\n",
    "sls.predict_proba()"
   ]
  },
  {
   "cell_type": "code",
   "execution_count": 8,
   "metadata": {},
   "outputs": [
    {
     "data": {
      "image/png": "[encoded data removed]",
      "text/plain": [
       "<Figure size 720x360 with 1 Axes>"
      ]
     },
     "metadata": {
      "needs_background": "light"
     },
     "output_type": "display_data"
    }
   ],
   "source": [
    "# Plot the predicted probabilities\n",
    "sls.plot_predict_proba();"
   ]
  },
  {
   "cell_type": "code",
   "execution_count": 9,
   "metadata": {},
   "outputs": [
    {
     "data": {
      "text/plain": [
       "epoch\n",
       "0     0.939969\n",
       "1     0.868840\n",
       "2     0.978806\n",
       "3     0.980364\n",
       "4     0.957343\n",
       "        ...   \n",
       "93    0.619264\n",
       "94    0.575573\n",
       "95    0.921425\n",
       "96    0.989759\n",
       "97    0.995417\n",
       "Length: 98, dtype: float64"
      ]
     },
     "execution_count": 9,
     "metadata": {},
     "output_type": "execute_result"
    }
   ],
   "source": [
    "# From the probabilities, we can extract a confidence level (ranging from 0 to 1) for each epoch.\n",
    "confidence = sls.predict_proba().max(1)\n",
    "confidence"
   ]
  },
  {
   "cell_type": "markdown",
   "metadata": {},
   "source": [
    "**Exporting to a CSV file**"
   ]
  },
  {
   "cell_type": "code",
   "execution_count": 10,
   "metadata": {},
   "outputs": [
    {
     "data": {
      "text/html": [
       "<div>\n",
       "<style scoped>\n",
       "    .dataframe tbody tr th:only-of-type {\n",
       "        vertical-align: middle;\n",
       "    }\n",
       "\n",
       "    .dataframe tbody tr th {\n",
       "        vertical-align: top;\n",
       "    }\n",
       "\n",
       "    .dataframe thead th {\n",
       "        text-align: right;\n",
       "    }\n",
       "</style>\n",
       "<table border=\"1\" class=\"dataframe\">\n",
       "  <thead>\n",
       "    <tr style=\"text-align: right;\">\n",
       "      <th></th>\n",
       "      <th>Stage</th>\n",
       "      <th>Confidence</th>\n",
       "    </tr>\n",
       "    <tr>\n",
       "      <th>epoch</th>\n",
       "      <th></th>\n",
       "      <th></th>\n",
       "    </tr>\n",
       "  </thead>\n",
       "  <tbody>\n",
       "    <tr>\n",
       "      <th>0</th>\n",
       "      <td>W</td>\n",
       "      <td>0.939969</td>\n",
       "    </tr>\n",
       "    <tr>\n",
       "      <th>1</th>\n",
       "      <td>W</td>\n",
       "      <td>0.868840</td>\n",
       "    </tr>\n",
       "    <tr>\n",
       "      <th>2</th>\n",
       "      <td>W</td>\n",
       "      <td>0.978806</td>\n",
       "    </tr>\n",
       "    <tr>\n",
       "      <th>3</th>\n",
       "      <td>W</td>\n",
       "      <td>0.980364</td>\n",
       "    </tr>\n",
       "    <tr>\n",
       "      <th>4</th>\n",
       "      <td>W</td>\n",
       "      <td>0.957343</td>\n",
       "    </tr>\n",
       "    <tr>\n",
       "      <th>5</th>\n",
       "      <td>W</td>\n",
       "      <td>0.974039</td>\n",
       "    </tr>\n",
       "  </tbody>\n",
       "</table>\n",
       "</div>"
      ],
      "text/plain": [
       "      Stage  Confidence\n",
       "epoch                  \n",
       "0         W    0.939969\n",
       "1         W    0.868840\n",
       "2         W    0.978806\n",
       "3         W    0.980364\n",
       "4         W    0.957343\n",
       "5         W    0.974039"
      ]
     },
     "execution_count": 10,
     "metadata": {},
     "output_type": "execute_result"
    }
   ],
   "source": [
    "# Let's first create a dataframe with the predicted stages and confidence\n",
    "df_pred = pd.DataFrame({'Stage': y_pred, 'Confidence': confidence})\n",
    "df_pred.head(6)\n",
    "\n",
    "# Now export to a CSV file\n",
    "# df_pred.to_csv(\"my_hypno.csv\")"
   ]
  },
  {
   "cell_type": "markdown",
   "metadata": {},
   "source": [
    "**Applying the detection using only a single EEG derivation**"
   ]
  },
  {
   "cell_type": "code",
   "execution_count": 11,
   "metadata": {},
   "outputs": [
    {
     "data": {
      "text/plain": [
       "array(['W', 'W', 'W', 'W', 'W', 'W', 'W', 'W', 'W', 'W', 'W', 'W', 'W',\n",
       "       'W', 'N2', 'W', 'N2', 'W', 'W', 'W', 'W', 'W', 'W', 'W', 'W', 'W',\n",
       "       'W', 'W', 'W', 'N1', 'N1', 'W', 'N1', 'N1', 'N1', 'N2', 'N2', 'N2',\n",
       "       'N2', 'N2', 'N2', 'N2', 'N2', 'N2', 'N2', 'N2', 'N2', 'N2', 'N2',\n",
       "       'N2', 'N2', 'N2', 'N2', 'N2', 'N2', 'N2', 'N2', 'N2', 'N2', 'N2',\n",
       "       'N2', 'N2', 'N2', 'N2', 'N2', 'N2', 'N2', 'N2', 'N2', 'N2', 'N3',\n",
       "       'N2', 'N2', 'N3', 'N2', 'N2', 'N3', 'N2', 'N3', 'N2', 'N2', 'N3',\n",
       "       'N3', 'N3', 'N3', 'N3', 'N3', 'N3', 'N3', 'N3', 'N3', 'N3', 'N3',\n",
       "       'N3', 'N3', 'W', 'W', 'W'], dtype=object)"
      ]
     },
     "execution_count": 11,
     "metadata": {},
     "output_type": "execute_result"
    }
   ],
   "source": [
    "# Using just an EEG channel (= no EOG or EMG)\n",
    "y_pred = yasa.SleepStaging(raw, eeg_name=\"C4\").predict()\n",
    "y_pred"
   ]
  }
 ],
 "metadata": {
  "kernelspec": {
   "display_name": "Python 3",
   "language": "python",
   "name": "python3"
  },
  "language_info": {
   "codemirror_mode": {
    "name": "ipython",
    "version": 3
   },
   "file_extension": ".py",
   "mimetype": "text/x-python",
   "name": "python",
   "nbconvert_exporter": "python",
   "pygments_lexer": "ipython3",
   "version": "3.8.3"
  }
 },
 "nbformat": 4,
 "nbformat_minor": 4
}
