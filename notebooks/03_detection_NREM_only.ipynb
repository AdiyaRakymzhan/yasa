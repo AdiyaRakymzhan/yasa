{
 "cells": [
  {
   "cell_type": "markdown",
   "metadata": {},
   "source": [
    "# YASA\n",
    "\n",
    "This notebook demonstrates how to apply the detection only on **NREM sleep** by providing an hypnogram (= sleep stage vector) to YASA.\n",
    "\n",
    "Please make sure to install YASA first by typing the following line in your terminal or command prompt:\n",
    "\n",
    "`pip install --upgrade yasa`\n",
    "\n",
    "\n",
    "## Load the data and hypnogram\n",
    "\n",
    "We first load a full-night 3-channels dataset (Cz, Fz, Pz) sampled at 100 Hz. The data is in compressed NumPy format (*.npz*)."
   ]
  },
  {
   "cell_type": "code",
   "execution_count": 1,
   "metadata": {},
   "outputs": [
    {
     "name": "stderr",
     "output_type": "stream",
     "text": [
      "D:\\Programs\\Anaconda\\lib\\site-packages\\vispy-0.5.3-py3.6.egg\\vispy\\visuals\\isocurve.py:22: UserWarning: VisPy is not yet compatible with matplotlib 2.2+\n",
      "  warnings.warn(\"VisPy is not yet compatible with matplotlib 2.2+\")\n"
     ]
    },
    {
     "name": "stdout",
     "output_type": "stream",
     "text": [
      "(3, 2161058) ['Cz' 'Fz' 'Pz']\n",
      "[[15.797 22.307 39.922 25.657 27.094]\n",
      " [16.896 26.385 40.966 21.833 24.456]\n",
      " [ 5.899 14.297 36.592 26.094 23.395]]\n"
     ]
    }
   ],
   "source": [
    "import yasa\n",
    "import numpy as np\n",
    "import pandas as pd\n",
    "import seaborn as sns\n",
    "from visbrain.io import read_hypno, oversample_hypno\n",
    "sns.set(context='notebook', font_scale=1.3)\n",
    "\n",
    "# Load data\n",
    "f = np.load('data_full_6hrs_100Hz_Cz+Fz+Pz.npz')\n",
    "data, ch_names = f['data'], f['chan']\n",
    "sf = 100.\n",
    "times = np.arange(data.size) / sf\n",
    "\n",
    "print(data.shape, ch_names)\n",
    "print(np.round(data[:, 0:5], 3))"
   ]
  },
  {
   "cell_type": "markdown",
   "metadata": {},
   "source": [
    "**Hypnogram**\n",
    "\n",
    "Next, we load the sleep staging vector (a.k.a hypnogram). To do so, we use [Visbrain](http://visbrain.org/sleep)'s built-in functions. Please see [here](http://visbrain.org/sleep.html#hypnogram) to read more about hypnogram format and loading in Visbrain.\n",
    "\n",
    "In the code below, we first load a 30-seconds encoded stage vector (`hypno_30s`) and over-sample it to have the same size as the data (i.e. one point per data sample). This yields a NumPy array (`hypno`) where:\n",
    "- 0 = Wake\n",
    "- 1 = N1 sleep\n",
    "- 2 = N2 sleep\n",
    "- 3 = N3 sleep\n",
    "- 4 = REM sleep\n",
    "\n",
    "The detection will ONLY work if your hypnogram is formatted EXACTLY like the above, i.e. an integer list or array with the same size as your data and where each integer corresponds to a specific sleep stage."
   ]
  },
  {
   "cell_type": "code",
   "execution_count": 2,
   "metadata": {},
   "outputs": [
    {
     "name": "stderr",
     "output_type": "stream",
     "text": [
      "Hypnogram successfully loaded (data_full_6hrs_100Hz_hypno.hyp)\n",
      "18-Feb-19 12:33:55 | \u001b[1;37mINFO\u001b[0m | Hypnogram successfully loaded (data_full_6hrs_100Hz_hypno.hyp)\n"
     ]
    },
    {
     "name": "stdout",
     "output_type": "stream",
     "text": [
      "(2161058,)\n",
      "Unique values = [0 1 2 3 4]\n"
     ]
    }
   ],
   "source": [
    "hypno_30s, _ = read_hypno('data_full_6hrs_100Hz_hypno.hyp')\n",
    "hypno = oversample_hypno(hypno_30s, data.shape[1])\n",
    "\n",
    "# Alternatively, if you do not have Visbrain:\n",
    "# hypno = np.load('data_full_6hrs_100Hz_hypno.npz').get('hypno')\n",
    "\n",
    "print(hypno.shape)\n",
    "print('Unique values =', np.unique(hypno))"
   ]
  },
  {
   "cell_type": "markdown",
   "metadata": {},
   "source": [
    "*************\n",
    "\n",
    "**Applying the detection on NREM sleep only**\n",
    "\n",
    "To apply the multi-channel detection, we use the `yasa.spindles_detect_multi` function. Please check [01_spindles_detection_multi.ipynb](01_spindles_detection_multi.ipynb) for more details. We also pass the hypnogram vector to restrain the detection to NREM sleep epochs (stage 1, 2 and 3)."
   ]
  },
  {
   "cell_type": "code",
   "execution_count": 3,
   "metadata": {},
   "outputs": [
    {
     "name": "stdout",
     "output_type": "stream",
     "text": [
      "1830 spindles detected.\n"
     ]
    },
    {
     "data": {
      "text/html": [
       "<div>\n",
       "<style scoped>\n",
       "    .dataframe tbody tr th:only-of-type {\n",
       "        vertical-align: middle;\n",
       "    }\n",
       "\n",
       "    .dataframe tbody tr th {\n",
       "        vertical-align: top;\n",
       "    }\n",
       "\n",
       "    .dataframe thead th {\n",
       "        text-align: right;\n",
       "    }\n",
       "</style>\n",
       "<table border=\"1\" class=\"dataframe\">\n",
       "  <thead>\n",
       "    <tr style=\"text-align: right;\">\n",
       "      <th></th>\n",
       "      <th>Start</th>\n",
       "      <th>End</th>\n",
       "      <th>Duration</th>\n",
       "      <th>Amplitude</th>\n",
       "      <th>RMS</th>\n",
       "      <th>AbsPower</th>\n",
       "      <th>RelPower</th>\n",
       "      <th>Frequency</th>\n",
       "      <th>Oscillations</th>\n",
       "      <th>Symmetry</th>\n",
       "      <th>Stage</th>\n",
       "      <th>Channel</th>\n",
       "      <th>IdxChannel</th>\n",
       "    </tr>\n",
       "  </thead>\n",
       "  <tbody>\n",
       "    <tr>\n",
       "      <th>0</th>\n",
       "      <td>522.56</td>\n",
       "      <td>523.78</td>\n",
       "      <td>1.22</td>\n",
       "      <td>45.810</td>\n",
       "      <td>10.952</td>\n",
       "      <td>2.139</td>\n",
       "      <td>0.475</td>\n",
       "      <td>13.068</td>\n",
       "      <td>16.0</td>\n",
       "      <td>0.179</td>\n",
       "      <td>2</td>\n",
       "      <td>Cz</td>\n",
       "      <td>0</td>\n",
       "    </tr>\n",
       "    <tr>\n",
       "      <th>1</th>\n",
       "      <td>585.54</td>\n",
       "      <td>586.38</td>\n",
       "      <td>0.84</td>\n",
       "      <td>59.683</td>\n",
       "      <td>13.335</td>\n",
       "      <td>2.257</td>\n",
       "      <td>0.476</td>\n",
       "      <td>12.958</td>\n",
       "      <td>10.0</td>\n",
       "      <td>0.647</td>\n",
       "      <td>2</td>\n",
       "      <td>Cz</td>\n",
       "      <td>0</td>\n",
       "    </tr>\n",
       "    <tr>\n",
       "      <th>2</th>\n",
       "      <td>598.09</td>\n",
       "      <td>599.52</td>\n",
       "      <td>1.43</td>\n",
       "      <td>79.858</td>\n",
       "      <td>16.234</td>\n",
       "      <td>2.377</td>\n",
       "      <td>0.424</td>\n",
       "      <td>12.889</td>\n",
       "      <td>19.0</td>\n",
       "      <td>0.368</td>\n",
       "      <td>2</td>\n",
       "      <td>Cz</td>\n",
       "      <td>0</td>\n",
       "    </tr>\n",
       "    <tr>\n",
       "      <th>3</th>\n",
       "      <td>604.37</td>\n",
       "      <td>605.08</td>\n",
       "      <td>0.71</td>\n",
       "      <td>60.637</td>\n",
       "      <td>12.875</td>\n",
       "      <td>2.222</td>\n",
       "      <td>0.355</td>\n",
       "      <td>12.648</td>\n",
       "      <td>9.0</td>\n",
       "      <td>0.500</td>\n",
       "      <td>2</td>\n",
       "      <td>Cz</td>\n",
       "      <td>0</td>\n",
       "    </tr>\n",
       "    <tr>\n",
       "      <th>4</th>\n",
       "      <td>607.53</td>\n",
       "      <td>608.05</td>\n",
       "      <td>0.52</td>\n",
       "      <td>50.211</td>\n",
       "      <td>13.847</td>\n",
       "      <td>2.358</td>\n",
       "      <td>0.258</td>\n",
       "      <td>13.452</td>\n",
       "      <td>6.0</td>\n",
       "      <td>0.849</td>\n",
       "      <td>2</td>\n",
       "      <td>Cz</td>\n",
       "      <td>0</td>\n",
       "    </tr>\n",
       "  </tbody>\n",
       "</table>\n",
       "</div>"
      ],
      "text/plain": [
       "    Start     End  Duration  Amplitude     RMS  AbsPower  RelPower  Frequency  \\\n",
       "0  522.56  523.78      1.22     45.810  10.952     2.139     0.475     13.068   \n",
       "1  585.54  586.38      0.84     59.683  13.335     2.257     0.476     12.958   \n",
       "2  598.09  599.52      1.43     79.858  16.234     2.377     0.424     12.889   \n",
       "3  604.37  605.08      0.71     60.637  12.875     2.222     0.355     12.648   \n",
       "4  607.53  608.05      0.52     50.211  13.847     2.358     0.258     13.452   \n",
       "\n",
       "   Oscillations  Symmetry Stage Channel  IdxChannel  \n",
       "0          16.0     0.179     2      Cz           0  \n",
       "1          10.0     0.647     2      Cz           0  \n",
       "2          19.0     0.368     2      Cz           0  \n",
       "3           9.0     0.500     2      Cz           0  \n",
       "4           6.0     0.849     2      Cz           0  "
      ]
     },
     "execution_count": 3,
     "metadata": {},
     "output_type": "execute_result"
    }
   ],
   "source": [
    "sp = yasa.spindles_detect_multi(data, sf, ch_names=ch_names, hypno=hypno)\n",
    "print(sp.shape[0], 'spindles detected.')\n",
    "sp.head().round(3)"
   ]
  },
  {
   "cell_type": "code",
   "execution_count": 4,
   "metadata": {},
   "outputs": [
    {
     "data": {
      "text/plain": [
       "Channel  Stage\n",
       "Cz       1          1\n",
       "         2        620\n",
       "         3         24\n",
       "Fz       1          1\n",
       "         2        502\n",
       "         3         15\n",
       "Pz       1          2\n",
       "         2        650\n",
       "         3         15\n",
       "Name: Start, dtype: int64"
      ]
     },
     "execution_count": 4,
     "metadata": {},
     "output_type": "execute_result"
    }
   ],
   "source": [
    "# We now print the number of spindles detected per channel and sleep stage\n",
    "sp.groupby(['Channel', 'Stage'])['Start'].count()"
   ]
  },
  {
   "cell_type": "markdown",
   "metadata": {},
   "source": [
    "**Let's compare with the detection on the whole recording**"
   ]
  },
  {
   "cell_type": "code",
   "execution_count": 5,
   "metadata": {},
   "outputs": [
    {
     "name": "stdout",
     "output_type": "stream",
     "text": [
      "1919 spindles detected.\n"
     ]
    },
    {
     "data": {
      "text/html": [
       "<div>\n",
       "<style scoped>\n",
       "    .dataframe tbody tr th:only-of-type {\n",
       "        vertical-align: middle;\n",
       "    }\n",
       "\n",
       "    .dataframe tbody tr th {\n",
       "        vertical-align: top;\n",
       "    }\n",
       "\n",
       "    .dataframe thead th {\n",
       "        text-align: right;\n",
       "    }\n",
       "</style>\n",
       "<table border=\"1\" class=\"dataframe\">\n",
       "  <thead>\n",
       "    <tr style=\"text-align: right;\">\n",
       "      <th></th>\n",
       "      <th>Start</th>\n",
       "      <th>End</th>\n",
       "      <th>Duration</th>\n",
       "      <th>Amplitude</th>\n",
       "      <th>RMS</th>\n",
       "      <th>AbsPower</th>\n",
       "      <th>RelPower</th>\n",
       "      <th>Frequency</th>\n",
       "      <th>Oscillations</th>\n",
       "      <th>Symmetry</th>\n",
       "      <th>Channel</th>\n",
       "      <th>IdxChannel</th>\n",
       "    </tr>\n",
       "  </thead>\n",
       "  <tbody>\n",
       "    <tr>\n",
       "      <th>0</th>\n",
       "      <td>522.54</td>\n",
       "      <td>523.79</td>\n",
       "      <td>1.25</td>\n",
       "      <td>45.509</td>\n",
       "      <td>10.850</td>\n",
       "      <td>2.131</td>\n",
       "      <td>0.470</td>\n",
       "      <td>13.083</td>\n",
       "      <td>16.0</td>\n",
       "      <td>0.190</td>\n",
       "      <td>Cz</td>\n",
       "      <td>0</td>\n",
       "    </tr>\n",
       "    <tr>\n",
       "      <th>1</th>\n",
       "      <td>585.51</td>\n",
       "      <td>586.38</td>\n",
       "      <td>0.87</td>\n",
       "      <td>59.435</td>\n",
       "      <td>13.185</td>\n",
       "      <td>2.255</td>\n",
       "      <td>0.473</td>\n",
       "      <td>12.946</td>\n",
       "      <td>11.0</td>\n",
       "      <td>0.659</td>\n",
       "      <td>Cz</td>\n",
       "      <td>0</td>\n",
       "    </tr>\n",
       "    <tr>\n",
       "      <th>2</th>\n",
       "      <td>598.06</td>\n",
       "      <td>599.54</td>\n",
       "      <td>1.48</td>\n",
       "      <td>79.922</td>\n",
       "      <td>15.977</td>\n",
       "      <td>2.373</td>\n",
       "      <td>0.421</td>\n",
       "      <td>12.889</td>\n",
       "      <td>19.0</td>\n",
       "      <td>0.376</td>\n",
       "      <td>Cz</td>\n",
       "      <td>0</td>\n",
       "    </tr>\n",
       "    <tr>\n",
       "      <th>3</th>\n",
       "      <td>604.36</td>\n",
       "      <td>605.12</td>\n",
       "      <td>0.76</td>\n",
       "      <td>60.649</td>\n",
       "      <td>12.520</td>\n",
       "      <td>2.209</td>\n",
       "      <td>0.350</td>\n",
       "      <td>12.646</td>\n",
       "      <td>9.0</td>\n",
       "      <td>0.481</td>\n",
       "      <td>Cz</td>\n",
       "      <td>0</td>\n",
       "    </tr>\n",
       "    <tr>\n",
       "      <th>4</th>\n",
       "      <td>607.53</td>\n",
       "      <td>608.05</td>\n",
       "      <td>0.52</td>\n",
       "      <td>50.211</td>\n",
       "      <td>13.847</td>\n",
       "      <td>2.358</td>\n",
       "      <td>0.258</td>\n",
       "      <td>13.452</td>\n",
       "      <td>6.0</td>\n",
       "      <td>0.849</td>\n",
       "      <td>Cz</td>\n",
       "      <td>0</td>\n",
       "    </tr>\n",
       "  </tbody>\n",
       "</table>\n",
       "</div>"
      ],
      "text/plain": [
       "    Start     End  Duration  Amplitude     RMS  AbsPower  RelPower  Frequency  \\\n",
       "0  522.54  523.79      1.25     45.509  10.850     2.131     0.470     13.083   \n",
       "1  585.51  586.38      0.87     59.435  13.185     2.255     0.473     12.946   \n",
       "2  598.06  599.54      1.48     79.922  15.977     2.373     0.421     12.889   \n",
       "3  604.36  605.12      0.76     60.649  12.520     2.209     0.350     12.646   \n",
       "4  607.53  608.05      0.52     50.211  13.847     2.358     0.258     13.452   \n",
       "\n",
       "   Oscillations  Symmetry Channel  IdxChannel  \n",
       "0          16.0     0.190      Cz           0  \n",
       "1          11.0     0.659      Cz           0  \n",
       "2          19.0     0.376      Cz           0  \n",
       "3           9.0     0.481      Cz           0  \n",
       "4           6.0     0.849      Cz           0  "
      ]
     },
     "execution_count": 5,
     "metadata": {},
     "output_type": "execute_result"
    }
   ],
   "source": [
    "sp = yasa.spindles_detect_multi(data, sf, ch_names=ch_names)\n",
    "print(sp.shape[0], 'spindles detected.')\n",
    "sp.head().round(3)"
   ]
  },
  {
   "cell_type": "code",
   "execution_count": null,
   "metadata": {},
   "outputs": [],
   "source": []
  }
 ],
 "metadata": {
  "kernelspec": {
   "display_name": "Python 3",
   "language": "python",
   "name": "python3"
  },
  "language_info": {
   "codemirror_mode": {
    "name": "ipython",
    "version": 3
   },
   "file_extension": ".py",
   "mimetype": "text/x-python",
   "name": "python",
   "nbconvert_exporter": "python",
   "pygments_lexer": "ipython3",
   "version": "3.6.5"
  }
 },
 "nbformat": 4,
 "nbformat_minor": 2
}
