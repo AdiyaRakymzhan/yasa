{
 "cells": [
  {
   "cell_type": "markdown",
   "metadata": {},
   "source": [
    "# YASA\n",
    "\n",
    "This notebook demonstrates how to use YASA to perform **multi-channels slow-waves detection** from a NumPy array (example 1) or a MNE Raw object (example 2).\n",
    "\n",
    "Please make sure to install YASA first by typing the following line in your terminal or command prompt:\n",
    "\n",
    "`pip install --upgrade yasa`\n",
    "\n",
    "**Important**\n",
    "- The data must be a numpy array of shape *(n_channels, n_samples)*.\n",
    "- The sampling frequency `sf` must be the same for all channels.\n",
    "- A list of the channel names (`ch_names`) must be provided as well.\n",
    "- The unit of the data must be $\\mu V$. Note that the default unit in [MNE](https://martinos.org/mne/dev/generated/mne.io.Raw.html) is $V$. Therefore, if you use MNE, you must multiply your data by 1e6 (1 $V$ = 1,000,000 $\\mu V$).\n",
    "\n",
    "## Example 1: Using NumPy\n",
    "\n",
    "To illustrate the multi-channel slow-waves detection, we load a full-night 3-channels dataset (Cz, Fz, Pz) sampled at 100 Hz. The data is in compressed NumPy format (*.npz*)."
   ]
  },
  {
   "cell_type": "code",
   "execution_count": 1,
   "metadata": {},
   "outputs": [
    {
     "name": "stderr",
     "output_type": "stream",
     "text": [
      "C:\\Users\\Raphael\\AppData\\Local\\Continuum\\anaconda3\\lib\\site-packages\\numba\\decorators.py:146: RuntimeWarning: Caching is not available when the 'parallel' target is in use. Caching is now being disabled to allow execution to continue.\n",
      "  warnings.warn(msg, RuntimeWarning)\n"
     ]
    },
    {
     "name": "stdout",
     "output_type": "stream",
     "text": [
      "(3, 2161058) ['Cz' 'Fz' 'Pz']\n",
      "[[15.797 22.307 39.922 25.657 27.094]\n",
      " [16.896 26.385 40.966 21.833 24.456]\n",
      " [ 5.899 14.297 36.592 26.094 23.395]]\n"
     ]
    }
   ],
   "source": [
    "import yasa\n",
    "import numpy as np\n",
    "\n",
    "# Load data\n",
    "f = np.load('data_full_6hrs_100Hz_Cz+Fz+Pz.npz')\n",
    "data, chan = f['data'], f['chan']\n",
    "sf = 100.\n",
    "times = np.arange(data.size) / sf\n",
    "\n",
    "print(data.shape, chan)\n",
    "print(np.round(data[:, 0:5], 3))"
   ]
  },
  {
   "cell_type": "markdown",
   "metadata": {},
   "source": [
    "*************\n",
    "\n",
    "**Applying the detection**\n",
    "\n",
    "To apply the multi-channel detection, we use the [sw_detect_multi](https://raphaelvallat.com/yasa/build/html/generated/yasa.spindles_detect_multi.html#yasa.spindles_detect_multi) function."
   ]
  },
  {
   "cell_type": "code",
   "execution_count": 2,
   "metadata": {},
   "outputs": [
    {
     "name": "stdout",
     "output_type": "stream",
     "text": [
      "8353 slow-waves detected.\n"
     ]
    },
    {
     "data": {
      "text/html": [
       "<div>\n",
       "<style scoped>\n",
       "    .dataframe tbody tr th:only-of-type {\n",
       "        vertical-align: middle;\n",
       "    }\n",
       "\n",
       "    .dataframe tbody tr th {\n",
       "        vertical-align: top;\n",
       "    }\n",
       "\n",
       "    .dataframe thead th {\n",
       "        text-align: right;\n",
       "    }\n",
       "</style>\n",
       "<table border=\"1\" class=\"dataframe\">\n",
       "  <thead>\n",
       "    <tr style=\"text-align: right;\">\n",
       "      <th></th>\n",
       "      <th>Start</th>\n",
       "      <th>NegPeak</th>\n",
       "      <th>MidCrossing</th>\n",
       "      <th>PosPeak</th>\n",
       "      <th>End</th>\n",
       "      <th>Duration</th>\n",
       "      <th>ValNegPeak</th>\n",
       "      <th>ValPosPeak</th>\n",
       "      <th>PTP</th>\n",
       "      <th>Slope</th>\n",
       "      <th>Frequency</th>\n",
       "      <th>Channel</th>\n",
       "      <th>IdxChannel</th>\n",
       "    </tr>\n",
       "  </thead>\n",
       "  <tbody>\n",
       "    <tr>\n",
       "      <td>0</td>\n",
       "      <td>79.94</td>\n",
       "      <td>80.11</td>\n",
       "      <td>80.79</td>\n",
       "      <td>80.91</td>\n",
       "      <td>81.27</td>\n",
       "      <td>1.33</td>\n",
       "      <td>-56.394</td>\n",
       "      <td>25.713</td>\n",
       "      <td>82.108</td>\n",
       "      <td>120.746</td>\n",
       "      <td>0.752</td>\n",
       "      <td>Cz</td>\n",
       "      <td>0</td>\n",
       "    </tr>\n",
       "    <tr>\n",
       "      <td>1</td>\n",
       "      <td>91.25</td>\n",
       "      <td>91.72</td>\n",
       "      <td>92.03</td>\n",
       "      <td>92.17</td>\n",
       "      <td>92.33</td>\n",
       "      <td>1.08</td>\n",
       "      <td>-48.297</td>\n",
       "      <td>29.271</td>\n",
       "      <td>77.568</td>\n",
       "      <td>250.219</td>\n",
       "      <td>0.926</td>\n",
       "      <td>Cz</td>\n",
       "      <td>0</td>\n",
       "    </tr>\n",
       "    <tr>\n",
       "      <td>2</td>\n",
       "      <td>99.11</td>\n",
       "      <td>99.91</td>\n",
       "      <td>100.26</td>\n",
       "      <td>100.45</td>\n",
       "      <td>100.59</td>\n",
       "      <td>1.48</td>\n",
       "      <td>-59.855</td>\n",
       "      <td>91.428</td>\n",
       "      <td>151.283</td>\n",
       "      <td>432.237</td>\n",
       "      <td>0.676</td>\n",
       "      <td>Cz</td>\n",
       "      <td>0</td>\n",
       "    </tr>\n",
       "    <tr>\n",
       "      <td>3</td>\n",
       "      <td>100.59</td>\n",
       "      <td>101.01</td>\n",
       "      <td>101.19</td>\n",
       "      <td>101.31</td>\n",
       "      <td>101.44</td>\n",
       "      <td>0.85</td>\n",
       "      <td>-127.073</td>\n",
       "      <td>66.482</td>\n",
       "      <td>193.555</td>\n",
       "      <td>1075.303</td>\n",
       "      <td>1.176</td>\n",
       "      <td>Cz</td>\n",
       "      <td>0</td>\n",
       "    </tr>\n",
       "    <tr>\n",
       "      <td>4</td>\n",
       "      <td>426.67</td>\n",
       "      <td>427.09</td>\n",
       "      <td>427.24</td>\n",
       "      <td>427.36</td>\n",
       "      <td>427.65</td>\n",
       "      <td>0.98</td>\n",
       "      <td>-109.979</td>\n",
       "      <td>47.775</td>\n",
       "      <td>157.753</td>\n",
       "      <td>1051.689</td>\n",
       "      <td>1.020</td>\n",
       "      <td>Cz</td>\n",
       "      <td>0</td>\n",
       "    </tr>\n",
       "  </tbody>\n",
       "</table>\n",
       "</div>"
      ],
      "text/plain": [
       "    Start  NegPeak  MidCrossing  PosPeak     End  Duration  ValNegPeak  \\\n",
       "0   79.94    80.11        80.79    80.91   81.27      1.33     -56.394   \n",
       "1   91.25    91.72        92.03    92.17   92.33      1.08     -48.297   \n",
       "2   99.11    99.91       100.26   100.45  100.59      1.48     -59.855   \n",
       "3  100.59   101.01       101.19   101.31  101.44      0.85    -127.073   \n",
       "4  426.67   427.09       427.24   427.36  427.65      0.98    -109.979   \n",
       "\n",
       "   ValPosPeak      PTP     Slope  Frequency Channel  IdxChannel  \n",
       "0      25.713   82.108   120.746      0.752      Cz           0  \n",
       "1      29.271   77.568   250.219      0.926      Cz           0  \n",
       "2      91.428  151.283   432.237      0.676      Cz           0  \n",
       "3      66.482  193.555  1075.303      1.176      Cz           0  \n",
       "4      47.775  157.753  1051.689      1.020      Cz           0  "
      ]
     },
     "execution_count": 2,
     "metadata": {},
     "output_type": "execute_result"
    }
   ],
   "source": [
    "sw = yasa.sw_detect_multi(data, sf, ch_names=chan)\n",
    "print(sw.shape[0], 'slow-waves detected.')\n",
    "sw.head().round(3)"
   ]
  },
  {
   "cell_type": "code",
   "execution_count": 3,
   "metadata": {},
   "outputs": [
    {
     "data": {
      "text/plain": [
       "Fz    2863\n",
       "Cz    2831\n",
       "Pz    2659\n",
       "Name: Channel, dtype: int64"
      ]
     },
     "metadata": {},
     "output_type": "display_data"
    },
    {
     "data": {
      "text/html": [
       "<div>\n",
       "<style scoped>\n",
       "    .dataframe tbody tr th:only-of-type {\n",
       "        vertical-align: middle;\n",
       "    }\n",
       "\n",
       "    .dataframe tbody tr th {\n",
       "        vertical-align: top;\n",
       "    }\n",
       "\n",
       "    .dataframe thead th {\n",
       "        text-align: right;\n",
       "    }\n",
       "</style>\n",
       "<table border=\"1\" class=\"dataframe\">\n",
       "  <thead>\n",
       "    <tr style=\"text-align: right;\">\n",
       "      <th></th>\n",
       "      <th>Start</th>\n",
       "      <th>NegPeak</th>\n",
       "      <th>MidCrossing</th>\n",
       "      <th>PosPeak</th>\n",
       "      <th>End</th>\n",
       "      <th>Duration</th>\n",
       "      <th>ValNegPeak</th>\n",
       "      <th>ValPosPeak</th>\n",
       "      <th>PTP</th>\n",
       "      <th>Slope</th>\n",
       "      <th>Frequency</th>\n",
       "      <th>IdxChannel</th>\n",
       "    </tr>\n",
       "    <tr>\n",
       "      <th>Channel</th>\n",
       "      <th></th>\n",
       "      <th></th>\n",
       "      <th></th>\n",
       "      <th></th>\n",
       "      <th></th>\n",
       "      <th></th>\n",
       "      <th></th>\n",
       "      <th></th>\n",
       "      <th></th>\n",
       "      <th></th>\n",
       "      <th></th>\n",
       "      <th></th>\n",
       "    </tr>\n",
       "  </thead>\n",
       "  <tbody>\n",
       "    <tr>\n",
       "      <td>Cz</td>\n",
       "      <td>9129.35</td>\n",
       "      <td>9129.63</td>\n",
       "      <td>9129.90</td>\n",
       "      <td>9130.11</td>\n",
       "      <td>9130.41</td>\n",
       "      <td>1.06</td>\n",
       "      <td>-89.35</td>\n",
       "      <td>60.23</td>\n",
       "      <td>149.58</td>\n",
       "      <td>684.00</td>\n",
       "      <td>1.04</td>\n",
       "      <td>0</td>\n",
       "    </tr>\n",
       "    <tr>\n",
       "      <td>Fz</td>\n",
       "      <td>8854.94</td>\n",
       "      <td>8855.21</td>\n",
       "      <td>8855.46</td>\n",
       "      <td>8855.67</td>\n",
       "      <td>8855.99</td>\n",
       "      <td>1.05</td>\n",
       "      <td>-92.79</td>\n",
       "      <td>55.98</td>\n",
       "      <td>148.77</td>\n",
       "      <td>703.64</td>\n",
       "      <td>1.04</td>\n",
       "      <td>1</td>\n",
       "    </tr>\n",
       "    <tr>\n",
       "      <td>Pz</td>\n",
       "      <td>8955.23</td>\n",
       "      <td>8955.51</td>\n",
       "      <td>8955.79</td>\n",
       "      <td>8956.03</td>\n",
       "      <td>8956.33</td>\n",
       "      <td>1.10</td>\n",
       "      <td>-84.61</td>\n",
       "      <td>60.91</td>\n",
       "      <td>145.52</td>\n",
       "      <td>635.01</td>\n",
       "      <td>1.00</td>\n",
       "      <td>2</td>\n",
       "    </tr>\n",
       "  </tbody>\n",
       "</table>\n",
       "</div>"
      ],
      "text/plain": [
       "           Start  NegPeak  MidCrossing  PosPeak      End  Duration  \\\n",
       "Channel                                                              \n",
       "Cz       9129.35  9129.63      9129.90  9130.11  9130.41      1.06   \n",
       "Fz       8854.94  8855.21      8855.46  8855.67  8855.99      1.05   \n",
       "Pz       8955.23  8955.51      8955.79  8956.03  8956.33      1.10   \n",
       "\n",
       "         ValNegPeak  ValPosPeak     PTP   Slope  Frequency  IdxChannel  \n",
       "Channel                                                                 \n",
       "Cz           -89.35       60.23  149.58  684.00       1.04           0  \n",
       "Fz           -92.79       55.98  148.77  703.64       1.04           1  \n",
       "Pz           -84.61       60.91  145.52  635.01       1.00           2  "
      ]
     },
     "metadata": {},
     "output_type": "display_data"
    }
   ],
   "source": [
    "# We print the number of slow-waves detected per channel, as well as the mean slow-waves properties per channel.\n",
    "display(sw['Channel'].value_counts())\n",
    "display(sw.groupby('Channel').mean().round(2))"
   ]
  },
  {
   "cell_type": "code",
   "execution_count": 4,
   "metadata": {},
   "outputs": [
    {
     "name": "stdout",
     "output_type": "stream",
     "text": [
      "[302270 302275 293299]\n",
      "[[0 0 0 ... 0 0 0]\n",
      " [0 0 0 ... 0 0 0]\n",
      " [0 0 0 ... 0 0 0]]\n"
     ]
    }
   ],
   "source": [
    "# For plotting purposes, we can easily extract a boolean vector that has the same size as the data\n",
    "bool_vector = yasa.get_bool_vector(data, sf, sw)\n",
    "print(bool_vector.sum(1))\n",
    "print(bool_vector)"
   ]
  },
  {
   "cell_type": "markdown",
   "metadata": {},
   "source": [
    "*************\n",
    "\n",
    "## Example 2: Using a Raw object from MNE-Python\n",
    "\n",
    "This example demonstrates how to manipulate [MNE Raw object](https://mne-tools.github.io/stable/generated/mne.io.Raw.html#mne.io.Raw). The MNE package has several [functions](https://mne-tools.github.io/stable/python_reference.html#module-mne.io) to load the most standard EEG file formats (EDF, BrainVision, EEGLab, FieldTrip...).\n",
    "\n",
    "### Load using MNE\n",
    "For the sake of this example, we'll load a PSG file encoded in the native MNE format (*.fif) using the [mne.io.read_raw_fif](https://martinos.org/mne/stable/generated/mne.io.read_raw_fif.html) function."
   ]
  },
  {
   "cell_type": "code",
   "execution_count": 5,
   "metadata": {},
   "outputs": [
    {
     "name": "stdout",
     "output_type": "stream",
     "text": [
      "Opening raw data file sub-02_mne_raw.fif...\n",
      "    Range : 0 ... 293999 =      0.000 ...  2939.990 secs\n",
      "Ready.\n",
      "Reading 0 ... 293999  =      0.000 ...  2939.990 secs...\n"
     ]
    }
   ],
   "source": [
    "import mne\n",
    "\n",
    "# Load the raw object\n",
    "raw = mne.io.read_raw_fif('sub-02_mne_raw.fif', preload=True)"
   ]
  },
  {
   "cell_type": "code",
   "execution_count": 6,
   "metadata": {},
   "outputs": [
    {
     "name": "stdout",
     "output_type": "stream",
     "text": [
      "Chan = ['F3', 'F4', 'C3', 'C4', 'O1', 'O2', 'EOG1', 'EOG2', 'EMG1']\n",
      "Sampling frequency = 100.0\n",
      "Data shape = (9, 294000)\n"
     ]
    }
   ],
   "source": [
    "# Let's have a look at the data\n",
    "print('Chan =', raw.ch_names)\n",
    "print('Sampling frequency =', raw.info['sfreq'])\n",
    "print('Data shape =', raw._data.shape)"
   ]
  },
  {
   "cell_type": "markdown",
   "metadata": {},
   "source": [
    "### Applying YASA"
   ]
  },
  {
   "cell_type": "code",
   "execution_count": 7,
   "metadata": {},
   "outputs": [
    {
     "name": "stdout",
     "output_type": "stream",
     "text": [
      "Chan = ['F3', 'F4', 'C3', 'C4']\n"
     ]
    }
   ],
   "source": [
    "# Keep only the channels of interests\n",
    "raw_eeg = raw.copy().pick_types(eeg=True).drop_channels(['O1', 'O2'])\n",
    "print('Chan =', raw_eeg.ch_names)"
   ]
  },
  {
   "cell_type": "code",
   "execution_count": 8,
   "metadata": {},
   "outputs": [
    {
     "name": "stdout",
     "output_type": "stream",
     "text": [
      "305 slow-waves detected.\n"
     ]
    },
    {
     "data": {
      "text/html": [
       "<div>\n",
       "<style scoped>\n",
       "    .dataframe tbody tr th:only-of-type {\n",
       "        vertical-align: middle;\n",
       "    }\n",
       "\n",
       "    .dataframe tbody tr th {\n",
       "        vertical-align: top;\n",
       "    }\n",
       "\n",
       "    .dataframe thead th {\n",
       "        text-align: right;\n",
       "    }\n",
       "</style>\n",
       "<table border=\"1\" class=\"dataframe\">\n",
       "  <thead>\n",
       "    <tr style=\"text-align: right;\">\n",
       "      <th></th>\n",
       "      <th>Start</th>\n",
       "      <th>NegPeak</th>\n",
       "      <th>MidCrossing</th>\n",
       "      <th>PosPeak</th>\n",
       "      <th>End</th>\n",
       "      <th>Duration</th>\n",
       "      <th>ValNegPeak</th>\n",
       "      <th>ValPosPeak</th>\n",
       "      <th>PTP</th>\n",
       "      <th>Slope</th>\n",
       "      <th>Frequency</th>\n",
       "      <th>Channel</th>\n",
       "      <th>IdxChannel</th>\n",
       "    </tr>\n",
       "  </thead>\n",
       "  <tbody>\n",
       "    <tr>\n",
       "      <td>0</td>\n",
       "      <td>0.35</td>\n",
       "      <td>0.69</td>\n",
       "      <td>0.82</td>\n",
       "      <td>0.95</td>\n",
       "      <td>1.14</td>\n",
       "      <td>0.79</td>\n",
       "      <td>-76.507</td>\n",
       "      <td>40.610</td>\n",
       "      <td>117.117</td>\n",
       "      <td>900.902</td>\n",
       "      <td>1.266</td>\n",
       "      <td>F3</td>\n",
       "      <td>0</td>\n",
       "    </tr>\n",
       "    <tr>\n",
       "      <td>1</td>\n",
       "      <td>15.60</td>\n",
       "      <td>15.77</td>\n",
       "      <td>16.04</td>\n",
       "      <td>16.19</td>\n",
       "      <td>16.56</td>\n",
       "      <td>0.96</td>\n",
       "      <td>-97.910</td>\n",
       "      <td>149.235</td>\n",
       "      <td>247.145</td>\n",
       "      <td>915.353</td>\n",
       "      <td>1.042</td>\n",
       "      <td>F3</td>\n",
       "      <td>0</td>\n",
       "    </tr>\n",
       "    <tr>\n",
       "      <td>2</td>\n",
       "      <td>38.04</td>\n",
       "      <td>38.20</td>\n",
       "      <td>38.35</td>\n",
       "      <td>38.45</td>\n",
       "      <td>38.56</td>\n",
       "      <td>0.52</td>\n",
       "      <td>-49.548</td>\n",
       "      <td>27.547</td>\n",
       "      <td>77.095</td>\n",
       "      <td>513.964</td>\n",
       "      <td>1.923</td>\n",
       "      <td>F3</td>\n",
       "      <td>0</td>\n",
       "    </tr>\n",
       "    <tr>\n",
       "      <td>3</td>\n",
       "      <td>38.56</td>\n",
       "      <td>38.88</td>\n",
       "      <td>38.98</td>\n",
       "      <td>39.11</td>\n",
       "      <td>39.26</td>\n",
       "      <td>0.70</td>\n",
       "      <td>-140.918</td>\n",
       "      <td>184.772</td>\n",
       "      <td>325.690</td>\n",
       "      <td>3256.902</td>\n",
       "      <td>1.429</td>\n",
       "      <td>F3</td>\n",
       "      <td>0</td>\n",
       "    </tr>\n",
       "    <tr>\n",
       "      <td>4</td>\n",
       "      <td>196.55</td>\n",
       "      <td>196.85</td>\n",
       "      <td>196.99</td>\n",
       "      <td>197.12</td>\n",
       "      <td>197.66</td>\n",
       "      <td>1.11</td>\n",
       "      <td>-77.365</td>\n",
       "      <td>45.152</td>\n",
       "      <td>122.517</td>\n",
       "      <td>875.122</td>\n",
       "      <td>0.901</td>\n",
       "      <td>F3</td>\n",
       "      <td>0</td>\n",
       "    </tr>\n",
       "  </tbody>\n",
       "</table>\n",
       "</div>"
      ],
      "text/plain": [
       "    Start  NegPeak  MidCrossing  PosPeak     End  Duration  ValNegPeak  \\\n",
       "0    0.35     0.69         0.82     0.95    1.14      0.79     -76.507   \n",
       "1   15.60    15.77        16.04    16.19   16.56      0.96     -97.910   \n",
       "2   38.04    38.20        38.35    38.45   38.56      0.52     -49.548   \n",
       "3   38.56    38.88        38.98    39.11   39.26      0.70    -140.918   \n",
       "4  196.55   196.85       196.99   197.12  197.66      1.11     -77.365   \n",
       "\n",
       "   ValPosPeak      PTP     Slope  Frequency Channel  IdxChannel  \n",
       "0      40.610  117.117   900.902      1.266      F3           0  \n",
       "1     149.235  247.145   915.353      1.042      F3           0  \n",
       "2      27.547   77.095   513.964      1.923      F3           0  \n",
       "3     184.772  325.690  3256.902      1.429      F3           0  \n",
       "4      45.152  122.517   875.122      0.901      F3           0  "
      ]
     },
     "execution_count": 8,
     "metadata": {},
     "output_type": "execute_result"
    }
   ],
   "source": [
    "# Multi-channel slow-waves detection\n",
    "# Note that since we're using a MNE Raw object, there is no need\n",
    "# to manually specify the sampling frequency and channel names.\n",
    "sw = yasa.sw_detect_multi(raw_eeg)\n",
    "print(sw.shape[0], 'slow-waves detected.')\n",
    "sw.head().round(3)"
   ]
  },
  {
   "cell_type": "code",
   "execution_count": 9,
   "metadata": {},
   "outputs": [
    {
     "name": "stdout",
     "output_type": "stream",
     "text": [
      "[ 9732 11304  6322  5396]\n",
      "[[0 0 0 ... 0 0 0]\n",
      " [0 0 0 ... 0 0 0]\n",
      " [0 0 0 ... 0 0 0]\n",
      " [0 0 0 ... 0 0 0]]\n"
     ]
    }
   ],
   "source": [
    "bool_vector = yasa.get_bool_vector(raw_eeg, detection=sw)\n",
    "print(bool_vector.sum(1))\n",
    "print(bool_vector)"
   ]
  }
 ],
 "metadata": {
  "kernelspec": {
   "display_name": "Python 3",
   "language": "python",
   "name": "python3"
  },
  "language_info": {
   "codemirror_mode": {
    "name": "ipython",
    "version": 3
   },
   "file_extension": ".py",
   "mimetype": "text/x-python",
   "name": "python",
   "nbconvert_exporter": "python",
   "pygments_lexer": "ipython3",
   "version": "3.6.5"
  }
 },
 "nbformat": 4,
 "nbformat_minor": 2
}
