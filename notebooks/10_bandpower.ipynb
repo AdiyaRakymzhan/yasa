{
 "cells": [
  {
   "cell_type": "markdown",
   "metadata": {},
   "source": [
    "# EEG bandpower\n",
    "\n",
    "This notebook demonstrates how to use YASA to calculate the spectral bandpower per channel and per sleep stage.\n",
    "\n",
    "Please make sure to install YASA first by typing the following line in your terminal or command prompt:\n",
    "\n",
    "`pip install --upgrade yasa`"
   ]
  },
  {
   "cell_type": "code",
   "execution_count": 1,
   "metadata": {},
   "outputs": [],
   "source": [
    "import mne\n",
    "import yasa\n",
    "import numpy as np\n",
    "import seaborn as sns\n",
    "import matplotlib.pyplot as plt\n",
    "sns.set(style='white', font_scale=1.2)"
   ]
  },
  {
   "cell_type": "markdown",
   "metadata": {},
   "source": [
    "## Data loading\n",
    "\n",
    "### EEG data\n",
    "\n",
    "Let's load ~45 min of mid-afternoon nap data (6 channels), sampled at 100 Hz. We use the [MNE library](https://mne.tools/stable/index.html), which includes various functions and utilities for reading EEG data and electrode locations. For a description of all the file formats supported by MNE, please refer to https://mne.tools/stable/manual/io.html#importing-data-from-eeg-devices\n",
    "\n",
    "Note that during loading, [MNE automatically scale the EEG data from microVolts (uV) to Volts](https://martinos.org/mne/dev/manual/io.html#id3). However, YASA requires the data to be in microVolts (uV), and therefore we need to reverse this scaling by multiplying our data by 1e6 (1 V = 1,000,000 uV)."
   ]
  },
  {
   "cell_type": "code",
   "execution_count": 2,
   "metadata": {},
   "outputs": [
    {
     "name": "stdout",
     "output_type": "stream",
     "text": [
      "Chan = ['F3', 'F4', 'C3', 'C4', 'O1', 'O2']\n",
      "Sampling frequency = 100.0 Hz\n",
      "Data shape = (6, 294000)\n"
     ]
    }
   ],
   "source": [
    "# Load data as a MNE Raw file\n",
    "raw = mne.io.read_raw_fif('sub-02_mne_raw.fif', preload=True, verbose=0)\n",
    "\n",
    "# Keep only the EEG channels\n",
    "raw.pick_types(eeg=True)\n",
    "\n",
    "# Apply a bandpass filter between 0.5 - 45 Hz\n",
    "raw.filter(0.5, 45)\n",
    "\n",
    "# Extract the data and convert from V to uV\n",
    "data = raw._data * 1e6\n",
    "sf = raw.info['sfreq']\n",
    "chan = raw.ch_names\n",
    "\n",
    "# Let's have a look at the data\n",
    "print('Chan =', chan)\n",
    "print('Sampling frequency =', sf, 'Hz')\n",
    "print('Data shape =', data.shape)"
   ]
  },
  {
   "cell_type": "markdown",
   "metadata": {},
   "source": [
    "### Hypnogram\n",
    "\n",
    "Let's now load the corresponding hypnogram (sleep staging) vector. In this case, the hypnogram is a simple text file in which one value represents 30 seconds of EEG data.\n",
    "\n",
    "The sleep stages are defined according to the [standard guidelines](https://aasm.org/clinical-resources/scoring-manual/):\n",
    "\n",
    "    W: Wake\n",
    "    N1: N1 sleep\n",
    "    N2: N2 sleep\n",
    "    N3: N3 sleep\n",
    "    R: REM sleep"
   ]
  },
  {
   "cell_type": "code",
   "execution_count": 3,
   "metadata": {},
   "outputs": [
    {
     "data": {
      "text/plain": [
       "array(['W', 'W', 'W', 'W', 'W', 'W', 'W', 'W', 'W', 'W', 'W', 'W', 'W',\n",
       "       'W', 'W', 'W', 'W', 'W', 'W', 'W', 'W', 'W', 'N1', 'W', 'W', 'W',\n",
       "       'W', 'N1', 'N1', 'N1', 'W', 'W', 'N1', 'N1', 'N1', 'N1', 'N2',\n",
       "       'N2', 'N2', 'W', 'N1', 'N2', 'N2', 'N2', 'N2', 'N2', 'N2', 'N2',\n",
       "       'N2', 'N2', 'N2', 'N2', 'N2', 'N2', 'N2', 'N2', 'N2', 'N2', 'N2',\n",
       "       'N2', 'N2', 'N2', 'N2', 'N2', 'N2', 'N2', 'N2', 'N2', 'N2', 'N3',\n",
       "       'N3', 'N3', 'N3', 'N3', 'N3', 'N3', 'N3', 'N3', 'N3', 'N3', 'N3',\n",
       "       'N3', 'N3', 'N3', 'N3', 'N3', 'N3', 'N3', 'N3', 'N3', 'N3', 'W',\n",
       "       'W', 'W', 'W', 'W', 'W', 'W'], dtype='<U2')"
      ]
     },
     "execution_count": 3,
     "metadata": {},
     "output_type": "execute_result"
    }
   ],
   "source": [
    "hypno = np.loadtxt('sub-02_hypno_30s.txt', dtype=str)\n",
    "hypno"
   ]
  },
  {
   "cell_type": "markdown",
   "metadata": {},
   "source": [
    "**Conversion str => int**\n",
    "\n",
    "Our first step is to convert this text vector into a vector of integers, which is easier to work with. The default mapping is defined below:\n",
    "\n",
    "    W  => 0\n",
    "    N1 => 1\n",
    "    N2 => 2\n",
    "    N3 => 3\n",
    "    R  => 4\n",
    "    \n",
    "However, you can also apply a custom mapping using the `mapping_dict=` argument of the [hypno_str_to_int](https://htmlpreview.github.io/?https://raw.githubusercontent.com/raphaelvallat/yasa/master/html/hypno.html#yasa.hypno.hypno_str_to_int) function."
   ]
  },
  {
   "cell_type": "code",
   "execution_count": 4,
   "metadata": {},
   "outputs": [
    {
     "data": {
      "text/plain": [
       "array([0, 0, 0, 0, 0, 0, 0, 0, 0, 0, 0, 0, 0, 0, 0, 0, 0, 0, 0, 0, 0, 0,\n",
       "       1, 0, 0, 0, 0, 1, 1, 1, 0, 0, 1, 1, 1, 1, 2, 2, 2, 0, 1, 2, 2, 2,\n",
       "       2, 2, 2, 2, 2, 2, 2, 2, 2, 2, 2, 2, 2, 2, 2, 2, 2, 2, 2, 2, 2, 2,\n",
       "       2, 2, 2, 3, 3, 3, 3, 3, 3, 3, 3, 3, 3, 3, 3, 3, 3, 3, 3, 3, 3, 3,\n",
       "       3, 3, 3, 0, 0, 0, 0, 0, 0, 0], dtype=int64)"
      ]
     },
     "execution_count": 4,
     "metadata": {},
     "output_type": "execute_result"
    }
   ],
   "source": [
    "hypno_int = yasa.hypno_str_to_int(hypno)\n",
    "hypno_int"
   ]
  },
  {
   "cell_type": "markdown",
   "metadata": {},
   "source": [
    "**Upsampling**"
   ]
  },
  {
   "cell_type": "markdown",
   "metadata": {},
   "source": [
    "The last step is to upsample our hypnogram to the sampling frequency of the data. This step is *absolutely critical* and all YASA's function require that the data and hypnogram have the same sampling frequency and shape -- which makes life so much easier to mask and select specific sleep stages.\n",
    "\n",
    "Fortunately, YASA also provides a convenient function ([hypno_upsample_to_data](https://htmlpreview.github.io/?https://raw.githubusercontent.com/raphaelvallat/yasa/master/html/hypno.html#yasa.hypno.hypno_upsample_to_data)) to automatically upsample and fit the hypnogram to a given sampling frequency and data length.\n",
    "This function requires the hypnogram and its sampling frequency, as well as the data and its sampling frequency. In our case, the sampling frequency of our hypnogram is 1 / 30 since there is one point per every 30 seconds of data. The sampling frequency of the data is 100 Hz.\n",
    "\n",
    "Note that if the upsampled hypnogram is shorter or longer than the length of data, a warning will be displayed and the hypnogram will be automatically padded or cropped to exactly match the length of data."
   ]
  },
  {
   "cell_type": "code",
   "execution_count": 5,
   "metadata": {},
   "outputs": [
    {
     "name": "stdout",
     "output_type": "stream",
     "text": [
      "True\n",
      "294000 samples: [0 0 0 ... 0 0 0]\n"
     ]
    }
   ],
   "source": [
    "hypno_up = yasa.hypno_upsample_to_data(hypno=hypno_int, sf_hypno=(1/30), data=data, sf_data=sf)\n",
    "print(hypno_up.size == data.shape[1])  # Does the hypnogram have the same number of samples as data?\n",
    "print(hypno_up.size, 'samples:', hypno_up)"
   ]
  },
  {
   "cell_type": "markdown",
   "metadata": {},
   "source": [
    "**************\n",
    "\n",
    "## Bandpowers in NREM sleep\n",
    "\n",
    "*For a primer on EEG spectral bandpower please refer to https://raphaelvallat.com/bandpower.html*\n",
    "\n",
    "Now that we have our data and hypnogram, how can we calculate the spectral bandpowers in, let's say, N2 and N3 sleep (commonly referred to as NREM sleep)?"
   ]
  },
  {
   "cell_type": "markdown",
   "metadata": {},
   "source": [
    "### Keep only N2 + N3 sleep\n",
    "\n",
    "Our first step is to apply a masking on the data to only keep samples that are in N2 or N3 sleep. Since our data and hypnogram now have the same sampling frequency and shape, this can be done using a [simple NumPy indexing](https://docs.scipy.org/doc/numpy/reference/generated/numpy.isin.html):"
   ]
  },
  {
   "cell_type": "code",
   "execution_count": 6,
   "metadata": {},
   "outputs": [
    {
     "name": "stdout",
     "output_type": "stream",
     "text": [
      "(6, 159000)\n"
     ]
    }
   ],
   "source": [
    "where_NREM = np.isin(hypno_up, [2, 3])  # True if sample is in N2 / N3, False otherwise\n",
    "data_NREM = data[:, where_NREM]\n",
    "print(data_NREM.shape)"
   ]
  },
  {
   "cell_type": "markdown",
   "metadata": {},
   "source": [
    "### Calculate Welch's PSD\n",
    "\n",
    "The gold-standard and most widely-used method to calculate the power spectral density (PSD) of EEG data is the [Welch's sliding periodogram](https://en.wikipedia.org/wiki/Welch%27s_method), which is implemented in [SciPy](https://docs.scipy.org/doc/scipy/reference/generated/scipy.signal.welch.html).\n",
    "\n",
    "The Welch's method improves the accuracy of the [classic periodogram](https://docs.scipy.org/doc/scipy/reference/generated/scipy.signal.periodogram.html). The reason is simple: EEG data are always time-varying, meaning that if you look at a 30 seconds of EEG data, it is very (very) unlikely that the signal will looks like a perfect sum of pure sines. Rather, the spectral content of the EEG changes over time, constantly modified by the neuronal activity at play under the scalp. Problem is, to return a true spectral estimate, a classic periodogram requires the spectral content of the signal to be stationnary (i.e. time-unvarying) over the time period considered. Because it is never the case, the periodogram is generally biased and contains way too much variance. By averaging the periodograms obtained over short segments of the windows, the Welch's method allows to drastically reduce this variance. This comes at the cost, however, of a lower frequency resolution. The frequency resolution in Welch's method is defined by the window length, such that $F = 1 / t$, with $t$ being the window length in seconds. In other words, a 4-sec sliding window will give a frequency resolution of 1 / 4 = 0.25 Hz.\n",
    "\n",
    "How do we define the optimal window duration then? A commonly used approach is to take a window sufficiently long to encompasses at least two full cycles of the lowest frequency of interest. So for instance, if our lowest frequency of interest is 1 Hz so we will choose a window of 2 / 1 = 2 seconds.\n",
    "\n",
    "Note that in the code below, I use a *median average* of all the resulting sliding windows. Indeed, this may result in less biased and more accurate PSD as explained [in this paper](https://www.biorxiv.org/content/10.1101/441626v2)."
   ]
  },
  {
   "cell_type": "code",
   "execution_count": 7,
   "metadata": {},
   "outputs": [
    {
     "name": "stdout",
     "output_type": "stream",
     "text": [
      "(201,) (6, 201)\n"
     ]
    },
    {
     "data": {
      "image/png": "[encoded data removed]",
      "text/plain": [
       "<Figure size 432x288 with 1 Axes>"
      ]
     },
     "metadata": {},
     "output_type": "display_data"
    }
   ],
   "source": [
    "from scipy.signal import welch\n",
    "\n",
    "win = int(4 * sf)  # Window size is set to 4 seconds\n",
    "freqs, psd = welch(data_NREM, sf, nperseg=win, average='median')  # Works with single or multi-channel data\n",
    "\n",
    "print(freqs.shape, psd.shape)  # psd has shape (n_channels, n_frequencies)\n",
    "\n",
    "# Plot\n",
    "plt.plot(freqs, psd[1], 'k', lw=2)\n",
    "plt.fill_between(freqs, psd[1], cmap='Spectral')\n",
    "plt.xlim(0, 50)\n",
    "plt.yscale('log')\n",
    "sns.despine()\n",
    "plt.title(chan[1])\n",
    "plt.xlabel('Frequency [Hz]')\n",
    "plt.ylabel('PSD log($uV^2$/Hz)');"
   ]
  },
  {
   "cell_type": "markdown",
   "metadata": {},
   "source": [
    "### Extract bandpower\n",
    "\n",
    "Now that we have the PSD for each channel, we need to calculate the average power in specified bands. The power in a frequency band is defined by the area under the curve of the non-log-transformed PSD. For more details, please refer to https://raphaelvallat.com/bandpower.html.\n",
    "\n",
    "Here again, YASA provides a convenient function ([bandpower_from_psd](https://htmlpreview.github.io/?https://raw.githubusercontent.com/raphaelvallat/yasa/master/html/spectral.html#yasa.spectral.bandpower_from_psd)) to extract the average bandpower in specified bands from a pre-computed PSD."
   ]
  },
  {
   "cell_type": "markdown",
   "metadata": {},
   "source": [
    "**Relative power**"
   ]
  },
  {
   "cell_type": "code",
   "execution_count": 8,
   "metadata": {},
   "outputs": [
    {
     "data": {
      "text/html": [
       "<div>\n",
       "<style scoped>\n",
       "    .dataframe tbody tr th:only-of-type {\n",
       "        vertical-align: middle;\n",
       "    }\n",
       "\n",
       "    .dataframe tbody tr th {\n",
       "        vertical-align: top;\n",
       "    }\n",
       "\n",
       "    .dataframe thead th {\n",
       "        text-align: right;\n",
       "    }\n",
       "</style>\n",
       "<table border=\"1\" class=\"dataframe\">\n",
       "  <thead>\n",
       "    <tr style=\"text-align: right;\">\n",
       "      <th></th>\n",
       "      <th>Chan</th>\n",
       "      <th>Delta</th>\n",
       "      <th>Theta</th>\n",
       "      <th>Alpha</th>\n",
       "      <th>Beta</th>\n",
       "      <th>Gamma</th>\n",
       "      <th>FreqRes</th>\n",
       "      <th>Relative</th>\n",
       "    </tr>\n",
       "  </thead>\n",
       "  <tbody>\n",
       "    <tr>\n",
       "      <th>0</th>\n",
       "      <td>F3</td>\n",
       "      <td>0.714872</td>\n",
       "      <td>0.166226</td>\n",
       "      <td>0.070516</td>\n",
       "      <td>0.047779</td>\n",
       "      <td>0.000607</td>\n",
       "      <td>0.25</td>\n",
       "      <td>True</td>\n",
       "    </tr>\n",
       "    <tr>\n",
       "      <th>1</th>\n",
       "      <td>F4</td>\n",
       "      <td>0.719722</td>\n",
       "      <td>0.140793</td>\n",
       "      <td>0.066615</td>\n",
       "      <td>0.071700</td>\n",
       "      <td>0.001170</td>\n",
       "      <td>0.25</td>\n",
       "      <td>True</td>\n",
       "    </tr>\n",
       "    <tr>\n",
       "      <th>2</th>\n",
       "      <td>C3</td>\n",
       "      <td>0.708896</td>\n",
       "      <td>0.151639</td>\n",
       "      <td>0.079097</td>\n",
       "      <td>0.059738</td>\n",
       "      <td>0.000629</td>\n",
       "      <td>0.25</td>\n",
       "      <td>True</td>\n",
       "    </tr>\n",
       "    <tr>\n",
       "      <th>3</th>\n",
       "      <td>C4</td>\n",
       "      <td>0.678407</td>\n",
       "      <td>0.137858</td>\n",
       "      <td>0.081388</td>\n",
       "      <td>0.100339</td>\n",
       "      <td>0.002008</td>\n",
       "      <td>0.25</td>\n",
       "      <td>True</td>\n",
       "    </tr>\n",
       "    <tr>\n",
       "      <th>4</th>\n",
       "      <td>O1</td>\n",
       "      <td>0.664873</td>\n",
       "      <td>0.151314</td>\n",
       "      <td>0.101223</td>\n",
       "      <td>0.082191</td>\n",
       "      <td>0.000399</td>\n",
       "      <td>0.25</td>\n",
       "      <td>True</td>\n",
       "    </tr>\n",
       "    <tr>\n",
       "      <th>5</th>\n",
       "      <td>O2</td>\n",
       "      <td>0.663774</td>\n",
       "      <td>0.157096</td>\n",
       "      <td>0.094293</td>\n",
       "      <td>0.084369</td>\n",
       "      <td>0.000468</td>\n",
       "      <td>0.25</td>\n",
       "      <td>True</td>\n",
       "    </tr>\n",
       "  </tbody>\n",
       "</table>\n",
       "</div>"
      ],
      "text/plain": [
       "  Chan     Delta     Theta     Alpha      Beta     Gamma  FreqRes  Relative\n",
       "0   F3  0.714872  0.166226  0.070516  0.047779  0.000607     0.25      True\n",
       "1   F4  0.719722  0.140793  0.066615  0.071700  0.001170     0.25      True\n",
       "2   C3  0.708896  0.151639  0.079097  0.059738  0.000629     0.25      True\n",
       "3   C4  0.678407  0.137858  0.081388  0.100339  0.002008     0.25      True\n",
       "4   O1  0.664873  0.151314  0.101223  0.082191  0.000399     0.25      True\n",
       "5   O2  0.663774  0.157096  0.094293  0.084369  0.000468     0.25      True"
      ]
     },
     "execution_count": 8,
     "metadata": {},
     "output_type": "execute_result"
    }
   ],
   "source": [
    "# Relative power: sum of all (non-overlapping and sequential) bands equals to 1\n",
    "yasa.bandpower_from_psd(psd, freqs, ch_names=chan)"
   ]
  },
  {
   "cell_type": "markdown",
   "metadata": {},
   "source": [
    "**Absolute power**"
   ]
  },
  {
   "cell_type": "code",
   "execution_count": 9,
   "metadata": {},
   "outputs": [
    {
     "data": {
      "text/html": [
       "<div>\n",
       "<style scoped>\n",
       "    .dataframe tbody tr th:only-of-type {\n",
       "        vertical-align: middle;\n",
       "    }\n",
       "\n",
       "    .dataframe tbody tr th {\n",
       "        vertical-align: top;\n",
       "    }\n",
       "\n",
       "    .dataframe thead th {\n",
       "        text-align: right;\n",
       "    }\n",
       "</style>\n",
       "<table border=\"1\" class=\"dataframe\">\n",
       "  <thead>\n",
       "    <tr style=\"text-align: right;\">\n",
       "      <th></th>\n",
       "      <th>Chan</th>\n",
       "      <th>Slow</th>\n",
       "      <th>Beta</th>\n",
       "      <th>FreqRes</th>\n",
       "      <th>Relative</th>\n",
       "    </tr>\n",
       "  </thead>\n",
       "  <tbody>\n",
       "    <tr>\n",
       "      <th>0</th>\n",
       "      <td>F3</td>\n",
       "      <td>118.157078</td>\n",
       "      <td>8.211144</td>\n",
       "      <td>0.25</td>\n",
       "      <td>False</td>\n",
       "    </tr>\n",
       "    <tr>\n",
       "      <th>1</th>\n",
       "      <td>F4</td>\n",
       "      <td>104.003894</td>\n",
       "      <td>10.667229</td>\n",
       "      <td>0.25</td>\n",
       "      <td>False</td>\n",
       "    </tr>\n",
       "    <tr>\n",
       "      <th>2</th>\n",
       "      <td>C3</td>\n",
       "      <td>95.300966</td>\n",
       "      <td>8.068256</td>\n",
       "      <td>0.25</td>\n",
       "      <td>False</td>\n",
       "    </tr>\n",
       "    <tr>\n",
       "      <th>3</th>\n",
       "      <td>C4</td>\n",
       "      <td>84.098698</td>\n",
       "      <td>12.264104</td>\n",
       "      <td>0.25</td>\n",
       "      <td>False</td>\n",
       "    </tr>\n",
       "    <tr>\n",
       "      <th>4</th>\n",
       "      <td>O1</td>\n",
       "      <td>522.730225</td>\n",
       "      <td>63.275577</td>\n",
       "      <td>0.25</td>\n",
       "      <td>False</td>\n",
       "    </tr>\n",
       "    <tr>\n",
       "      <th>5</th>\n",
       "      <td>O2</td>\n",
       "      <td>460.613075</td>\n",
       "      <td>56.541394</td>\n",
       "      <td>0.25</td>\n",
       "      <td>False</td>\n",
       "    </tr>\n",
       "  </tbody>\n",
       "</table>\n",
       "</div>"
      ],
      "text/plain": [
       "  Chan        Slow       Beta  FreqRes  Relative\n",
       "0   F3  118.157078   8.211144     0.25     False\n",
       "1   F4  104.003894  10.667229     0.25     False\n",
       "2   C3   95.300966   8.068256     0.25     False\n",
       "3   C4   84.098698  12.264104     0.25     False\n",
       "4   O1  522.730225  63.275577     0.25     False\n",
       "5   O2  460.613075  56.541394     0.25     False"
      ]
     },
     "execution_count": 9,
     "metadata": {},
     "output_type": "execute_result"
    }
   ],
   "source": [
    "# Absolute power, using different bands\n",
    "bp = yasa.bandpower_from_psd(psd, freqs, ch_names=chan, bands=[(1, 12, 'Slow'), (12, 30, 'Beta')], relative=False)\n",
    "bp"
   ]
  },
  {
   "cell_type": "code",
   "execution_count": 10,
   "metadata": {},
   "outputs": [
    {
     "data": {
      "text/plain": [
       "\"[(1, 12, 'Slow'), (12, 30, 'Beta')]\""
      ]
     },
     "execution_count": 10,
     "metadata": {},
     "output_type": "execute_result"
    }
   ],
   "source": [
    "# Bonus: see the frequency bands that were used\n",
    "bp.bands_"
   ]
  }
 ],
 "metadata": {
  "kernelspec": {
   "display_name": "Python 3",
   "language": "python",
   "name": "python3"
  },
  "language_info": {
   "codemirror_mode": {
    "name": "ipython",
    "version": 3
   },
   "file_extension": ".py",
   "mimetype": "text/x-python",
   "name": "python",
   "nbconvert_exporter": "python",
   "pygments_lexer": "ipython3",
   "version": "3.6.5"
  }
 },
 "nbformat": 4,
 "nbformat_minor": 2
}
