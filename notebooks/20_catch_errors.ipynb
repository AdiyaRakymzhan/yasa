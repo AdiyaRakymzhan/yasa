{
 "cells": [
  {
   "cell_type": "code",
   "execution_count": 1,
   "metadata": {},
   "outputs": [],
   "source": [
    "import pytest\n",
    "import unittest\n",
    "import numpy as np\n",
    "from mne.filter import filter_data, resample\n",
    "from yasa.main import (_corr, _covar, _rms, moving_transform, stft_power,\n",
    "                       _index_to_events, get_bool_vector, trimbothstd,\n",
    "                       _merge_close, spindles_detect, spindles_detect_multi)\n",
    "\n",
    "# Load data\n",
    "data = np.loadtxt('data_N2_spindles_15sec_200Hz.txt')\n",
    "sf = 200\n",
    "data_sigma = filter_data(data, sf, 12, 15, method='fir', verbose=0)\n",
    "\n",
    "# Resample the data to 128 Hz\n",
    "fac = 128 / sf\n",
    "data_128 = resample(data, up=fac, down=1.0, npad='auto', axis=-1,\n",
    "                    window='boxcar', n_jobs=1, pad='reflect_limited',\n",
    "                    verbose=False)\n",
    "sf_128 = 128\n",
    "\n",
    "\n",
    "data_n3 = np.loadtxt('data_N3_no-spindles_30sec_100Hz.txt')\n",
    "sf_n3 = 100\n",
    "\n",
    "file_full = np.load('data_full_6hrs_100Hz_Cz+Fz+Pz.npz')\n",
    "data_full = file_full.get('data')\n",
    "chan_full = file_full.get('chan')\n",
    "sf_full = 100\n",
    "\n",
    "# Load the hypnogram\n",
    "hypno_full = np.load('data_full_6hrs_100Hz_hypno.npz').get('hypno')"
   ]
  },
  {
   "cell_type": "markdown",
   "metadata": {},
   "source": [
    "## Downsampling"
   ]
  },
  {
   "cell_type": "code",
   "execution_count": 2,
   "metadata": {},
   "outputs": [
    {
     "data": {
      "text/html": [
       "<div>\n",
       "<style scoped>\n",
       "    .dataframe tbody tr th:only-of-type {\n",
       "        vertical-align: middle;\n",
       "    }\n",
       "\n",
       "    .dataframe tbody tr th {\n",
       "        vertical-align: top;\n",
       "    }\n",
       "\n",
       "    .dataframe thead th {\n",
       "        text-align: right;\n",
       "    }\n",
       "</style>\n",
       "<table border=\"1\" class=\"dataframe\">\n",
       "  <thead>\n",
       "    <tr style=\"text-align: right;\">\n",
       "      <th></th>\n",
       "      <th>Start</th>\n",
       "      <th>End</th>\n",
       "      <th>Duration</th>\n",
       "      <th>Amplitude</th>\n",
       "      <th>RMS</th>\n",
       "      <th>AbsPower</th>\n",
       "      <th>RelPower</th>\n",
       "      <th>Frequency</th>\n",
       "      <th>Oscillations</th>\n",
       "      <th>Symmetry</th>\n",
       "    </tr>\n",
       "  </thead>\n",
       "  <tbody>\n",
       "    <tr>\n",
       "      <th>0</th>\n",
       "      <td>3.32</td>\n",
       "      <td>4.06</td>\n",
       "      <td>0.74</td>\n",
       "      <td>81.800396</td>\n",
       "      <td>19.650618</td>\n",
       "      <td>2.722480</td>\n",
       "      <td>0.495178</td>\n",
       "      <td>12.859197</td>\n",
       "      <td>10.0</td>\n",
       "      <td>0.653333</td>\n",
       "    </tr>\n",
       "    <tr>\n",
       "      <th>1</th>\n",
       "      <td>13.26</td>\n",
       "      <td>13.85</td>\n",
       "      <td>0.59</td>\n",
       "      <td>99.302635</td>\n",
       "      <td>24.495293</td>\n",
       "      <td>2.827413</td>\n",
       "      <td>0.240493</td>\n",
       "      <td>12.158956</td>\n",
       "      <td>7.0</td>\n",
       "      <td>0.250000</td>\n",
       "    </tr>\n",
       "  </tbody>\n",
       "</table>\n",
       "</div>"
      ],
      "text/plain": [
       "   Start    End  Duration  Amplitude        RMS  AbsPower  RelPower  \\\n",
       "0   3.32   4.06      0.74  81.800396  19.650618  2.722480  0.495178   \n",
       "1  13.26  13.85      0.59  99.302635  24.495293  2.827413  0.240493   \n",
       "\n",
       "   Frequency  Oscillations  Symmetry  \n",
       "0  12.859197          10.0  0.653333  \n",
       "1  12.158956           7.0  0.250000  "
      ]
     },
     "metadata": {},
     "output_type": "display_data"
    },
    {
     "data": {
      "text/html": [
       "<div>\n",
       "<style scoped>\n",
       "    .dataframe tbody tr th:only-of-type {\n",
       "        vertical-align: middle;\n",
       "    }\n",
       "\n",
       "    .dataframe tbody tr th {\n",
       "        vertical-align: top;\n",
       "    }\n",
       "\n",
       "    .dataframe thead th {\n",
       "        text-align: right;\n",
       "    }\n",
       "</style>\n",
       "<table border=\"1\" class=\"dataframe\">\n",
       "  <thead>\n",
       "    <tr style=\"text-align: right;\">\n",
       "      <th></th>\n",
       "      <th>Start</th>\n",
       "      <th>End</th>\n",
       "      <th>Duration</th>\n",
       "      <th>Amplitude</th>\n",
       "      <th>RMS</th>\n",
       "      <th>AbsPower</th>\n",
       "      <th>RelPower</th>\n",
       "      <th>Frequency</th>\n",
       "      <th>Oscillations</th>\n",
       "      <th>Symmetry</th>\n",
       "    </tr>\n",
       "  </thead>\n",
       "  <tbody>\n",
       "    <tr>\n",
       "      <th>0</th>\n",
       "      <td>3.24</td>\n",
       "      <td>4.060</td>\n",
       "      <td>0.820</td>\n",
       "      <td>82.372425</td>\n",
       "      <td>19.130129</td>\n",
       "      <td>2.684425</td>\n",
       "      <td>0.480513</td>\n",
       "      <td>12.850270</td>\n",
       "      <td>11.0</td>\n",
       "      <td>0.696970</td>\n",
       "    </tr>\n",
       "    <tr>\n",
       "      <th>1</th>\n",
       "      <td>13.06</td>\n",
       "      <td>13.845</td>\n",
       "      <td>0.785</td>\n",
       "      <td>102.758017</td>\n",
       "      <td>23.991812</td>\n",
       "      <td>2.830781</td>\n",
       "      <td>0.226470</td>\n",
       "      <td>12.242634</td>\n",
       "      <td>10.0</td>\n",
       "      <td>0.443038</td>\n",
       "    </tr>\n",
       "  </tbody>\n",
       "</table>\n",
       "</div>"
      ],
      "text/plain": [
       "   Start     End  Duration   Amplitude        RMS  AbsPower  RelPower  \\\n",
       "0   3.24   4.060     0.820   82.372425  19.130129  2.684425  0.480513   \n",
       "1  13.06  13.845     0.785  102.758017  23.991812  2.830781  0.226470   \n",
       "\n",
       "   Frequency  Oscillations  Symmetry  \n",
       "0  12.850270          11.0  0.696970  \n",
       "1  12.242634          10.0  0.443038  "
      ]
     },
     "metadata": {},
     "output_type": "display_data"
    }
   ],
   "source": [
    "sp = spindles_detect(data, sf)\n",
    "sp_no_ds = spindles_detect(data, sf, downsample=False)\n",
    "\n",
    "display(sp)\n",
    "display(sp_no_ds)"
   ]
  },
  {
   "cell_type": "markdown",
   "metadata": {},
   "source": [
    "### What is the effect of downsampling on computation time?"
   ]
  },
  {
   "cell_type": "code",
   "execution_count": 3,
   "metadata": {},
   "outputs": [
    {
     "name": "stdout",
     "output_type": "stream",
     "text": [
      "7.14 ms ± 48.1 µs per loop (mean ± std. dev. of 3 runs, 100 loops each)\n",
      "10.5 ms ± 372 µs per loop (mean ± std. dev. of 3 runs, 100 loops each)\n"
     ]
    }
   ],
   "source": [
    "%timeit -r 3 spindles_detect(data, sf)\n",
    "%timeit -r 3 spindles_detect(data, sf, downsample=False)"
   ]
  },
  {
   "cell_type": "code",
   "execution_count": 4,
   "metadata": {},
   "outputs": [
    {
     "name": "stdout",
     "output_type": "stream",
     "text": [
      "(3, 2161058) (3, 8644232)\n"
     ]
    }
   ],
   "source": [
    "data_full_400Hz = resample(data_full, up=4, down=1.0, npad='auto', axis=-1, verbose=False)\n",
    "print(data_full.shape, data_full_400Hz.shape)"
   ]
  },
  {
   "cell_type": "code",
   "execution_count": 5,
   "metadata": {},
   "outputs": [
    {
     "name": "stdout",
     "output_type": "stream",
     "text": [
      "2.57 s ± 28.2 ms per loop (mean ± std. dev. of 3 runs, 1 loop each)\n",
      "2.62 s ± 92.8 ms per loop (mean ± std. dev. of 3 runs, 1 loop each)\n",
      "7.14 s ± 65.5 ms per loop (mean ± std. dev. of 3 runs, 1 loop each)\n"
     ]
    }
   ],
   "source": [
    "%timeit -r 3 spindles_detect(data_full[0, :], 100)  # No downsampling, sf = 100 Hz\n",
    "%timeit -r 3 spindles_detect(data_full_400Hz[0, :], 400, downsample=True)  # Downsampling from 400 Hz to 100 Hz\n",
    "%timeit -r 3 spindles_detect(data_full_400Hz[0, :], 400, downsample=False)  # No downsampling, sf = 400 Hz"
   ]
  },
  {
   "cell_type": "code",
   "execution_count": 6,
   "metadata": {},
   "outputs": [
    {
     "name": "stdout",
     "output_type": "stream",
     "text": [
      "8.03 s ± 206 ms per loop (mean ± std. dev. of 3 runs, 1 loop each)\n",
      "20.8 s ± 74 ms per loop (mean ± std. dev. of 3 runs, 1 loop each)\n"
     ]
    }
   ],
   "source": [
    "# Multi-channel\n",
    "%timeit -r 3 spindles_detect_multi(data_full_400Hz, 400, ch_names=chan_full, downsample=True)  # Downsampling from 400 Hz to 100 Hz\n",
    "%timeit -r 3 spindles_detect_multi(data_full_400Hz, 400, ch_names=chan_full, downsample=False)  # No downsampling, sf = 400 Hz"
   ]
  },
  {
   "cell_type": "markdown",
   "metadata": {},
   "source": [
    "## Hypnogram"
   ]
  },
  {
   "cell_type": "code",
   "execution_count": 7,
   "metadata": {},
   "outputs": [
    {
     "data": {
      "text/html": [
       "<div>\n",
       "<style scoped>\n",
       "    .dataframe tbody tr th:only-of-type {\n",
       "        vertical-align: middle;\n",
       "    }\n",
       "\n",
       "    .dataframe tbody tr th {\n",
       "        vertical-align: top;\n",
       "    }\n",
       "\n",
       "    .dataframe thead th {\n",
       "        text-align: right;\n",
       "    }\n",
       "</style>\n",
       "<table border=\"1\" class=\"dataframe\">\n",
       "  <thead>\n",
       "    <tr style=\"text-align: right;\">\n",
       "      <th></th>\n",
       "      <th>Start</th>\n",
       "      <th>End</th>\n",
       "      <th>Duration</th>\n",
       "      <th>Amplitude</th>\n",
       "      <th>RMS</th>\n",
       "      <th>AbsPower</th>\n",
       "      <th>RelPower</th>\n",
       "      <th>Frequency</th>\n",
       "      <th>Oscillations</th>\n",
       "      <th>Symmetry</th>\n",
       "      <th>Stage</th>\n",
       "    </tr>\n",
       "  </thead>\n",
       "  <tbody>\n",
       "    <tr>\n",
       "      <th>0</th>\n",
       "      <td>3.3125</td>\n",
       "      <td>4.046875</td>\n",
       "      <td>0.734375</td>\n",
       "      <td>82.171575</td>\n",
       "      <td>19.554141</td>\n",
       "      <td>2.719616</td>\n",
       "      <td>0.499409</td>\n",
       "      <td>12.853133</td>\n",
       "      <td>10.0</td>\n",
       "      <td>0.673684</td>\n",
       "      <td>1</td>\n",
       "    </tr>\n",
       "    <tr>\n",
       "      <th>1</th>\n",
       "      <td>13.2500</td>\n",
       "      <td>13.835938</td>\n",
       "      <td>0.585938</td>\n",
       "      <td>98.708509</td>\n",
       "      <td>24.555503</td>\n",
       "      <td>2.829664</td>\n",
       "      <td>0.239602</td>\n",
       "      <td>12.166419</td>\n",
       "      <td>7.0</td>\n",
       "      <td>0.263158</td>\n",
       "      <td>1</td>\n",
       "    </tr>\n",
       "  </tbody>\n",
       "</table>\n",
       "</div>"
      ],
      "text/plain": [
       "     Start        End  Duration  Amplitude        RMS  AbsPower  RelPower  \\\n",
       "0   3.3125   4.046875  0.734375  82.171575  19.554141  2.719616  0.499409   \n",
       "1  13.2500  13.835938  0.585938  98.708509  24.555503  2.829664  0.239602   \n",
       "\n",
       "   Frequency  Oscillations  Symmetry Stage  \n",
       "0  12.853133          10.0  0.673684     1  \n",
       "1  12.166419           7.0  0.263158     1  "
      ]
     },
     "execution_count": 7,
     "metadata": {},
     "output_type": "execute_result"
    }
   ],
   "source": [
    "# Hypnogram with sf = 128 (downsampling is not possible)\n",
    "spindles_detect(data_128, sf_128, hypno=np.ones(data_128.size))"
   ]
  },
  {
   "cell_type": "code",
   "execution_count": 8,
   "metadata": {},
   "outputs": [
    {
     "name": "stderr",
     "output_type": "stream",
     "text": [
      "14-Aug-19 16:38:00 | ERROR | None of the stages specified in `include` are present in hypno. Returning None.\n"
     ]
    }
   ],
   "source": [
    "# Hypnogram with only one unique value\n",
    "sp = spindles_detect(data, sf, hypno=np.zeros(data.size))"
   ]
  },
  {
   "cell_type": "code",
   "execution_count": null,
   "metadata": {},
   "outputs": [],
   "source": []
  }
 ],
 "metadata": {
  "kernelspec": {
   "display_name": "Python 3",
   "language": "python",
   "name": "python3"
  },
  "language_info": {
   "codemirror_mode": {
    "name": "ipython",
    "version": 3
   },
   "file_extension": ".py",
   "mimetype": "text/x-python",
   "name": "python",
   "nbconvert_exporter": "python",
   "pygments_lexer": "ipython3",
   "version": "3.6.5"
  }
 },
 "nbformat": 4,
 "nbformat_minor": 2
}
