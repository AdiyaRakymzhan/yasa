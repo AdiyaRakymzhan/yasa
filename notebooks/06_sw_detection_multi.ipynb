{
 "cells": [
  {
   "cell_type": "markdown",
   "metadata": {},
   "source": [
    "# YASA\n",
    "\n",
    "This notebook demonstrates how to use YASA to perform **multi-channels slow-waves detection** from a NumPy array (example 1) or a MNE Raw object (example 2).\n",
    "\n",
    "Please make sure to install YASA first by typing the following line in your terminal or command prompt:\n",
    "\n",
    "`pip install --upgrade yasa`\n",
    "\n",
    "**Important**\n",
    "- The data must be a numpy array of shape *(n_channels, n_samples)*.\n",
    "- The sampling frequency `sf` must be the same for all channels.\n",
    "- A list of the channel names (`ch_names`) must be provided as well.\n",
    "- The unit of the data must be $\\mu V$. Note that the default unit in [MNE](https://martinos.org/mne/dev/generated/mne.io.Raw.html) is $V$. Therefore, if you use MNE, you must multiply your data by 1e6 (1 $V$ = 1,000,000 $\\mu V$).\n",
    "\n",
    "## Example 1: Using NumPy\n",
    "\n",
    "To illustrate the multi-channel slow-waves detection, we load a full-night 3-channels dataset (Cz, Fz, Pz) sampled at 100 Hz. The data is in compressed NumPy format (*.npz*)."
   ]
  },
  {
   "cell_type": "code",
   "execution_count": 1,
   "metadata": {},
   "outputs": [
    {
     "name": "stdout",
     "output_type": "stream",
     "text": [
      "(3, 2161058) ['Cz' 'Fz' 'Pz']\n",
      "[[15.797 22.307 39.922 25.657 27.094]\n",
      " [16.896 26.385 40.966 21.833 24.456]\n",
      " [ 5.899 14.297 36.592 26.094 23.395]]\n"
     ]
    }
   ],
   "source": [
    "import mne\n",
    "import yasa\n",
    "import numpy as np\n",
    "import pandas as pd\n",
    "import seaborn as sns\n",
    "import matplotlib.pyplot as plt\n",
    "sns.set(font_scale=1.2)\n",
    "\n",
    "# Load data\n",
    "f = np.load('data_full_6hrs_100Hz_Cz+Fz+Pz.npz')\n",
    "data, chan = f['data'], f['chan']\n",
    "hypno = np.load('data_full_6hrs_100Hz_hypno.npz').get('hypno')\n",
    "sf = 100.\n",
    "times = np.arange(data.size) / sf\n",
    "\n",
    "print(data.shape, chan)\n",
    "print(np.round(data[:, 0:5], 3))"
   ]
  },
  {
   "cell_type": "markdown",
   "metadata": {},
   "source": [
    "*************\n",
    "\n",
    "**Applying the detection**\n",
    "\n",
    "To apply the multi-channel detection, we use the [sw_detect_multi](https://raphaelvallat.com/yasa/build/html/generated/yasa.spindles_detect_multi.html#yasa.spindles_detect_multi) function. Note that we pass the hypnogram and restrain the detection to N3 sleep only."
   ]
  },
  {
   "cell_type": "code",
   "execution_count": 2,
   "metadata": {},
   "outputs": [
    {
     "name": "stdout",
     "output_type": "stream",
     "text": [
      "6658 slow-waves detected.\n"
     ]
    },
    {
     "data": {
      "text/html": [
       "<div>\n",
       "<style scoped>\n",
       "    .dataframe tbody tr th:only-of-type {\n",
       "        vertical-align: middle;\n",
       "    }\n",
       "\n",
       "    .dataframe tbody tr th {\n",
       "        vertical-align: top;\n",
       "    }\n",
       "\n",
       "    .dataframe thead th {\n",
       "        text-align: right;\n",
       "    }\n",
       "</style>\n",
       "<table border=\"1\" class=\"dataframe\">\n",
       "  <thead>\n",
       "    <tr style=\"text-align: right;\">\n",
       "      <th></th>\n",
       "      <th>Start</th>\n",
       "      <th>NegPeak</th>\n",
       "      <th>MidCrossing</th>\n",
       "      <th>PosPeak</th>\n",
       "      <th>End</th>\n",
       "      <th>Duration</th>\n",
       "      <th>ValNegPeak</th>\n",
       "      <th>ValPosPeak</th>\n",
       "      <th>PTP</th>\n",
       "      <th>Slope</th>\n",
       "      <th>Frequency</th>\n",
       "      <th>Stage</th>\n",
       "      <th>Channel</th>\n",
       "      <th>IdxChannel</th>\n",
       "    </tr>\n",
       "  </thead>\n",
       "  <tbody>\n",
       "    <tr>\n",
       "      <th>0</th>\n",
       "      <td>1868.43</td>\n",
       "      <td>1868.66</td>\n",
       "      <td>1868.86</td>\n",
       "      <td>1869.09</td>\n",
       "      <td>1869.59</td>\n",
       "      <td>1.16</td>\n",
       "      <td>-104.855</td>\n",
       "      <td>99.642</td>\n",
       "      <td>204.497</td>\n",
       "      <td>1022.486</td>\n",
       "      <td>0.862</td>\n",
       "      <td>3</td>\n",
       "      <td>Cz</td>\n",
       "      <td>0</td>\n",
       "    </tr>\n",
       "    <tr>\n",
       "      <th>1</th>\n",
       "      <td>1869.59</td>\n",
       "      <td>1869.84</td>\n",
       "      <td>1870.09</td>\n",
       "      <td>1870.26</td>\n",
       "      <td>1870.46</td>\n",
       "      <td>0.87</td>\n",
       "      <td>-81.599</td>\n",
       "      <td>33.650</td>\n",
       "      <td>115.249</td>\n",
       "      <td>460.997</td>\n",
       "      <td>1.149</td>\n",
       "      <td>3</td>\n",
       "      <td>Cz</td>\n",
       "      <td>0</td>\n",
       "    </tr>\n",
       "    <tr>\n",
       "      <th>2</th>\n",
       "      <td>1894.97</td>\n",
       "      <td>1895.20</td>\n",
       "      <td>1895.46</td>\n",
       "      <td>1895.63</td>\n",
       "      <td>1896.03</td>\n",
       "      <td>1.06</td>\n",
       "      <td>-80.394</td>\n",
       "      <td>21.457</td>\n",
       "      <td>101.852</td>\n",
       "      <td>391.737</td>\n",
       "      <td>0.943</td>\n",
       "      <td>3</td>\n",
       "      <td>Cz</td>\n",
       "      <td>0</td>\n",
       "    </tr>\n",
       "    <tr>\n",
       "      <th>3</th>\n",
       "      <td>1896.03</td>\n",
       "      <td>1896.23</td>\n",
       "      <td>1896.40</td>\n",
       "      <td>1896.51</td>\n",
       "      <td>1896.60</td>\n",
       "      <td>0.57</td>\n",
       "      <td>-69.743</td>\n",
       "      <td>33.369</td>\n",
       "      <td>103.112</td>\n",
       "      <td>606.541</td>\n",
       "      <td>1.754</td>\n",
       "      <td>3</td>\n",
       "      <td>Cz</td>\n",
       "      <td>0</td>\n",
       "    </tr>\n",
       "    <tr>\n",
       "      <th>4</th>\n",
       "      <td>1896.60</td>\n",
       "      <td>1896.80</td>\n",
       "      <td>1896.99</td>\n",
       "      <td>1897.08</td>\n",
       "      <td>1897.16</td>\n",
       "      <td>0.56</td>\n",
       "      <td>-109.203</td>\n",
       "      <td>32.762</td>\n",
       "      <td>141.965</td>\n",
       "      <td>747.185</td>\n",
       "      <td>1.786</td>\n",
       "      <td>3</td>\n",
       "      <td>Cz</td>\n",
       "      <td>0</td>\n",
       "    </tr>\n",
       "  </tbody>\n",
       "</table>\n",
       "</div>"
      ],
      "text/plain": [
       "     Start  NegPeak  MidCrossing  PosPeak      End  Duration  ValNegPeak  \\\n",
       "0  1868.43  1868.66      1868.86  1869.09  1869.59      1.16    -104.855   \n",
       "1  1869.59  1869.84      1870.09  1870.26  1870.46      0.87     -81.599   \n",
       "2  1894.97  1895.20      1895.46  1895.63  1896.03      1.06     -80.394   \n",
       "3  1896.03  1896.23      1896.40  1896.51  1896.60      0.57     -69.743   \n",
       "4  1896.60  1896.80      1896.99  1897.08  1897.16      0.56    -109.203   \n",
       "\n",
       "   ValPosPeak      PTP     Slope  Frequency Stage Channel  IdxChannel  \n",
       "0      99.642  204.497  1022.486      0.862     3      Cz           0  \n",
       "1      33.650  115.249   460.997      1.149     3      Cz           0  \n",
       "2      21.457  101.852   391.737      0.943     3      Cz           0  \n",
       "3      33.369  103.112   606.541      1.754     3      Cz           0  \n",
       "4      32.762  141.965   747.185      1.786     3      Cz           0  "
      ]
     },
     "execution_count": 2,
     "metadata": {},
     "output_type": "execute_result"
    }
   ],
   "source": [
    "sw = yasa.sw_detect_multi(data, sf, ch_names=chan, hypno=hypno, include=(3))\n",
    "print(sw.shape[0], 'slow-waves detected.')\n",
    "sw.head().round(3)"
   ]
  },
  {
   "cell_type": "code",
   "execution_count": 3,
   "metadata": {},
   "outputs": [
    {
     "data": {
      "text/plain": [
       "Cz    2255\n",
       "Pz    2220\n",
       "Fz    2183\n",
       "Name: Channel, dtype: int64"
      ]
     },
     "metadata": {},
     "output_type": "display_data"
    },
    {
     "data": {
      "text/html": [
       "<div>\n",
       "<style scoped>\n",
       "    .dataframe tbody tr th:only-of-type {\n",
       "        vertical-align: middle;\n",
       "    }\n",
       "\n",
       "    .dataframe tbody tr th {\n",
       "        vertical-align: top;\n",
       "    }\n",
       "\n",
       "    .dataframe thead th {\n",
       "        text-align: right;\n",
       "    }\n",
       "</style>\n",
       "<table border=\"1\" class=\"dataframe\">\n",
       "  <thead>\n",
       "    <tr style=\"text-align: right;\">\n",
       "      <th></th>\n",
       "      <th>Start</th>\n",
       "      <th>NegPeak</th>\n",
       "      <th>MidCrossing</th>\n",
       "      <th>PosPeak</th>\n",
       "      <th>End</th>\n",
       "      <th>Duration</th>\n",
       "      <th>ValNegPeak</th>\n",
       "      <th>ValPosPeak</th>\n",
       "      <th>PTP</th>\n",
       "      <th>Slope</th>\n",
       "      <th>Frequency</th>\n",
       "      <th>IdxChannel</th>\n",
       "    </tr>\n",
       "    <tr>\n",
       "      <th>Channel</th>\n",
       "      <th></th>\n",
       "      <th></th>\n",
       "      <th></th>\n",
       "      <th></th>\n",
       "      <th></th>\n",
       "      <th></th>\n",
       "      <th></th>\n",
       "      <th></th>\n",
       "      <th></th>\n",
       "      <th></th>\n",
       "      <th></th>\n",
       "      <th></th>\n",
       "    </tr>\n",
       "  </thead>\n",
       "  <tbody>\n",
       "    <tr>\n",
       "      <th>Cz</th>\n",
       "      <td>8505.96</td>\n",
       "      <td>8506.25</td>\n",
       "      <td>8506.53</td>\n",
       "      <td>8506.78</td>\n",
       "      <td>8507.07</td>\n",
       "      <td>1.11</td>\n",
       "      <td>-82.27</td>\n",
       "      <td>65.19</td>\n",
       "      <td>147.47</td>\n",
       "      <td>617.48</td>\n",
       "      <td>0.97</td>\n",
       "      <td>0</td>\n",
       "    </tr>\n",
       "    <tr>\n",
       "      <th>Fz</th>\n",
       "      <td>8170.51</td>\n",
       "      <td>8170.80</td>\n",
       "      <td>8171.06</td>\n",
       "      <td>8171.31</td>\n",
       "      <td>8171.61</td>\n",
       "      <td>1.11</td>\n",
       "      <td>-79.89</td>\n",
       "      <td>60.55</td>\n",
       "      <td>140.45</td>\n",
       "      <td>608.30</td>\n",
       "      <td>0.98</td>\n",
       "      <td>1</td>\n",
       "    </tr>\n",
       "    <tr>\n",
       "      <th>Pz</th>\n",
       "      <td>8422.55</td>\n",
       "      <td>8422.85</td>\n",
       "      <td>8423.14</td>\n",
       "      <td>8423.39</td>\n",
       "      <td>8423.69</td>\n",
       "      <td>1.14</td>\n",
       "      <td>-81.98</td>\n",
       "      <td>64.98</td>\n",
       "      <td>146.96</td>\n",
       "      <td>595.87</td>\n",
       "      <td>0.96</td>\n",
       "      <td>2</td>\n",
       "    </tr>\n",
       "  </tbody>\n",
       "</table>\n",
       "</div>"
      ],
      "text/plain": [
       "           Start  NegPeak  MidCrossing  PosPeak      End  Duration  \\\n",
       "Channel                                                              \n",
       "Cz       8505.96  8506.25      8506.53  8506.78  8507.07      1.11   \n",
       "Fz       8170.51  8170.80      8171.06  8171.31  8171.61      1.11   \n",
       "Pz       8422.55  8422.85      8423.14  8423.39  8423.69      1.14   \n",
       "\n",
       "         ValNegPeak  ValPosPeak     PTP   Slope  Frequency  IdxChannel  \n",
       "Channel                                                                 \n",
       "Cz           -82.27       65.19  147.47  617.48       0.97           0  \n",
       "Fz           -79.89       60.55  140.45  608.30       0.98           1  \n",
       "Pz           -81.98       64.98  146.96  595.87       0.96           2  "
      ]
     },
     "metadata": {},
     "output_type": "display_data"
    }
   ],
   "source": [
    "# We print the number of slow-waves detected per channel, as well as the mean slow-waves properties per channel.\n",
    "display(sw['Channel'].value_counts())\n",
    "display(sw.groupby('Channel').mean().round(2))"
   ]
  },
  {
   "cell_type": "code",
   "execution_count": 4,
   "metadata": {},
   "outputs": [
    {
     "name": "stdout",
     "output_type": "stream",
     "text": [
      "[252060 243127 253361]\n",
      "[[0 0 0 ... 0 0 0]\n",
      " [0 0 0 ... 0 0 0]\n",
      " [0 0 0 ... 0 0 0]]\n"
     ]
    }
   ],
   "source": [
    "# For plotting purposes, we can easily extract a boolean vector that has the same size as the data\n",
    "bool_vector = yasa.get_bool_vector(data, sf, sw)\n",
    "print(bool_vector.sum(1))\n",
    "print(bool_vector)"
   ]
  },
  {
   "cell_type": "markdown",
   "metadata": {},
   "source": [
    "**Plot an average template of the detected slow-waves**"
   ]
  },
  {
   "cell_type": "code",
   "execution_count": 5,
   "metadata": {},
   "outputs": [
    {
     "data": {
      "text/html": [
       "<div>\n",
       "<style scoped>\n",
       "    .dataframe tbody tr th:only-of-type {\n",
       "        vertical-align: middle;\n",
       "    }\n",
       "\n",
       "    .dataframe tbody tr th {\n",
       "        vertical-align: top;\n",
       "    }\n",
       "\n",
       "    .dataframe thead th {\n",
       "        text-align: right;\n",
       "    }\n",
       "</style>\n",
       "<table border=\"1\" class=\"dataframe\">\n",
       "  <thead>\n",
       "    <tr style=\"text-align: right;\">\n",
       "      <th></th>\n",
       "      <th>Time</th>\n",
       "      <th>Event</th>\n",
       "      <th>Amplitude</th>\n",
       "      <th>Channel</th>\n",
       "      <th>IdxChannel</th>\n",
       "    </tr>\n",
       "  </thead>\n",
       "  <tbody>\n",
       "    <tr>\n",
       "      <th>0</th>\n",
       "      <td>-0.40</td>\n",
       "      <td>0</td>\n",
       "      <td>61.463108</td>\n",
       "      <td>Cz</td>\n",
       "      <td>0</td>\n",
       "    </tr>\n",
       "    <tr>\n",
       "      <th>1</th>\n",
       "      <td>-0.39</td>\n",
       "      <td>0</td>\n",
       "      <td>56.580524</td>\n",
       "      <td>Cz</td>\n",
       "      <td>0</td>\n",
       "    </tr>\n",
       "    <tr>\n",
       "      <th>2</th>\n",
       "      <td>-0.38</td>\n",
       "      <td>0</td>\n",
       "      <td>45.857990</td>\n",
       "      <td>Cz</td>\n",
       "      <td>0</td>\n",
       "    </tr>\n",
       "    <tr>\n",
       "      <th>3</th>\n",
       "      <td>-0.37</td>\n",
       "      <td>0</td>\n",
       "      <td>32.071873</td>\n",
       "      <td>Cz</td>\n",
       "      <td>0</td>\n",
       "    </tr>\n",
       "    <tr>\n",
       "      <th>4</th>\n",
       "      <td>-0.36</td>\n",
       "      <td>0</td>\n",
       "      <td>23.455547</td>\n",
       "      <td>Cz</td>\n",
       "      <td>0</td>\n",
       "    </tr>\n",
       "  </tbody>\n",
       "</table>\n",
       "</div>"
      ],
      "text/plain": [
       "   Time Event  Amplitude Channel  IdxChannel\n",
       "0 -0.40     0  61.463108      Cz           0\n",
       "1 -0.39     0  56.580524      Cz           0\n",
       "2 -0.38     0  45.857990      Cz           0\n",
       "3 -0.37     0  32.071873      Cz           0\n",
       "4 -0.36     0  23.455547      Cz           0"
      ]
     },
     "execution_count": 5,
     "metadata": {},
     "output_type": "execute_result"
    }
   ],
   "source": [
    "# Get synchronized timing\n",
    "df_sync_sw = yasa.get_sync_events(data, sf, detection=sw, center='NegPeak', \n",
    "                                  time_before=0.4, time_after=0.8)\n",
    "df_sync_sw.head()"
   ]
  },
  {
   "cell_type": "code",
   "execution_count": 6,
   "metadata": {},
   "outputs": [
    {
     "data": {
      "image/png": "[encoded data removed]",
      "text/plain": [
       "<Figure size 432x324 with 1 Axes>"
      ]
     },
     "metadata": {},
     "output_type": "display_data"
    }
   ],
   "source": [
    "# Plot the average slow-wave\n",
    "plt.figure(figsize=(6, 4.5))\n",
    "pal = sns.color_palette(\"Set1\", df_sync_sw['Channel'].nunique())\n",
    "sns.lineplot(data=df_sync_sw, x='Time', y='Amplitude', hue='Channel', \n",
    "            palette=pal)\n",
    "\n",
    "plt.xlim(df_sync_sw['Time'].min(), df_sync_sw['Time'].max())\n",
    "plt.title('Average slow-wave')\n",
    "plt.xlabel('Time (sec)')\n",
    "plt.ylabel('Amplitude (uV)')\n",
    "plt.legend(frameon=False, loc='lower right');"
   ]
  },
  {
   "cell_type": "markdown",
   "metadata": {},
   "source": [
    "*************\n",
    "\n",
    "## Example 2: Using a Raw object from MNE-Python\n",
    "\n",
    "This example demonstrates how to manipulate [MNE Raw object](https://mne-tools.github.io/stable/generated/mne.io.Raw.html#mne.io.Raw). The MNE package has several [functions](https://mne-tools.github.io/stable/python_reference.html#module-mne.io) to load the most standard EEG file formats (EDF, BrainVision, EEGLab, FieldTrip...).\n",
    "\n",
    "### Load using MNE\n",
    "For the sake of this example, we'll load a PSG file encoded in the native MNE format (*.fif) using the [mne.io.read_raw_fif](https://martinos.org/mne/stable/generated/mne.io.read_raw_fif.html) function."
   ]
  },
  {
   "cell_type": "code",
   "execution_count": 7,
   "metadata": {},
   "outputs": [
    {
     "name": "stdout",
     "output_type": "stream",
     "text": [
      "Opening raw data file sub-02_mne_raw.fif...\n",
      "    Range : 0 ... 293999 =      0.000 ...  2939.990 secs\n",
      "Ready.\n",
      "Reading 0 ... 293999  =      0.000 ...  2939.990 secs...\n"
     ]
    }
   ],
   "source": [
    "import mne\n",
    "\n",
    "# Load the raw object\n",
    "raw = mne.io.read_raw_fif('sub-02_mne_raw.fif', preload=True)"
   ]
  },
  {
   "cell_type": "code",
   "execution_count": 8,
   "metadata": {},
   "outputs": [
    {
     "name": "stdout",
     "output_type": "stream",
     "text": [
      "Chan = ['F3', 'F4', 'C3', 'C4', 'O1', 'O2', 'EOG1', 'EOG2', 'EMG1']\n",
      "Sampling frequency = 100.0\n",
      "Data shape = (9, 294000)\n"
     ]
    }
   ],
   "source": [
    "# Let's have a look at the data\n",
    "print('Chan =', raw.ch_names)\n",
    "print('Sampling frequency =', raw.info['sfreq'])\n",
    "print('Data shape =', raw._data.shape)"
   ]
  },
  {
   "cell_type": "markdown",
   "metadata": {},
   "source": [
    "### Applying YASA"
   ]
  },
  {
   "cell_type": "code",
   "execution_count": 9,
   "metadata": {},
   "outputs": [
    {
     "name": "stdout",
     "output_type": "stream",
     "text": [
      "Chan = ['F3', 'F4', 'C3', 'C4']\n"
     ]
    }
   ],
   "source": [
    "# Keep only the channels of interests\n",
    "raw_eeg = raw.copy().pick_types(eeg=True).drop_channels(['O1', 'O2'])\n",
    "print('Chan =', raw_eeg.ch_names)"
   ]
  },
  {
   "cell_type": "code",
   "execution_count": 10,
   "metadata": {},
   "outputs": [
    {
     "name": "stdout",
     "output_type": "stream",
     "text": [
      "296 slow-waves detected.\n"
     ]
    },
    {
     "data": {
      "text/html": [
       "<div>\n",
       "<style scoped>\n",
       "    .dataframe tbody tr th:only-of-type {\n",
       "        vertical-align: middle;\n",
       "    }\n",
       "\n",
       "    .dataframe tbody tr th {\n",
       "        vertical-align: top;\n",
       "    }\n",
       "\n",
       "    .dataframe thead th {\n",
       "        text-align: right;\n",
       "    }\n",
       "</style>\n",
       "<table border=\"1\" class=\"dataframe\">\n",
       "  <thead>\n",
       "    <tr style=\"text-align: right;\">\n",
       "      <th></th>\n",
       "      <th>Start</th>\n",
       "      <th>NegPeak</th>\n",
       "      <th>MidCrossing</th>\n",
       "      <th>PosPeak</th>\n",
       "      <th>End</th>\n",
       "      <th>Duration</th>\n",
       "      <th>ValNegPeak</th>\n",
       "      <th>ValPosPeak</th>\n",
       "      <th>PTP</th>\n",
       "      <th>Slope</th>\n",
       "      <th>Frequency</th>\n",
       "      <th>Channel</th>\n",
       "      <th>IdxChannel</th>\n",
       "    </tr>\n",
       "  </thead>\n",
       "  <tbody>\n",
       "    <tr>\n",
       "      <th>0</th>\n",
       "      <td>0.43</td>\n",
       "      <td>0.64</td>\n",
       "      <td>0.83</td>\n",
       "      <td>0.98</td>\n",
       "      <td>1.14</td>\n",
       "      <td>0.71</td>\n",
       "      <td>-58.425</td>\n",
       "      <td>35.605</td>\n",
       "      <td>94.030</td>\n",
       "      <td>494.895</td>\n",
       "      <td>1.408</td>\n",
       "      <td>F3</td>\n",
       "      <td>0</td>\n",
       "    </tr>\n",
       "    <tr>\n",
       "      <th>1</th>\n",
       "      <td>13.84</td>\n",
       "      <td>14.06</td>\n",
       "      <td>14.29</td>\n",
       "      <td>14.53</td>\n",
       "      <td>14.79</td>\n",
       "      <td>0.95</td>\n",
       "      <td>-40.706</td>\n",
       "      <td>39.630</td>\n",
       "      <td>80.336</td>\n",
       "      <td>349.288</td>\n",
       "      <td>1.053</td>\n",
       "      <td>F3</td>\n",
       "      <td>0</td>\n",
       "    </tr>\n",
       "    <tr>\n",
       "      <th>2</th>\n",
       "      <td>15.23</td>\n",
       "      <td>15.85</td>\n",
       "      <td>16.02</td>\n",
       "      <td>16.22</td>\n",
       "      <td>16.49</td>\n",
       "      <td>1.26</td>\n",
       "      <td>-95.548</td>\n",
       "      <td>116.929</td>\n",
       "      <td>212.478</td>\n",
       "      <td>1249.868</td>\n",
       "      <td>0.794</td>\n",
       "      <td>F3</td>\n",
       "      <td>0</td>\n",
       "    </tr>\n",
       "    <tr>\n",
       "      <th>3</th>\n",
       "      <td>38.04</td>\n",
       "      <td>38.23</td>\n",
       "      <td>38.38</td>\n",
       "      <td>38.51</td>\n",
       "      <td>38.62</td>\n",
       "      <td>0.58</td>\n",
       "      <td>-48.818</td>\n",
       "      <td>44.427</td>\n",
       "      <td>93.245</td>\n",
       "      <td>621.633</td>\n",
       "      <td>1.724</td>\n",
       "      <td>F3</td>\n",
       "      <td>0</td>\n",
       "    </tr>\n",
       "    <tr>\n",
       "      <th>4</th>\n",
       "      <td>38.62</td>\n",
       "      <td>38.81</td>\n",
       "      <td>38.96</td>\n",
       "      <td>39.14</td>\n",
       "      <td>39.34</td>\n",
       "      <td>0.72</td>\n",
       "      <td>-108.542</td>\n",
       "      <td>116.249</td>\n",
       "      <td>224.791</td>\n",
       "      <td>1498.608</td>\n",
       "      <td>1.389</td>\n",
       "      <td>F3</td>\n",
       "      <td>0</td>\n",
       "    </tr>\n",
       "  </tbody>\n",
       "</table>\n",
       "</div>"
      ],
      "text/plain": [
       "   Start  NegPeak  MidCrossing  PosPeak    End  Duration  ValNegPeak  \\\n",
       "0   0.43     0.64         0.83     0.98   1.14      0.71     -58.425   \n",
       "1  13.84    14.06        14.29    14.53  14.79      0.95     -40.706   \n",
       "2  15.23    15.85        16.02    16.22  16.49      1.26     -95.548   \n",
       "3  38.04    38.23        38.38    38.51  38.62      0.58     -48.818   \n",
       "4  38.62    38.81        38.96    39.14  39.34      0.72    -108.542   \n",
       "\n",
       "   ValPosPeak      PTP     Slope  Frequency Channel  IdxChannel  \n",
       "0      35.605   94.030   494.895      1.408      F3           0  \n",
       "1      39.630   80.336   349.288      1.053      F3           0  \n",
       "2     116.929  212.478  1249.868      0.794      F3           0  \n",
       "3      44.427   93.245   621.633      1.724      F3           0  \n",
       "4     116.249  224.791  1498.608      1.389      F3           0  "
      ]
     },
     "execution_count": 10,
     "metadata": {},
     "output_type": "execute_result"
    }
   ],
   "source": [
    "# Multi-channel slow-waves detection\n",
    "# Note that since we're using a MNE Raw object, there is no need\n",
    "# to manually specify the sampling frequency and channel names.\n",
    "sw = yasa.sw_detect_multi(raw_eeg)\n",
    "print(sw.shape[0], 'slow-waves detected.')\n",
    "sw.head().round(3)"
   ]
  },
  {
   "cell_type": "code",
   "execution_count": 11,
   "metadata": {},
   "outputs": [
    {
     "name": "stdout",
     "output_type": "stream",
     "text": [
      "[11395  9375  5825  5813]\n",
      "[[0 0 0 ... 0 0 0]\n",
      " [0 0 0 ... 0 0 0]\n",
      " [0 0 0 ... 0 0 0]\n",
      " [0 0 0 ... 0 0 0]]\n"
     ]
    }
   ],
   "source": [
    "bool_vector = yasa.get_bool_vector(raw_eeg, detection=sw)\n",
    "print(bool_vector.sum(1))\n",
    "print(bool_vector)"
   ]
  }
 ],
 "metadata": {
  "kernelspec": {
   "display_name": "Python 3",
   "language": "python",
   "name": "python3"
  },
  "language_info": {
   "codemirror_mode": {
    "name": "ipython",
    "version": 3
   },
   "file_extension": ".py",
   "mimetype": "text/x-python",
   "name": "python",
   "nbconvert_exporter": "python",
   "pygments_lexer": "ipython3",
   "version": "3.6.5"
  }
 },
 "nbformat": 4,
 "nbformat_minor": 4
}
