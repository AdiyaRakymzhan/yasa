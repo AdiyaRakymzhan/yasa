{
 "cells": [
  {
   "cell_type": "code",
   "execution_count": 1,
   "metadata": {},
   "outputs": [],
   "source": [
    "import mne\n",
    "import yasa\n",
    "import numpy as np\n",
    "import pandas as pd\n",
    "import antropy as ant\n",
    "import matplotlib.pyplot as plt\n",
    "import seaborn as sns\n",
    "sns.set(font_scale=1.2)"
   ]
  },
  {
   "cell_type": "code",
   "execution_count": 2,
   "metadata": {},
   "outputs": [
    {
     "name": "stdout",
     "output_type": "stream",
     "text": [
      "(3, 2161058)\n"
     ]
    }
   ],
   "source": [
    "# Load EEG data\n",
    "f = np.load('data_full_6hrs_100Hz_Cz+Fz+Pz.npz')\n",
    "data, ch_names = f['data'], f['chan']\n",
    "data = data.astype(np.float64)\n",
    "sf = 100.\n",
    "times = np.arange(data.shape[-1]) / sf\n",
    "print(data.shape)"
   ]
  },
  {
   "cell_type": "code",
   "execution_count": 3,
   "metadata": {},
   "outputs": [
    {
     "name": "stderr",
     "output_type": "stream",
     "text": [
      "24-Feb-22 14:30:17 | WARNING | Hypnogram is SHORTER than data by 10.58 seconds. Padding hypnogram with last value to match data.size.\n"
     ]
    },
    {
     "name": "stdout",
     "output_type": "stream",
     "text": [
      "(720,) Unique values = [0 1 2 3 4]\n"
     ]
    }
   ],
   "source": [
    "# Load the hypnogram data\n",
    "hypno = np.loadtxt('data_full_6hrs_100Hz_hypno_30s.txt').astype(int)\n",
    "print(hypno.shape, 'Unique values =', np.unique(hypno))\n",
    "hypno = yasa.hypno_upsample_to_data(hypno, 1/30, data, sf)"
   ]
  },
  {
   "cell_type": "markdown",
   "metadata": {},
   "source": [
    "******\n",
    "\n",
    "## Using YASA's function"
   ]
  },
  {
   "cell_type": "code",
   "execution_count": 4,
   "metadata": {},
   "outputs": [
    {
     "name": "stderr",
     "output_type": "stream",
     "text": [
      "24-Feb-22 14:30:17 | INFO | 9 NREM epochs longer than 5min were found in hypno.\n"
     ]
    },
    {
     "data": {
      "text/html": [
       "<div>\n",
       "<style scoped>\n",
       "    .dataframe tbody tr th:only-of-type {\n",
       "        vertical-align: middle;\n",
       "    }\n",
       "\n",
       "    .dataframe tbody tr th {\n",
       "        vertical-align: top;\n",
       "    }\n",
       "\n",
       "    .dataframe thead th {\n",
       "        text-align: right;\n",
       "    }\n",
       "</style>\n",
       "<table border=\"1\" class=\"dataframe\">\n",
       "  <thead>\n",
       "    <tr style=\"text-align: right;\">\n",
       "      <th></th>\n",
       "      <th>Intercept</th>\n",
       "      <th>Asym</th>\n",
       "      <th>Tau</th>\n",
       "      <th>Decay</th>\n",
       "      <th>MAE</th>\n",
       "      <th>Amplitude</th>\n",
       "    </tr>\n",
       "  </thead>\n",
       "  <tbody>\n",
       "    <tr>\n",
       "      <th>Cz</th>\n",
       "      <td>0.857835</td>\n",
       "      <td>0.782926</td>\n",
       "      <td>4.0</td>\n",
       "      <td>0.25</td>\n",
       "      <td>0.053901</td>\n",
       "      <td>0.074909</td>\n",
       "    </tr>\n",
       "    <tr>\n",
       "      <th>Fz</th>\n",
       "      <td>0.860006</td>\n",
       "      <td>0.797218</td>\n",
       "      <td>4.0</td>\n",
       "      <td>0.25</td>\n",
       "      <td>0.052746</td>\n",
       "      <td>0.062788</td>\n",
       "    </tr>\n",
       "    <tr>\n",
       "      <th>Pz</th>\n",
       "      <td>0.848753</td>\n",
       "      <td>0.781713</td>\n",
       "      <td>4.0</td>\n",
       "      <td>0.25</td>\n",
       "      <td>0.060630</td>\n",
       "      <td>0.067040</td>\n",
       "    </tr>\n",
       "  </tbody>\n",
       "</table>\n",
       "</div>"
      ],
      "text/plain": [
       "    Intercept      Asym  Tau  Decay       MAE  Amplitude\n",
       "Cz   0.857835  0.782926  4.0   0.25  0.053901   0.074909\n",
       "Fz   0.860006  0.797218  4.0   0.25  0.052746   0.062788\n",
       "Pz   0.848753  0.781713  4.0   0.25  0.060630   0.067040"
      ]
     },
     "execution_count": 4,
     "metadata": {},
     "output_type": "execute_result"
    }
   ],
   "source": [
    "# Default duration of 5 minutes\n",
    "decay = yasa.swa_decay(data, hypno=hypno, sf=sf, ch_names=ch_names, include=(2, 3))\n",
    "decay['Amplitude'] = decay['Intercept'] - decay['Asym']\n",
    "decay"
   ]
  },
  {
   "cell_type": "code",
   "execution_count": 5,
   "metadata": {},
   "outputs": [
    {
     "name": "stderr",
     "output_type": "stream",
     "text": [
      "24-Feb-22 14:30:18 | INFO | 6 NREM epochs longer than 10min were found in hypno.\n"
     ]
    },
    {
     "data": {
      "text/html": [
       "<div>\n",
       "<style scoped>\n",
       "    .dataframe tbody tr th:only-of-type {\n",
       "        vertical-align: middle;\n",
       "    }\n",
       "\n",
       "    .dataframe tbody tr th {\n",
       "        vertical-align: top;\n",
       "    }\n",
       "\n",
       "    .dataframe thead th {\n",
       "        text-align: right;\n",
       "    }\n",
       "</style>\n",
       "<table border=\"1\" class=\"dataframe\">\n",
       "  <thead>\n",
       "    <tr style=\"text-align: right;\">\n",
       "      <th></th>\n",
       "      <th>Intercept</th>\n",
       "      <th>Asym</th>\n",
       "      <th>Tau</th>\n",
       "      <th>Decay</th>\n",
       "      <th>MAE</th>\n",
       "    </tr>\n",
       "  </thead>\n",
       "  <tbody>\n",
       "    <tr>\n",
       "      <th>Cz</th>\n",
       "      <td>0.942651</td>\n",
       "      <td>0.749949</td>\n",
       "      <td>4.0</td>\n",
       "      <td>0.25</td>\n",
       "      <td>0.050078</td>\n",
       "    </tr>\n",
       "    <tr>\n",
       "      <th>Fz</th>\n",
       "      <td>0.950083</td>\n",
       "      <td>0.757681</td>\n",
       "      <td>4.0</td>\n",
       "      <td>0.25</td>\n",
       "      <td>0.045963</td>\n",
       "    </tr>\n",
       "    <tr>\n",
       "      <th>Pz</th>\n",
       "      <td>0.945624</td>\n",
       "      <td>0.744350</td>\n",
       "      <td>4.0</td>\n",
       "      <td>0.25</td>\n",
       "      <td>0.054237</td>\n",
       "    </tr>\n",
       "  </tbody>\n",
       "</table>\n",
       "</div>"
      ],
      "text/plain": [
       "    Intercept      Asym  Tau  Decay       MAE\n",
       "Cz   0.942651  0.749949  4.0   0.25  0.050078\n",
       "Fz   0.950083  0.757681  4.0   0.25  0.045963\n",
       "Pz   0.945624  0.744350  4.0   0.25  0.054237"
      ]
     },
     "execution_count": 5,
     "metadata": {},
     "output_type": "execute_result"
    }
   ],
   "source": [
    "# 10 minutes\n",
    "yasa.swa_decay(\n",
    "    data, hypno=hypno, sf=sf, \n",
    "    ch_names=ch_names, epoch_length=\"10min\", include=(2, 3))"
   ]
  },
  {
   "cell_type": "code",
   "execution_count": 6,
   "metadata": {},
   "outputs": [
    {
     "name": "stderr",
     "output_type": "stream",
     "text": [
      "24-Feb-22 14:30:19 | INFO | 11 NREM epochs longer than 2min were found in hypno.\n"
     ]
    },
    {
     "data": {
      "text/html": [
       "<div>\n",
       "<style scoped>\n",
       "    .dataframe tbody tr th:only-of-type {\n",
       "        vertical-align: middle;\n",
       "    }\n",
       "\n",
       "    .dataframe tbody tr th {\n",
       "        vertical-align: top;\n",
       "    }\n",
       "\n",
       "    .dataframe thead th {\n",
       "        text-align: right;\n",
       "    }\n",
       "</style>\n",
       "<table border=\"1\" class=\"dataframe\">\n",
       "  <thead>\n",
       "    <tr style=\"text-align: right;\">\n",
       "      <th></th>\n",
       "      <th>Intercept</th>\n",
       "      <th>Asym</th>\n",
       "      <th>Tau</th>\n",
       "      <th>Decay</th>\n",
       "      <th>MAE</th>\n",
       "    </tr>\n",
       "  </thead>\n",
       "  <tbody>\n",
       "    <tr>\n",
       "      <th>Cz</th>\n",
       "      <td>0.854899</td>\n",
       "      <td>0.776405</td>\n",
       "      <td>4.0</td>\n",
       "      <td>0.25</td>\n",
       "      <td>0.046404</td>\n",
       "    </tr>\n",
       "    <tr>\n",
       "      <th>Fz</th>\n",
       "      <td>0.854580</td>\n",
       "      <td>0.789373</td>\n",
       "      <td>4.0</td>\n",
       "      <td>0.25</td>\n",
       "      <td>0.046589</td>\n",
       "    </tr>\n",
       "    <tr>\n",
       "      <th>Pz</th>\n",
       "      <td>0.845419</td>\n",
       "      <td>0.775258</td>\n",
       "      <td>4.0</td>\n",
       "      <td>0.25</td>\n",
       "      <td>0.052036</td>\n",
       "    </tr>\n",
       "  </tbody>\n",
       "</table>\n",
       "</div>"
      ],
      "text/plain": [
       "    Intercept      Asym  Tau  Decay       MAE\n",
       "Cz   0.854899  0.776405  4.0   0.25  0.046404\n",
       "Fz   0.854580  0.789373  4.0   0.25  0.046589\n",
       "Pz   0.845419  0.775258  4.0   0.25  0.052036"
      ]
     },
     "execution_count": 6,
     "metadata": {},
     "output_type": "execute_result"
    }
   ],
   "source": [
    "# 2 minutes\n",
    "yasa.swa_decay(\n",
    "    data, hypno=hypno, sf=sf, \n",
    "    ch_names=ch_names, epoch_length=\"2min\", include=(2, 3))"
   ]
  },
  {
   "cell_type": "markdown",
   "metadata": {},
   "source": [
    "*******\n",
    "\n",
    "## Step-by-step"
   ]
  },
  {
   "cell_type": "code",
   "execution_count": 7,
   "metadata": {},
   "outputs": [],
   "source": [
    "# Bandpass filter\n",
    "data = mne.filter.filter_data(data.astype('float64'), sf, 0.5, 30, verbose=0)"
   ]
  },
  {
   "cell_type": "code",
   "execution_count": 8,
   "metadata": {},
   "outputs": [
    {
     "data": {
      "image/png": "[encoded data removed]",
      "text/plain": [
       "<Figure size 576x288 with 1 Axes>"
      ]
     },
     "metadata": {},
     "output_type": "display_data"
    }
   ],
   "source": [
    "include = (2, 3)\n",
    "mask = np.in1d(hypno, include).astype(int)\n",
    "\n",
    "plt.figure(figsize=(8, 4))\n",
    "plt.plot(times / 3600, mask);\n",
    "plt.xlabel(\"Time (hours)\")\n",
    "plt.ylabel(\"NREM epochs\");"
   ]
  },
  {
   "cell_type": "code",
   "execution_count": 9,
   "metadata": {},
   "outputs": [],
   "source": [
    "# Sleep onset is defined as the first epoch of N2 or N3 sleep\n",
    "idx_onset = np.nonzero(np.in1d(hypno, (2, 3)))[0][0]"
   ]
  },
  {
   "cell_type": "code",
   "execution_count": 10,
   "metadata": {},
   "outputs": [],
   "source": [
    "def find_runs(x):\n",
    "    \"\"\"Find runs of consecutive items in an array.\n",
    "\n",
    "    From https://gist.github.com/alimanfoo/c5977e87111abe8127453b21204c1065\n",
    "    \"\"\"\n",
    "    n = x.shape[0]\n",
    "    # Find run starts\n",
    "    loc_run_start = np.empty(n, dtype=bool)\n",
    "    loc_run_start[0] = True\n",
    "    np.not_equal(x[:-1], x[1:], out=loc_run_start[1:])\n",
    "    run_starts = np.nonzero(loc_run_start)[0]\n",
    "    # Find run values\n",
    "    run_values = x[loc_run_start]\n",
    "    # Find run lengths\n",
    "    run_lengths = np.diff(np.append(run_starts, n))\n",
    "    return pd.DataFrame({'values': run_values, 'start': run_starts, 'length': run_lengths})"
   ]
  },
  {
   "cell_type": "code",
   "execution_count": 11,
   "metadata": {},
   "outputs": [
    {
     "data": {
      "text/html": [
       "<div>\n",
       "<style scoped>\n",
       "    .dataframe tbody tr th:only-of-type {\n",
       "        vertical-align: middle;\n",
       "    }\n",
       "\n",
       "    .dataframe tbody tr th {\n",
       "        vertical-align: top;\n",
       "    }\n",
       "\n",
       "    .dataframe thead th {\n",
       "        text-align: right;\n",
       "    }\n",
       "</style>\n",
       "<table border=\"1\" class=\"dataframe\">\n",
       "  <thead>\n",
       "    <tr style=\"text-align: right;\">\n",
       "      <th></th>\n",
       "      <th>values</th>\n",
       "      <th>start</th>\n",
       "      <th>length</th>\n",
       "    </tr>\n",
       "  </thead>\n",
       "  <tbody>\n",
       "    <tr>\n",
       "      <th>0</th>\n",
       "      <td>1</td>\n",
       "      <td>135000</td>\n",
       "      <td>279000</td>\n",
       "    </tr>\n",
       "    <tr>\n",
       "      <th>1</th>\n",
       "      <td>1</td>\n",
       "      <td>480000</td>\n",
       "      <td>312000</td>\n",
       "    </tr>\n",
       "    <tr>\n",
       "      <th>2</th>\n",
       "      <td>1</td>\n",
       "      <td>861000</td>\n",
       "      <td>93000</td>\n",
       "    </tr>\n",
       "    <tr>\n",
       "      <th>3</th>\n",
       "      <td>1</td>\n",
       "      <td>1215000</td>\n",
       "      <td>333000</td>\n",
       "    </tr>\n",
       "    <tr>\n",
       "      <th>4</th>\n",
       "      <td>1</td>\n",
       "      <td>1725000</td>\n",
       "      <td>153000</td>\n",
       "    </tr>\n",
       "    <tr>\n",
       "      <th>5</th>\n",
       "      <td>1</td>\n",
       "      <td>1890000</td>\n",
       "      <td>126000</td>\n",
       "    </tr>\n",
       "  </tbody>\n",
       "</table>\n",
       "</div>"
      ],
      "text/plain": [
       "   values    start  length\n",
       "0       1   135000  279000\n",
       "1       1   480000  312000\n",
       "2       1   861000   93000\n",
       "3       1  1215000  333000\n",
       "4       1  1725000  153000\n",
       "5       1  1890000  126000"
      ]
     },
     "execution_count": 11,
     "metadata": {},
     "output_type": "execute_result"
    }
   ],
   "source": [
    "# Calculate NREM periods\n",
    "n_samples_thr = int(pd.Timedelta(\"10min\").seconds * sf)\n",
    "\n",
    "# This show the onset and duration (in samples) of all the NREM epochs\n",
    "epochs = find_runs(mask).query(\"values == 1 and length > @n_samples_thr\").reset_index(drop=True)\n",
    "epochs"
   ]
  },
  {
   "cell_type": "code",
   "execution_count": 12,
   "metadata": {},
   "outputs": [],
   "source": [
    "# Method 2: equal length window\n",
    "# n_windows = int(np.floor(mask[idx_onset:].size / n_samples_thr))\n",
    "# epoch_counter = 0\n",
    "\n",
    "# epochs = {'values': [], 'start': [], 'length': []}\n",
    "\n",
    "# for i in range(n_windows):\n",
    "#     start = idx_onset + n_samples_thr * i\n",
    "#     end = start + n_samples_thr\n",
    "#     if mask[start:end].all():\n",
    "#         epochs['values'].append(1)\n",
    "#         epochs['start'].append(start)\n",
    "#         epochs['length'].append(end - start)\n",
    "        \n",
    "# epochs = pd.DataFrame(epochs)\n",
    "# epochs"
   ]
  },
  {
   "cell_type": "code",
   "execution_count": 13,
   "metadata": {},
   "outputs": [
    {
     "data": {
      "text/html": [
       "<div>\n",
       "<style scoped>\n",
       "    .dataframe tbody tr th:only-of-type {\n",
       "        vertical-align: middle;\n",
       "    }\n",
       "\n",
       "    .dataframe tbody tr th {\n",
       "        vertical-align: top;\n",
       "    }\n",
       "\n",
       "    .dataframe thead th {\n",
       "        text-align: right;\n",
       "    }\n",
       "</style>\n",
       "<table border=\"1\" class=\"dataframe\">\n",
       "  <thead>\n",
       "    <tr style=\"text-align: right;\">\n",
       "      <th></th>\n",
       "      <th>values</th>\n",
       "      <th>start</th>\n",
       "      <th>length</th>\n",
       "      <th>time_onset_hrs</th>\n",
       "      <th>length_hrs</th>\n",
       "      <th>time_mid_hrs</th>\n",
       "    </tr>\n",
       "  </thead>\n",
       "  <tbody>\n",
       "    <tr>\n",
       "      <th>0</th>\n",
       "      <td>1</td>\n",
       "      <td>135000</td>\n",
       "      <td>279000</td>\n",
       "      <td>0.225000</td>\n",
       "      <td>0.387500</td>\n",
       "      <td>0.612500</td>\n",
       "    </tr>\n",
       "    <tr>\n",
       "      <th>1</th>\n",
       "      <td>1</td>\n",
       "      <td>480000</td>\n",
       "      <td>312000</td>\n",
       "      <td>1.183333</td>\n",
       "      <td>0.433333</td>\n",
       "      <td>1.616667</td>\n",
       "    </tr>\n",
       "    <tr>\n",
       "      <th>2</th>\n",
       "      <td>1</td>\n",
       "      <td>861000</td>\n",
       "      <td>93000</td>\n",
       "      <td>2.241667</td>\n",
       "      <td>0.129167</td>\n",
       "      <td>2.370833</td>\n",
       "    </tr>\n",
       "    <tr>\n",
       "      <th>3</th>\n",
       "      <td>1</td>\n",
       "      <td>1215000</td>\n",
       "      <td>333000</td>\n",
       "      <td>3.225000</td>\n",
       "      <td>0.462500</td>\n",
       "      <td>3.687500</td>\n",
       "    </tr>\n",
       "    <tr>\n",
       "      <th>4</th>\n",
       "      <td>1</td>\n",
       "      <td>1725000</td>\n",
       "      <td>153000</td>\n",
       "      <td>4.641667</td>\n",
       "      <td>0.212500</td>\n",
       "      <td>4.854167</td>\n",
       "    </tr>\n",
       "    <tr>\n",
       "      <th>5</th>\n",
       "      <td>1</td>\n",
       "      <td>1890000</td>\n",
       "      <td>126000</td>\n",
       "      <td>5.100000</td>\n",
       "      <td>0.175000</td>\n",
       "      <td>5.275000</td>\n",
       "    </tr>\n",
       "  </tbody>\n",
       "</table>\n",
       "</div>"
      ],
      "text/plain": [
       "   values    start  length  time_onset_hrs  length_hrs  time_mid_hrs\n",
       "0       1   135000  279000        0.225000    0.387500      0.612500\n",
       "1       1   480000  312000        1.183333    0.433333      1.616667\n",
       "2       1   861000   93000        2.241667    0.129167      2.370833\n",
       "3       1  1215000  333000        3.225000    0.462500      3.687500\n",
       "4       1  1725000  153000        4.641667    0.212500      4.854167\n",
       "5       1  1890000  126000        5.100000    0.175000      5.275000"
      ]
     },
     "execution_count": 13,
     "metadata": {},
     "output_type": "execute_result"
    }
   ],
   "source": [
    "# Calculate the onset time (relative to sleep onset) of each NREM period\n",
    "epochs['time_onset_hrs'] = (epochs['start'] - idx_onset) / sf / 3600\n",
    "epochs['length_hrs'] = epochs['length'] / 2 / sf / 3600\n",
    "epochs['time_mid_hrs'] = epochs['time_onset_hrs'] + epochs['length_hrs']\n",
    "epochs"
   ]
  },
  {
   "cell_type": "code",
   "execution_count": 14,
   "metadata": {},
   "outputs": [],
   "source": [
    "# Calculate continuous mask with unique value for each epoch\n",
    "mask_epoch = np.zeros_like(mask, dtype=int)\n",
    "for i, row in epochs.iterrows():\n",
    "    start = int(row['start'])\n",
    "    end = int(row['start']+row['length'])\n",
    "    mask_epoch[start:end] = i + 1"
   ]
  },
  {
   "cell_type": "code",
   "execution_count": 15,
   "metadata": {},
   "outputs": [
    {
     "data": {
      "image/png": "[encoded data removed]",
      "text/plain": [
       "<Figure size 576x288 with 1 Axes>"
      ]
     },
     "metadata": {},
     "output_type": "display_data"
    }
   ],
   "source": [
    "plt.figure(figsize=(8, 4))\n",
    "plt.plot(times / 3600, mask_epoch);\n",
    "plt.xlabel(\"Time (hours)\")\n",
    "plt.ylabel(\"NREM epochs (cleaned)\");"
   ]
  },
  {
   "cell_type": "code",
   "execution_count": 16,
   "metadata": {},
   "outputs": [
    {
     "data": {
      "text/html": [
       "<div>\n",
       "<style scoped>\n",
       "    .dataframe tbody tr th:only-of-type {\n",
       "        vertical-align: middle;\n",
       "    }\n",
       "\n",
       "    .dataframe tbody tr th {\n",
       "        vertical-align: top;\n",
       "    }\n",
       "\n",
       "    .dataframe thead th {\n",
       "        text-align: right;\n",
       "    }\n",
       "</style>\n",
       "<table border=\"1\" class=\"dataframe\">\n",
       "  <thead>\n",
       "    <tr style=\"text-align: right;\">\n",
       "      <th></th>\n",
       "      <th></th>\n",
       "      <th>SWA</th>\n",
       "      <th>Broad</th>\n",
       "      <th>TotalAbsPow</th>\n",
       "      <th>FreqRes</th>\n",
       "      <th>Relative</th>\n",
       "    </tr>\n",
       "    <tr>\n",
       "      <th>Stage</th>\n",
       "      <th>Chan</th>\n",
       "      <th></th>\n",
       "      <th></th>\n",
       "      <th></th>\n",
       "      <th></th>\n",
       "      <th></th>\n",
       "    </tr>\n",
       "  </thead>\n",
       "  <tbody>\n",
       "    <tr>\n",
       "      <th rowspan=\"3\" valign=\"top\">1</th>\n",
       "      <th>Cz</th>\n",
       "      <td>0.879990</td>\n",
       "      <td>1.0</td>\n",
       "      <td>759.297013</td>\n",
       "      <td>0.25</td>\n",
       "      <td>True</td>\n",
       "    </tr>\n",
       "    <tr>\n",
       "      <th>Fz</th>\n",
       "      <td>0.891554</td>\n",
       "      <td>1.0</td>\n",
       "      <td>679.378981</td>\n",
       "      <td>0.25</td>\n",
       "      <td>True</td>\n",
       "    </tr>\n",
       "    <tr>\n",
       "      <th>Pz</th>\n",
       "      <td>0.881084</td>\n",
       "      <td>1.0</td>\n",
       "      <td>649.507425</td>\n",
       "      <td>0.25</td>\n",
       "      <td>True</td>\n",
       "    </tr>\n",
       "    <tr>\n",
       "      <th rowspan=\"3\" valign=\"top\">2</th>\n",
       "      <th>Cz</th>\n",
       "      <td>0.932772</td>\n",
       "      <td>1.0</td>\n",
       "      <td>1258.679770</td>\n",
       "      <td>0.25</td>\n",
       "      <td>True</td>\n",
       "    </tr>\n",
       "    <tr>\n",
       "      <th>Fz</th>\n",
       "      <td>0.935314</td>\n",
       "      <td>1.0</td>\n",
       "      <td>1077.608011</td>\n",
       "      <td>0.25</td>\n",
       "      <td>True</td>\n",
       "    </tr>\n",
       "    <tr>\n",
       "      <th>Pz</th>\n",
       "      <td>0.937276</td>\n",
       "      <td>1.0</td>\n",
       "      <td>1160.018559</td>\n",
       "      <td>0.25</td>\n",
       "      <td>True</td>\n",
       "    </tr>\n",
       "    <tr>\n",
       "      <th rowspan=\"3\" valign=\"top\">3</th>\n",
       "      <th>Cz</th>\n",
       "      <td>0.813878</td>\n",
       "      <td>1.0</td>\n",
       "      <td>300.108848</td>\n",
       "      <td>0.25</td>\n",
       "      <td>True</td>\n",
       "    </tr>\n",
       "    <tr>\n",
       "      <th>Fz</th>\n",
       "      <td>0.822825</td>\n",
       "      <td>1.0</td>\n",
       "      <td>238.431764</td>\n",
       "      <td>0.25</td>\n",
       "      <td>True</td>\n",
       "    </tr>\n",
       "    <tr>\n",
       "      <th>Pz</th>\n",
       "      <td>0.805654</td>\n",
       "      <td>1.0</td>\n",
       "      <td>271.955867</td>\n",
       "      <td>0.25</td>\n",
       "      <td>True</td>\n",
       "    </tr>\n",
       "    <tr>\n",
       "      <th rowspan=\"3\" valign=\"top\">4</th>\n",
       "      <th>Cz</th>\n",
       "      <td>0.922646</td>\n",
       "      <td>1.0</td>\n",
       "      <td>1005.541157</td>\n",
       "      <td>0.25</td>\n",
       "      <td>True</td>\n",
       "    </tr>\n",
       "    <tr>\n",
       "      <th>Fz</th>\n",
       "      <td>0.922905</td>\n",
       "      <td>1.0</td>\n",
       "      <td>811.771503</td>\n",
       "      <td>0.25</td>\n",
       "      <td>True</td>\n",
       "    </tr>\n",
       "    <tr>\n",
       "      <th>Pz</th>\n",
       "      <td>0.928555</td>\n",
       "      <td>1.0</td>\n",
       "      <td>982.958838</td>\n",
       "      <td>0.25</td>\n",
       "      <td>True</td>\n",
       "    </tr>\n",
       "    <tr>\n",
       "      <th rowspan=\"3\" valign=\"top\">5</th>\n",
       "      <th>Cz</th>\n",
       "      <td>0.767149</td>\n",
       "      <td>1.0</td>\n",
       "      <td>211.257012</td>\n",
       "      <td>0.25</td>\n",
       "      <td>True</td>\n",
       "    </tr>\n",
       "    <tr>\n",
       "      <th>Fz</th>\n",
       "      <td>0.779665</td>\n",
       "      <td>1.0</td>\n",
       "      <td>162.488099</td>\n",
       "      <td>0.25</td>\n",
       "      <td>True</td>\n",
       "    </tr>\n",
       "    <tr>\n",
       "      <th>Pz</th>\n",
       "      <td>0.753458</td>\n",
       "      <td>1.0</td>\n",
       "      <td>202.490184</td>\n",
       "      <td>0.25</td>\n",
       "      <td>True</td>\n",
       "    </tr>\n",
       "    <tr>\n",
       "      <th rowspan=\"3\" valign=\"top\">6</th>\n",
       "      <th>Cz</th>\n",
       "      <td>0.769222</td>\n",
       "      <td>1.0</td>\n",
       "      <td>279.616880</td>\n",
       "      <td>0.25</td>\n",
       "      <td>True</td>\n",
       "    </tr>\n",
       "    <tr>\n",
       "      <th>Fz</th>\n",
       "      <td>0.778872</td>\n",
       "      <td>1.0</td>\n",
       "      <td>203.675059</td>\n",
       "      <td>0.25</td>\n",
       "      <td>True</td>\n",
       "    </tr>\n",
       "    <tr>\n",
       "      <th>Pz</th>\n",
       "      <td>0.772102</td>\n",
       "      <td>1.0</td>\n",
       "      <td>253.092206</td>\n",
       "      <td>0.25</td>\n",
       "      <td>True</td>\n",
       "    </tr>\n",
       "  </tbody>\n",
       "</table>\n",
       "</div>"
      ],
      "text/plain": [
       "                 SWA  Broad  TotalAbsPow  FreqRes  Relative\n",
       "Stage Chan                                                 \n",
       "1     Cz    0.879990    1.0   759.297013     0.25      True\n",
       "      Fz    0.891554    1.0   679.378981     0.25      True\n",
       "      Pz    0.881084    1.0   649.507425     0.25      True\n",
       "2     Cz    0.932772    1.0  1258.679770     0.25      True\n",
       "      Fz    0.935314    1.0  1077.608011     0.25      True\n",
       "      Pz    0.937276    1.0  1160.018559     0.25      True\n",
       "3     Cz    0.813878    1.0   300.108848     0.25      True\n",
       "      Fz    0.822825    1.0   238.431764     0.25      True\n",
       "      Pz    0.805654    1.0   271.955867     0.25      True\n",
       "4     Cz    0.922646    1.0  1005.541157     0.25      True\n",
       "      Fz    0.922905    1.0   811.771503     0.25      True\n",
       "      Pz    0.928555    1.0   982.958838     0.25      True\n",
       "5     Cz    0.767149    1.0   211.257012     0.25      True\n",
       "      Fz    0.779665    1.0   162.488099     0.25      True\n",
       "      Pz    0.753458    1.0   202.490184     0.25      True\n",
       "6     Cz    0.769222    1.0   279.616880     0.25      True\n",
       "      Fz    0.778872    1.0   203.675059     0.25      True\n",
       "      Pz    0.772102    1.0   253.092206     0.25      True"
      ]
     },
     "execution_count": 16,
     "metadata": {},
     "output_type": "execute_result"
    }
   ],
   "source": [
    "# Calculate SWA power in each period, for each channel\n",
    "nperseg = int(4 * sf)\n",
    "freq_swa = (0.5, 4)\n",
    "freq_broad = (0.5, 30)\n",
    "win_sec = 4\n",
    "kwargs_welch = dict(average='median', window='hamming')\n",
    "\n",
    "bp = yasa.bandpower(\n",
    "    data, sf, ch_names=ch_names, hypno=mask_epoch, include=list(range(1, max(mask_epoch) + 1)), \n",
    "    win_sec=win_sec, relative=True, bandpass=False, \n",
    "    bands=[(freq_swa[0], freq_swa[1], \"SWA\"), (freq_broad[0], freq_broad[1], \"Broad\")], \n",
    "    kwargs_welch=kwargs_welch)\n",
    "\n",
    "bp"
   ]
  },
  {
   "cell_type": "code",
   "execution_count": 17,
   "metadata": {},
   "outputs": [
    {
     "name": "stdout",
     "output_type": "stream",
     "text": [
      "[0.758 0.95  4.   ] - MSE = 0.003\n"
     ]
    }
   ],
   "source": [
    "# Calculate exponential decline\n",
    "# https://doi.org/10.1093/sleep/33.4.491\n",
    "# https://bmcneurosci.biomedcentral.com/articles/10.1186/1471-2202-12-84#Sec8\n",
    "# S(t) = (S_sleeponset - lower_asym) * exp(-t / slope) + lower_asym\n",
    "# - The time t starts at zero at sleep onset.\n",
    "# - Data were normalized within each subject with mean SWA across all derivations\n",
    "# - Therefore, SWA and LA are expressed in percentage.\n",
    "# Thus, τd was restricted to a range of 0 to 4 h. Additionally, LA was forced to be larger or equal zero.\n",
    "from scipy.optimize import curve_fit\n",
    "\n",
    "def _decay_func(t, asym, intercept, tau):\n",
    "    \"\"\"Exponential decay equation\"\"\"\n",
    "    return (intercept - asym) * np.exp(- t / tau) + asym\n",
    "    # return (intercept - asym) * np.exp(- slope * t) + asym\n",
    "\n",
    "xdata = epochs['time_mid_hrs'].to_numpy()\n",
    "ydata = bp.xs(ch_names[1], level=-1)[\"SWA\"]\n",
    "\n",
    "# Asymptote must be between 0 and 1 if evaluating relative power\n",
    "# Intercept must be between 0 and 1 if evaluating relative power\n",
    "# Slope must be between \n",
    "\n",
    "popt, _ = curve_fit(_decay_func, xdata, ydata, p0=(0.5, 0.8, 1),\n",
    "                    bounds=((0, 0, 0), (1, 1, 4)), method=\"trf\")\n",
    "\n",
    "mse = np.mean((ydata - _decay_func(xdata, *popt))**2)\n",
    "\n",
    "print(np.round(popt, 3), \"- MSE =\", round(mse, 3))"
   ]
  },
  {
   "cell_type": "code",
   "execution_count": 18,
   "metadata": {},
   "outputs": [
    {
     "data": {
      "image/png": "[encoded data removed]",
      "text/plain": [
       "<Figure size 432x288 with 1 Axes>"
      ]
     },
     "metadata": {},
     "output_type": "display_data"
    }
   ],
   "source": [
    "plt.plot(xdata, _decay_func(xdata, *popt), marker=\"o\");\n",
    "plt.plot(xdata, ydata, linewidth=0, marker=\"o\");"
   ]
  },
  {
   "cell_type": "markdown",
   "metadata": {},
   "source": [
    "*******\n",
    "\n",
    "### Simulation"
   ]
  },
  {
   "cell_type": "code",
   "execution_count": 19,
   "metadata": {},
   "outputs": [
    {
     "data": {
      "image/png": "[encoded data removed]",
      "text/plain": [
       "<Figure size 360x360 with 1 Axes>"
      ]
     },
     "metadata": {},
     "output_type": "display_data"
    }
   ],
   "source": [
    "sim_xdata = np.arange(0, 9, 1)\n",
    "pal = sns.color_palette(\"Blues_d\", n_colors=4)\n",
    "\n",
    "plt.figure(figsize=(5, 5))\n",
    "plt.plot(sim_xdata, _decay_func(sim_xdata, *[0.5, 0.9, 4]), \n",
    "         marker=\"o\", color=pal[0], label=\"$\\\\tau = 4$\");\n",
    "plt.plot(sim_xdata, _decay_func(sim_xdata, *[0.5, 0.9, 2]), \n",
    "         marker=\"o\", color=pal[1], label=\"$\\\\tau = 2$\");\n",
    "plt.plot(sim_xdata, _decay_func(sim_xdata, *[0.5, 0.9, 1]), \n",
    "         marker=\"o\", color=pal[2], label=\"$\\\\tau = 1$\");\n",
    "plt.plot(sim_xdata, _decay_func(sim_xdata, *[0.5, 0.9, 0.5]), \n",
    "         marker=\"o\", color=pal[3], label=\"$\\\\tau = 0.5$\");\n",
    "plt.ylim(0, 1)\n",
    "plt.xlim(0, None)\n",
    "plt.xlabel(\"Time (hours)\")\n",
    "plt.ylabel(\"Relative SWA (0.5-4 Hz) power\")\n",
    "plt.title(\"Simulated exponential decline\", fontweight=\"bold\")\n",
    "plt.legend(frameon=True, loc=\"lower right\");"
   ]
  }
 ],
 "metadata": {
  "kernelspec": {
   "display_name": "Python 3",
   "language": "python",
   "name": "python3"
  },
  "language_info": {
   "codemirror_mode": {
    "name": "ipython",
    "version": 3
   },
   "file_extension": ".py",
   "mimetype": "text/x-python",
   "name": "python",
   "nbconvert_exporter": "python",
   "pygments_lexer": "ipython3",
   "version": "3.8.3"
  }
 },
 "nbformat": 4,
 "nbformat_minor": 4
}
