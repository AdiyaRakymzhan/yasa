{
 "cells": [
  {
   "cell_type": "code",
   "execution_count": 1,
   "metadata": {},
   "outputs": [],
   "source": [
    "import mne\n",
    "import yasa\n",
    "import numpy as np\n",
    "import pandas as pd\n",
    "import antropy as ant\n",
    "import matplotlib.pyplot as plt\n",
    "import seaborn as sns\n",
    "sns.set(font_scale=1.2)"
   ]
  },
  {
   "cell_type": "code",
   "execution_count": 2,
   "metadata": {},
   "outputs": [
    {
     "name": "stdout",
     "output_type": "stream",
     "text": [
      "(2161058,) [15.797 22.307 39.922 25.657 27.094]\n"
     ]
    }
   ],
   "source": [
    "# Load EEG data\n",
    "f = np.load('data_full_6hrs_100Hz_Cz+Fz+Pz.npz')\n",
    "data, ch_names = f['data'], f['chan']\n",
    "sf = 100.\n",
    "times = np.arange(data.size) / sf\n",
    "\n",
    "# Keep only Cz\n",
    "data = data[0, :]\n",
    "print(data.shape, np.round(data[0:5], 3))"
   ]
  },
  {
   "cell_type": "code",
   "execution_count": 3,
   "metadata": {},
   "outputs": [
    {
     "name": "stderr",
     "output_type": "stream",
     "text": [
      "23-Feb-22 18:41:30 | WARNING | Hypnogram is SHORTER than data by 10.58 seconds. Padding hypnogram with last value to match data.size.\n"
     ]
    },
    {
     "name": "stdout",
     "output_type": "stream",
     "text": [
      "(720,) Unique values = [0 1 2 3 4]\n"
     ]
    }
   ],
   "source": [
    "# Load the hypnogram data\n",
    "hypno = np.loadtxt('data_full_6hrs_100Hz_hypno_30s.txt').astype(int)\n",
    "print(hypno.shape, 'Unique values =', np.unique(hypno))\n",
    "hypno = yasa.hypno_upsample_to_data(hypno, 1/30, data, sf)"
   ]
  },
  {
   "cell_type": "code",
   "execution_count": 4,
   "metadata": {},
   "outputs": [],
   "source": [
    "# Bandpass filter\n",
    "data = mne.filter.filter_data(data.astype('float64'), sf, 0.5, 30, verbose=0)"
   ]
  },
  {
   "cell_type": "code",
   "execution_count": 5,
   "metadata": {},
   "outputs": [
    {
     "data": {
      "image/png": "[encoded data removed]",
      "text/plain": [
       "<Figure size 432x288 with 1 Axes>"
      ]
     },
     "metadata": {},
     "output_type": "display_data"
    }
   ],
   "source": [
    "include = (2, 3)\n",
    "mask = np.in1d(hypno, include).astype(int)\n",
    "plt.plot(mask);"
   ]
  },
  {
   "cell_type": "code",
   "execution_count": 6,
   "metadata": {},
   "outputs": [],
   "source": [
    "def find_runs(x):\n",
    "    \"\"\"Find runs of consecutive items in an array.\n",
    "\n",
    "    From https://gist.github.com/alimanfoo/c5977e87111abe8127453b21204c1065\n",
    "    \"\"\"\n",
    "    n = x.shape[0]\n",
    "    # Find run starts\n",
    "    loc_run_start = np.empty(n, dtype=bool)\n",
    "    loc_run_start[0] = True\n",
    "    np.not_equal(x[:-1], x[1:], out=loc_run_start[1:])\n",
    "    run_starts = np.nonzero(loc_run_start)[0]\n",
    "    # Find run values\n",
    "    run_values = x[loc_run_start]\n",
    "    # Find run lengths\n",
    "    run_lengths = np.diff(np.append(run_starts, n))\n",
    "    return pd.DataFrame({'values': run_values, 'start': run_starts, 'length': run_lengths})"
   ]
  },
  {
   "cell_type": "code",
   "execution_count": 7,
   "metadata": {},
   "outputs": [
    {
     "data": {
      "text/html": [
       "<div>\n",
       "<style scoped>\n",
       "    .dataframe tbody tr th:only-of-type {\n",
       "        vertical-align: middle;\n",
       "    }\n",
       "\n",
       "    .dataframe tbody tr th {\n",
       "        vertical-align: top;\n",
       "    }\n",
       "\n",
       "    .dataframe thead th {\n",
       "        text-align: right;\n",
       "    }\n",
       "</style>\n",
       "<table border=\"1\" class=\"dataframe\">\n",
       "  <thead>\n",
       "    <tr style=\"text-align: right;\">\n",
       "      <th></th>\n",
       "      <th>values</th>\n",
       "      <th>start</th>\n",
       "      <th>length</th>\n",
       "    </tr>\n",
       "  </thead>\n",
       "  <tbody>\n",
       "    <tr>\n",
       "      <th>0</th>\n",
       "      <td>1</td>\n",
       "      <td>135000</td>\n",
       "      <td>279000</td>\n",
       "    </tr>\n",
       "    <tr>\n",
       "      <th>1</th>\n",
       "      <td>1</td>\n",
       "      <td>480000</td>\n",
       "      <td>312000</td>\n",
       "    </tr>\n",
       "    <tr>\n",
       "      <th>2</th>\n",
       "      <td>1</td>\n",
       "      <td>861000</td>\n",
       "      <td>93000</td>\n",
       "    </tr>\n",
       "    <tr>\n",
       "      <th>3</th>\n",
       "      <td>1</td>\n",
       "      <td>1215000</td>\n",
       "      <td>333000</td>\n",
       "    </tr>\n",
       "    <tr>\n",
       "      <th>4</th>\n",
       "      <td>1</td>\n",
       "      <td>1725000</td>\n",
       "      <td>153000</td>\n",
       "    </tr>\n",
       "    <tr>\n",
       "      <th>5</th>\n",
       "      <td>1</td>\n",
       "      <td>1890000</td>\n",
       "      <td>126000</td>\n",
       "    </tr>\n",
       "  </tbody>\n",
       "</table>\n",
       "</div>"
      ],
      "text/plain": [
       "   values    start  length\n",
       "0       1   135000  279000\n",
       "1       1   480000  312000\n",
       "2       1   861000   93000\n",
       "3       1  1215000  333000\n",
       "4       1  1725000  153000\n",
       "5       1  1890000  126000"
      ]
     },
     "execution_count": 7,
     "metadata": {},
     "output_type": "execute_result"
    }
   ],
   "source": [
    "# Calculate NREM periods (>5 min consecutive)\n",
    "n_samples_thr = int(pd.Timedelta(\"10min\").seconds * sf)\n",
    "\n",
    "# This show the onset and duration (in samples) of all the NREM epochs that are > 5 min\n",
    "epochs = find_runs(mask).query(\"values == 1 and length > @n_samples_thr\").reset_index(drop=True)\n",
    "epochs"
   ]
  },
  {
   "cell_type": "code",
   "execution_count": 8,
   "metadata": {},
   "outputs": [
    {
     "data": {
      "text/html": [
       "<div>\n",
       "<style scoped>\n",
       "    .dataframe tbody tr th:only-of-type {\n",
       "        vertical-align: middle;\n",
       "    }\n",
       "\n",
       "    .dataframe tbody tr th {\n",
       "        vertical-align: top;\n",
       "    }\n",
       "\n",
       "    .dataframe thead th {\n",
       "        text-align: right;\n",
       "    }\n",
       "</style>\n",
       "<table border=\"1\" class=\"dataframe\">\n",
       "  <thead>\n",
       "    <tr style=\"text-align: right;\">\n",
       "      <th></th>\n",
       "      <th>values</th>\n",
       "      <th>start</th>\n",
       "      <th>length</th>\n",
       "      <th>time_onset_hrs</th>\n",
       "      <th>length_hrs</th>\n",
       "      <th>time_mid_hrs</th>\n",
       "    </tr>\n",
       "  </thead>\n",
       "  <tbody>\n",
       "    <tr>\n",
       "      <th>0</th>\n",
       "      <td>1</td>\n",
       "      <td>135000</td>\n",
       "      <td>279000</td>\n",
       "      <td>0.225000</td>\n",
       "      <td>0.387500</td>\n",
       "      <td>0.612500</td>\n",
       "    </tr>\n",
       "    <tr>\n",
       "      <th>1</th>\n",
       "      <td>1</td>\n",
       "      <td>480000</td>\n",
       "      <td>312000</td>\n",
       "      <td>1.183333</td>\n",
       "      <td>0.433333</td>\n",
       "      <td>1.616667</td>\n",
       "    </tr>\n",
       "    <tr>\n",
       "      <th>2</th>\n",
       "      <td>1</td>\n",
       "      <td>861000</td>\n",
       "      <td>93000</td>\n",
       "      <td>2.241667</td>\n",
       "      <td>0.129167</td>\n",
       "      <td>2.370833</td>\n",
       "    </tr>\n",
       "    <tr>\n",
       "      <th>3</th>\n",
       "      <td>1</td>\n",
       "      <td>1215000</td>\n",
       "      <td>333000</td>\n",
       "      <td>3.225000</td>\n",
       "      <td>0.462500</td>\n",
       "      <td>3.687500</td>\n",
       "    </tr>\n",
       "    <tr>\n",
       "      <th>4</th>\n",
       "      <td>1</td>\n",
       "      <td>1725000</td>\n",
       "      <td>153000</td>\n",
       "      <td>4.641667</td>\n",
       "      <td>0.212500</td>\n",
       "      <td>4.854167</td>\n",
       "    </tr>\n",
       "    <tr>\n",
       "      <th>5</th>\n",
       "      <td>1</td>\n",
       "      <td>1890000</td>\n",
       "      <td>126000</td>\n",
       "      <td>5.100000</td>\n",
       "      <td>0.175000</td>\n",
       "      <td>5.275000</td>\n",
       "    </tr>\n",
       "  </tbody>\n",
       "</table>\n",
       "</div>"
      ],
      "text/plain": [
       "   values    start  length  time_onset_hrs  length_hrs  time_mid_hrs\n",
       "0       1   135000  279000        0.225000    0.387500      0.612500\n",
       "1       1   480000  312000        1.183333    0.433333      1.616667\n",
       "2       1   861000   93000        2.241667    0.129167      2.370833\n",
       "3       1  1215000  333000        3.225000    0.462500      3.687500\n",
       "4       1  1725000  153000        4.641667    0.212500      4.854167\n",
       "5       1  1890000  126000        5.100000    0.175000      5.275000"
      ]
     },
     "execution_count": 8,
     "metadata": {},
     "output_type": "execute_result"
    }
   ],
   "source": [
    "# Calculate the onset time (relative to sleep onset) of each NREM period\n",
    "# Sleep onset is defined as the first epoch of N2 or N3 sleep\n",
    "idx_onset = np.nonzero(np.in1d(hypno, (2, 3)))[0][0]\n",
    "epochs['time_onset_hrs'] = (epochs['start'] - idx_onset) / sf / 3600\n",
    "epochs['length_hrs'] = epochs['length'] / 2 / sf / 3600\n",
    "epochs['time_mid_hrs'] = epochs['time_onset_hrs'] + epochs['length_hrs']\n",
    "epochs"
   ]
  },
  {
   "cell_type": "code",
   "execution_count": 9,
   "metadata": {},
   "outputs": [],
   "source": [
    "# Calculate continuous mask with unique value for each epoch\n",
    "mask_epoch = np.zeros_like(mask, dtype=int)\n",
    "for i, row in epochs.iterrows():\n",
    "    start = int(row['start'])\n",
    "    end = int(row['start']+row['length']+1)\n",
    "    mask_epoch[start:end] = i + 1"
   ]
  },
  {
   "cell_type": "code",
   "execution_count": 10,
   "metadata": {},
   "outputs": [
    {
     "data": {
      "image/png": "[encoded data removed]",
      "text/plain": [
       "<Figure size 432x288 with 1 Axes>"
      ]
     },
     "metadata": {},
     "output_type": "display_data"
    }
   ],
   "source": [
    "plt.plot(mask_epoch);"
   ]
  },
  {
   "cell_type": "code",
   "execution_count": 11,
   "metadata": {},
   "outputs": [
    {
     "data": {
      "text/html": [
       "<div>\n",
       "<style scoped>\n",
       "    .dataframe tbody tr th:only-of-type {\n",
       "        vertical-align: middle;\n",
       "    }\n",
       "\n",
       "    .dataframe tbody tr th {\n",
       "        vertical-align: top;\n",
       "    }\n",
       "\n",
       "    .dataframe thead th {\n",
       "        text-align: right;\n",
       "    }\n",
       "</style>\n",
       "<table border=\"1\" class=\"dataframe\">\n",
       "  <thead>\n",
       "    <tr style=\"text-align: right;\">\n",
       "      <th></th>\n",
       "      <th></th>\n",
       "      <th>SWA</th>\n",
       "      <th>Broad</th>\n",
       "      <th>TotalAbsPow</th>\n",
       "      <th>FreqRes</th>\n",
       "      <th>Relative</th>\n",
       "      <th>SWA_rel</th>\n",
       "      <th>SWA_pct</th>\n",
       "    </tr>\n",
       "    <tr>\n",
       "      <th>Stage</th>\n",
       "      <th>Chan</th>\n",
       "      <th></th>\n",
       "      <th></th>\n",
       "      <th></th>\n",
       "      <th></th>\n",
       "      <th></th>\n",
       "      <th></th>\n",
       "      <th></th>\n",
       "    </tr>\n",
       "  </thead>\n",
       "  <tbody>\n",
       "    <tr>\n",
       "      <th>1</th>\n",
       "      <th>CHAN000</th>\n",
       "      <td>668.173418</td>\n",
       "      <td>759.297013</td>\n",
       "      <td>759.297013</td>\n",
       "      <td>0.25</td>\n",
       "      <td>False</td>\n",
       "      <td>0.879990</td>\n",
       "      <td>18.212024</td>\n",
       "    </tr>\n",
       "    <tr>\n",
       "      <th>2</th>\n",
       "      <th>CHAN000</th>\n",
       "      <td>1174.061420</td>\n",
       "      <td>1258.679770</td>\n",
       "      <td>1258.679770</td>\n",
       "      <td>0.25</td>\n",
       "      <td>False</td>\n",
       "      <td>0.932772</td>\n",
       "      <td>107.712808</td>\n",
       "    </tr>\n",
       "    <tr>\n",
       "      <th>3</th>\n",
       "      <th>CHAN000</th>\n",
       "      <td>244.251907</td>\n",
       "      <td>300.108848</td>\n",
       "      <td>300.108848</td>\n",
       "      <td>0.25</td>\n",
       "      <td>False</td>\n",
       "      <td>0.813878</td>\n",
       "      <td>-56.787397</td>\n",
       "    </tr>\n",
       "    <tr>\n",
       "      <th>4</th>\n",
       "      <th>CHAN000</th>\n",
       "      <td>927.758286</td>\n",
       "      <td>1005.541157</td>\n",
       "      <td>1005.541157</td>\n",
       "      <td>0.25</td>\n",
       "      <td>False</td>\n",
       "      <td>0.922646</td>\n",
       "      <td>64.137306</td>\n",
       "    </tr>\n",
       "    <tr>\n",
       "      <th>5</th>\n",
       "      <th>CHAN000</th>\n",
       "      <td>162.065672</td>\n",
       "      <td>211.257012</td>\n",
       "      <td>211.257012</td>\n",
       "      <td>0.25</td>\n",
       "      <td>False</td>\n",
       "      <td>0.767149</td>\n",
       "      <td>-71.327637</td>\n",
       "    </tr>\n",
       "    <tr>\n",
       "      <th>6</th>\n",
       "      <th>CHAN000</th>\n",
       "      <td>215.087541</td>\n",
       "      <td>279.616880</td>\n",
       "      <td>279.616880</td>\n",
       "      <td>0.25</td>\n",
       "      <td>False</td>\n",
       "      <td>0.769222</td>\n",
       "      <td>-61.947104</td>\n",
       "    </tr>\n",
       "  </tbody>\n",
       "</table>\n",
       "</div>"
      ],
      "text/plain": [
       "                       SWA        Broad  TotalAbsPow  FreqRes  Relative  \\\n",
       "Stage Chan                                                                \n",
       "1     CHAN000   668.173418   759.297013   759.297013     0.25     False   \n",
       "2     CHAN000  1174.061420  1258.679770  1258.679770     0.25     False   \n",
       "3     CHAN000   244.251907   300.108848   300.108848     0.25     False   \n",
       "4     CHAN000   927.758286  1005.541157  1005.541157     0.25     False   \n",
       "5     CHAN000   162.065672   211.257012   211.257012     0.25     False   \n",
       "6     CHAN000   215.087541   279.616880   279.616880     0.25     False   \n",
       "\n",
       "                SWA_rel     SWA_pct  \n",
       "Stage Chan                           \n",
       "1     CHAN000  0.879990   18.212024  \n",
       "2     CHAN000  0.932772  107.712808  \n",
       "3     CHAN000  0.813878  -56.787397  \n",
       "4     CHAN000  0.922646   64.137306  \n",
       "5     CHAN000  0.767149  -71.327637  \n",
       "6     CHAN000  0.769222  -61.947104  "
      ]
     },
     "execution_count": 11,
     "metadata": {},
     "output_type": "execute_result"
    }
   ],
   "source": [
    "# Calculate SWA power in each period, for each channel\n",
    "nperseg = int(4 * sf)\n",
    "freq_swa = (0.5, 4)\n",
    "freq_broad = (0.5, 30)\n",
    "win_sec = 4\n",
    "kwargs_welch = dict(average='median', window='hamming')\n",
    "\n",
    "bp = yasa.bandpower(\n",
    "    data, sf, hypno=mask_epoch, include=list(range(1, max(mask_epoch) + 1)), \n",
    "    win_sec=win_sec, relative=False, bandpass=False, \n",
    "    bands=[(freq_swa[0], freq_swa[1], \"SWA\"), (freq_broad[0], freq_broad[1], \"Broad\")], \n",
    "    kwargs_welch=kwargs_welch)\n",
    "\n",
    "bp['SWA_rel'] = bp['SWA'] / bp['TotalAbsPow']\n",
    "bp['SWA_pct'] = 100 * (bp['SWA'] - bp['SWA'].mean()) / bp['SWA'].mean()\n",
    "\n",
    "bp"
   ]
  },
  {
   "cell_type": "code",
   "execution_count": 12,
   "metadata": {},
   "outputs": [
    {
     "data": {
      "text/plain": [
       "array([0.74709014, 0.92988017, 4.        ])"
      ]
     },
     "execution_count": 12,
     "metadata": {},
     "output_type": "execute_result"
    }
   ],
   "source": [
    "# Calculate exponential decline\n",
    "# https://doi.org/10.1093/sleep/33.4.491\n",
    "# https://bmcneurosci.biomedcentral.com/articles/10.1186/1471-2202-12-84#Sec8\n",
    "# S(t) = (S_sleeponset - lower_asym) * exp(-t / slope) + lower_asym\n",
    "# - The time t starts at zero at sleep onset.\n",
    "# - Data were normalized within each subject with mean SWA across all derivations\n",
    "# - Therefore, SWA and LA are expressed in percentage.\n",
    "# Thus, τd was restricted to a range of 0 to 4 h. Additionally, LA was forced to be larger or equal zero.\n",
    "\n",
    "from scipy.stats import zscore\n",
    "from scipy.optimize import curve_fit\n",
    "\n",
    "def _fit_exp_decay(t, asym, intercept, slope):\n",
    "    \"\"\"Exponential decay equation\"\"\"\n",
    "    return (intercept - asym) * np.exp(- t / slope) + asym\n",
    "\n",
    "xdata = epochs['time_onset_hrs'].to_numpy()\n",
    "ydata = bp['SWA_rel']\n",
    "\n",
    "# Asymptote must be between 0 and 1 if evaluating relative power\n",
    "# Intercept must be between 0 and 1 if evaluating relative power\n",
    "# Slope must be between \n",
    "\n",
    "popt, _ = curve_fit(_fit_exp_decay, xdata, ydata, \n",
    "                    bounds=((0, 0, 0), (1, 1, 4)))\n",
    "\n",
    "popt"
   ]
  },
  {
   "cell_type": "code",
   "execution_count": 13,
   "metadata": {},
   "outputs": [
    {
     "data": {
      "image/png": "[encoded data removed]",
      "text/plain": [
       "<Figure size 432x288 with 1 Axes>"
      ]
     },
     "metadata": {},
     "output_type": "display_data"
    }
   ],
   "source": [
    "plt.plot(xdata, _fit_exp_decay(xdata, *popt), marker=\"o\");\n",
    "plt.plot(xdata, ydata, linewidth=0, marker=\"o\");"
   ]
  }
 ],
 "metadata": {
  "kernelspec": {
   "display_name": "Python 3 (ipykernel)",
   "language": "python",
   "name": "python3"
  },
  "language_info": {
   "codemirror_mode": {
    "name": "ipython",
    "version": 3
   },
   "file_extension": ".py",
   "mimetype": "text/x-python",
   "name": "python",
   "nbconvert_exporter": "python",
   "pygments_lexer": "ipython3",
   "version": "3.9.6"
  }
 },
 "nbformat": 4,
 "nbformat_minor": 4
}
