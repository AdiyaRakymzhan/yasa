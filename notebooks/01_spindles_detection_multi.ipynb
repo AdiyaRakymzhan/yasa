{
 "cells": [
  {
   "cell_type": "markdown",
   "metadata": {},
   "source": [
    "# YASA\n",
    "\n",
    "This notebook demonstrates how to use YASA to perform **multi-channels sleep spindles detection** from a NumPy array (example 1) or a MNE Raw object (example 2).\n",
    "\n",
    "Please make sure to install YASA first by typing the following line in your terminal or command prompt:\n",
    "\n",
    "`pip install --upgrade yasa`\n",
    "\n",
    "**Important**\n",
    "- The data must be a numpy array of shape *(n_channels, n_samples)*.\n",
    "- The sampling frequency `sf` must be the same for all channels.\n",
    "- A list of the channel names (`ch_names`) must be provided as well.\n",
    "- The unit of the data must be $\\mu V$. Note that the default unit in [MNE](https://martinos.org/mne/dev/generated/mne.io.Raw.html) is $V$. Therefore, if you use MNE, you must multiply your data by 1e6 (1 $V$ = 1,000,000 $\\mu V$).\n",
    "\n",
    "## Example 1: Using NumPy\n",
    "\n",
    "To illustrate the multi-channel spindles detection, we load a full-night 3-channels dataset (Cz, Fz, Pz) sampled at 100 Hz. The data is in compressed NumPy format (*.npz*)."
   ]
  },
  {
   "cell_type": "code",
   "execution_count": 1,
   "metadata": {},
   "outputs": [
    {
     "name": "stdout",
     "output_type": "stream",
     "text": [
      "(3, 2161058) ['Cz' 'Fz' 'Pz']\n",
      "[[15.797 22.307 39.922 25.657 27.094]\n",
      " [16.896 26.385 40.966 21.833 24.456]\n",
      " [ 5.899 14.297 36.592 26.094 23.395]]\n"
     ]
    }
   ],
   "source": [
    "import yasa\n",
    "import numpy as np\n",
    "\n",
    "# Load data\n",
    "f = np.load('data_full_6hrs_100Hz_Cz+Fz+Pz.npz')\n",
    "data, chan = f['data'], f['chan']\n",
    "sf = 100.\n",
    "times = np.arange(data.size) / sf\n",
    "\n",
    "print(data.shape, chan)\n",
    "print(np.round(data[:, 0:5], 3))"
   ]
  },
  {
   "cell_type": "markdown",
   "metadata": {},
   "source": [
    "*************\n",
    "\n",
    "**Applying the detection**\n",
    "\n",
    "To apply the multi-channel detection, we use the `yasa.spindles_detect_multi` function. Read the doc below:"
   ]
  },
  {
   "cell_type": "code",
   "execution_count": 2,
   "metadata": {},
   "outputs": [
    {
     "data": {
      "text/plain": [
       "\u001b[1;31mSignature:\u001b[0m \u001b[0myasa\u001b[0m\u001b[1;33m.\u001b[0m\u001b[0mspindles_detect_multi\u001b[0m\u001b[1;33m(\u001b[0m\u001b[0mdata\u001b[0m\u001b[1;33m,\u001b[0m \u001b[0msf\u001b[0m\u001b[1;33m,\u001b[0m \u001b[0mch_names\u001b[0m\u001b[1;33m,\u001b[0m \u001b[0mmulti_only\u001b[0m\u001b[1;33m=\u001b[0m\u001b[1;32mFalse\u001b[0m\u001b[1;33m,\u001b[0m \u001b[1;33m**\u001b[0m\u001b[0mkwargs\u001b[0m\u001b[1;33m)\u001b[0m\u001b[1;33m\u001b[0m\u001b[0m\n",
       "\u001b[1;31mDocstring:\u001b[0m\n",
       "Multi-channel spindles detection.\n",
       "\n",
       "Parameters\n",
       "----------\n",
       "data : array_like\n",
       "    Multi-channel data. Unit must be uV and shape (n_chan, n_samples).\n",
       "    If you used MNE to load the data, you should pass `raw._data * 1e6`.\n",
       "sf : float\n",
       "    Sampling frequency of the data in Hz.\n",
       "    If you used MNE to load the data, you should pass `raw.info['sfreq']`.\n",
       "ch_names : list of str\n",
       "    Channel names.\n",
       "    If you used MNE to load the data, you should pass `raw.ch_names`.\n",
       "multi_only : boolean\n",
       "    Define the behavior of the multi-channel detection. If True, only\n",
       "    spindles that are present on at least two channels are kept. If False,\n",
       "    no selection is applied and the output is just a concatenation of the\n",
       "    single-channel detection dataframe. Default is False.\n",
       "**kwargs\n",
       "    Keywords arguments that are passed to the `spindles_detect` function.\n",
       "\n",
       "Returns\n",
       "-------\n",
       "sp_params : pd.DataFrame\n",
       "    Pandas DataFrame::\n",
       "\n",
       "        'Start' : Start time of each detected spindles (in seconds)\n",
       "        'End' : End time (in seconds)\n",
       "        'Duration' : Duration (in seconds)\n",
       "        'Amplitude' : Amplitude (in uV)\n",
       "        'RMS' : Root-mean-square (in uV)\n",
       "        'AbsPower' : Median absolute power (in log10 uV^2)\n",
       "        'RelPower' : Median relative power (ranging from 0 to 1, in % uV^2)\n",
       "        'Frequency' : Median frequency (in Hz)\n",
       "        'Oscillations' : Number of oscillations (peaks)\n",
       "        'Symmetry' : Symmetry index, ranging from 0 to 1\n",
       "        'Channel' : Channel name\n",
       "        'IdxChannel' : Integer index of channel in data\n",
       "        'Stage' : Sleep stage (only if hypno was provided)\n",
       "\u001b[1;31mFile:\u001b[0m      c:\\users\\raphael\\desktop\\yasa\\yasa\\main.py\n",
       "\u001b[1;31mType:\u001b[0m      function\n"
      ]
     },
     "metadata": {},
     "output_type": "display_data"
    }
   ],
   "source": [
    "# Print the documentation\n",
    "yasa.spindles_detect_multi?"
   ]
  },
  {
   "cell_type": "code",
   "execution_count": 3,
   "metadata": {},
   "outputs": [
    {
     "name": "stdout",
     "output_type": "stream",
     "text": [
      "2205 spindles detected.\n"
     ]
    },
    {
     "data": {
      "text/html": [
       "<div>\n",
       "<style scoped>\n",
       "    .dataframe tbody tr th:only-of-type {\n",
       "        vertical-align: middle;\n",
       "    }\n",
       "\n",
       "    .dataframe tbody tr th {\n",
       "        vertical-align: top;\n",
       "    }\n",
       "\n",
       "    .dataframe thead th {\n",
       "        text-align: right;\n",
       "    }\n",
       "</style>\n",
       "<table border=\"1\" class=\"dataframe\">\n",
       "  <thead>\n",
       "    <tr style=\"text-align: right;\">\n",
       "      <th></th>\n",
       "      <th>Start</th>\n",
       "      <th>End</th>\n",
       "      <th>Duration</th>\n",
       "      <th>Amplitude</th>\n",
       "      <th>RMS</th>\n",
       "      <th>AbsPower</th>\n",
       "      <th>RelPower</th>\n",
       "      <th>Frequency</th>\n",
       "      <th>Oscillations</th>\n",
       "      <th>Symmetry</th>\n",
       "      <th>Channel</th>\n",
       "      <th>IdxChannel</th>\n",
       "    </tr>\n",
       "  </thead>\n",
       "  <tbody>\n",
       "    <tr>\n",
       "      <th>0</th>\n",
       "      <td>522.54</td>\n",
       "      <td>523.79</td>\n",
       "      <td>1.25</td>\n",
       "      <td>45.509</td>\n",
       "      <td>10.850</td>\n",
       "      <td>2.131</td>\n",
       "      <td>0.470</td>\n",
       "      <td>13.083</td>\n",
       "      <td>16.0</td>\n",
       "      <td>0.190</td>\n",
       "      <td>Cz</td>\n",
       "      <td>0</td>\n",
       "    </tr>\n",
       "    <tr>\n",
       "      <th>1</th>\n",
       "      <td>585.51</td>\n",
       "      <td>586.38</td>\n",
       "      <td>0.87</td>\n",
       "      <td>59.435</td>\n",
       "      <td>13.185</td>\n",
       "      <td>2.255</td>\n",
       "      <td>0.473</td>\n",
       "      <td>12.946</td>\n",
       "      <td>11.0</td>\n",
       "      <td>0.659</td>\n",
       "      <td>Cz</td>\n",
       "      <td>0</td>\n",
       "    </tr>\n",
       "    <tr>\n",
       "      <th>2</th>\n",
       "      <td>598.06</td>\n",
       "      <td>599.54</td>\n",
       "      <td>1.48</td>\n",
       "      <td>79.922</td>\n",
       "      <td>15.977</td>\n",
       "      <td>2.373</td>\n",
       "      <td>0.421</td>\n",
       "      <td>12.889</td>\n",
       "      <td>19.0</td>\n",
       "      <td>0.376</td>\n",
       "      <td>Cz</td>\n",
       "      <td>0</td>\n",
       "    </tr>\n",
       "    <tr>\n",
       "      <th>3</th>\n",
       "      <td>604.36</td>\n",
       "      <td>605.12</td>\n",
       "      <td>0.76</td>\n",
       "      <td>60.649</td>\n",
       "      <td>12.520</td>\n",
       "      <td>2.209</td>\n",
       "      <td>0.350</td>\n",
       "      <td>12.646</td>\n",
       "      <td>9.0</td>\n",
       "      <td>0.481</td>\n",
       "      <td>Cz</td>\n",
       "      <td>0</td>\n",
       "    </tr>\n",
       "    <tr>\n",
       "      <th>4</th>\n",
       "      <td>607.53</td>\n",
       "      <td>608.05</td>\n",
       "      <td>0.52</td>\n",
       "      <td>50.211</td>\n",
       "      <td>13.847</td>\n",
       "      <td>2.358</td>\n",
       "      <td>0.258</td>\n",
       "      <td>13.452</td>\n",
       "      <td>6.0</td>\n",
       "      <td>0.849</td>\n",
       "      <td>Cz</td>\n",
       "      <td>0</td>\n",
       "    </tr>\n",
       "  </tbody>\n",
       "</table>\n",
       "</div>"
      ],
      "text/plain": [
       "    Start     End  Duration  Amplitude     RMS  AbsPower  RelPower  Frequency  \\\n",
       "0  522.54  523.79      1.25     45.509  10.850     2.131     0.470     13.083   \n",
       "1  585.51  586.38      0.87     59.435  13.185     2.255     0.473     12.946   \n",
       "2  598.06  599.54      1.48     79.922  15.977     2.373     0.421     12.889   \n",
       "3  604.36  605.12      0.76     60.649  12.520     2.209     0.350     12.646   \n",
       "4  607.53  608.05      0.52     50.211  13.847     2.358     0.258     13.452   \n",
       "\n",
       "   Oscillations  Symmetry Channel  IdxChannel  \n",
       "0          16.0     0.190      Cz           0  \n",
       "1          11.0     0.659      Cz           0  \n",
       "2          19.0     0.376      Cz           0  \n",
       "3           9.0     0.481      Cz           0  \n",
       "4           6.0     0.849      Cz           0  "
      ]
     },
     "execution_count": 3,
     "metadata": {},
     "output_type": "execute_result"
    }
   ],
   "source": [
    "sp = yasa.spindles_detect_multi(data, sf, ch_names=chan, multi_only=False)\n",
    "print(sp.shape[0], 'spindles detected.')\n",
    "sp.head().round(3)"
   ]
  },
  {
   "cell_type": "code",
   "execution_count": 4,
   "metadata": {},
   "outputs": [
    {
     "data": {
      "text/plain": [
       "Pz    786\n",
       "Cz    764\n",
       "Fz    655\n",
       "Name: Channel, dtype: int64"
      ]
     },
     "metadata": {},
     "output_type": "display_data"
    },
    {
     "data": {
      "text/html": [
       "<div>\n",
       "<style scoped>\n",
       "    .dataframe tbody tr th:only-of-type {\n",
       "        vertical-align: middle;\n",
       "    }\n",
       "\n",
       "    .dataframe tbody tr th {\n",
       "        vertical-align: top;\n",
       "    }\n",
       "\n",
       "    .dataframe thead th {\n",
       "        text-align: right;\n",
       "    }\n",
       "</style>\n",
       "<table border=\"1\" class=\"dataframe\">\n",
       "  <thead>\n",
       "    <tr style=\"text-align: right;\">\n",
       "      <th></th>\n",
       "      <th>Start</th>\n",
       "      <th>End</th>\n",
       "      <th>Duration</th>\n",
       "      <th>Amplitude</th>\n",
       "      <th>RMS</th>\n",
       "      <th>AbsPower</th>\n",
       "      <th>RelPower</th>\n",
       "      <th>Frequency</th>\n",
       "      <th>Oscillations</th>\n",
       "      <th>Symmetry</th>\n",
       "      <th>IdxChannel</th>\n",
       "    </tr>\n",
       "    <tr>\n",
       "      <th>Channel</th>\n",
       "      <th></th>\n",
       "      <th></th>\n",
       "      <th></th>\n",
       "      <th></th>\n",
       "      <th></th>\n",
       "      <th></th>\n",
       "      <th></th>\n",
       "      <th></th>\n",
       "      <th></th>\n",
       "      <th></th>\n",
       "      <th></th>\n",
       "    </tr>\n",
       "  </thead>\n",
       "  <tbody>\n",
       "    <tr>\n",
       "      <th>Cz</th>\n",
       "      <td>12389.39</td>\n",
       "      <td>12390.36</td>\n",
       "      <td>0.97</td>\n",
       "      <td>76.19</td>\n",
       "      <td>16.80</td>\n",
       "      <td>2.42</td>\n",
       "      <td>0.39</td>\n",
       "      <td>12.67</td>\n",
       "      <td>11.96</td>\n",
       "      <td>0.51</td>\n",
       "      <td>0</td>\n",
       "    </tr>\n",
       "    <tr>\n",
       "      <th>Fz</th>\n",
       "      <td>12609.81</td>\n",
       "      <td>12610.71</td>\n",
       "      <td>0.90</td>\n",
       "      <td>67.54</td>\n",
       "      <td>14.97</td>\n",
       "      <td>2.31</td>\n",
       "      <td>0.37</td>\n",
       "      <td>12.50</td>\n",
       "      <td>11.00</td>\n",
       "      <td>0.51</td>\n",
       "      <td>1</td>\n",
       "    </tr>\n",
       "    <tr>\n",
       "      <th>Pz</th>\n",
       "      <td>12405.95</td>\n",
       "      <td>12406.92</td>\n",
       "      <td>0.97</td>\n",
       "      <td>68.77</td>\n",
       "      <td>15.09</td>\n",
       "      <td>2.32</td>\n",
       "      <td>0.38</td>\n",
       "      <td>12.68</td>\n",
       "      <td>12.00</td>\n",
       "      <td>0.51</td>\n",
       "      <td>2</td>\n",
       "    </tr>\n",
       "  </tbody>\n",
       "</table>\n",
       "</div>"
      ],
      "text/plain": [
       "            Start       End  Duration  Amplitude    RMS  AbsPower  RelPower  \\\n",
       "Channel                                                                       \n",
       "Cz       12389.39  12390.36      0.97      76.19  16.80      2.42      0.39   \n",
       "Fz       12609.81  12610.71      0.90      67.54  14.97      2.31      0.37   \n",
       "Pz       12405.95  12406.92      0.97      68.77  15.09      2.32      0.38   \n",
       "\n",
       "         Frequency  Oscillations  Symmetry  IdxChannel  \n",
       "Channel                                                 \n",
       "Cz           12.67         11.96      0.51           0  \n",
       "Fz           12.50         11.00      0.51           1  \n",
       "Pz           12.68         12.00      0.51           2  "
      ]
     },
     "metadata": {},
     "output_type": "display_data"
    }
   ],
   "source": [
    "# We print the number of spindles detected per channel, as well as the mean spindles properties per channel.\n",
    "display(sp['Channel'].value_counts())\n",
    "display(sp.groupby('Channel').mean().round(2))"
   ]
  },
  {
   "cell_type": "code",
   "execution_count": 5,
   "metadata": {},
   "outputs": [
    {
     "name": "stdout",
     "output_type": "stream",
     "text": [
      "[74835 59843 77198]\n",
      "[[0 0 0 ... 0 0 0]\n",
      " [0 0 0 ... 0 0 0]\n",
      " [0 0 0 ... 0 0 0]]\n"
     ]
    }
   ],
   "source": [
    "# For plotting purposes, we can easily extract a boolean vector that has the same size as the data\n",
    "bool_vector = yasa.get_bool_vector(data, sf, sp)\n",
    "print(bool_vector.sum(1))\n",
    "print(bool_vector)"
   ]
  },
  {
   "cell_type": "markdown",
   "metadata": {},
   "source": [
    "### Find spindles that are present on at least two channels\n",
    "\n",
    "Using the `multi_only=True` argument, we force the detection to keep only the spindles that are present on at least two different channels. Spindles are considered the same if their start or end times fall within the same second. In other words, start and end times are rounded to the nearest integer and compared across channels."
   ]
  },
  {
   "cell_type": "code",
   "execution_count": 6,
   "metadata": {},
   "outputs": [
    {
     "name": "stdout",
     "output_type": "stream",
     "text": [
      "1519 spindles detected that are common to at least two electrodes.\n"
     ]
    },
    {
     "data": {
      "text/html": [
       "<div>\n",
       "<style scoped>\n",
       "    .dataframe tbody tr th:only-of-type {\n",
       "        vertical-align: middle;\n",
       "    }\n",
       "\n",
       "    .dataframe tbody tr th {\n",
       "        vertical-align: top;\n",
       "    }\n",
       "\n",
       "    .dataframe thead th {\n",
       "        text-align: right;\n",
       "    }\n",
       "</style>\n",
       "<table border=\"1\" class=\"dataframe\">\n",
       "  <thead>\n",
       "    <tr style=\"text-align: right;\">\n",
       "      <th></th>\n",
       "      <th>Start</th>\n",
       "      <th>End</th>\n",
       "      <th>Duration</th>\n",
       "      <th>Amplitude</th>\n",
       "      <th>RMS</th>\n",
       "      <th>AbsPower</th>\n",
       "      <th>RelPower</th>\n",
       "      <th>Frequency</th>\n",
       "      <th>Oscillations</th>\n",
       "      <th>Symmetry</th>\n",
       "      <th>Channel</th>\n",
       "      <th>IdxChannel</th>\n",
       "    </tr>\n",
       "  </thead>\n",
       "  <tbody>\n",
       "    <tr>\n",
       "      <th>0</th>\n",
       "      <td>585.51</td>\n",
       "      <td>586.38</td>\n",
       "      <td>0.87</td>\n",
       "      <td>59.435</td>\n",
       "      <td>13.185</td>\n",
       "      <td>2.255</td>\n",
       "      <td>0.473</td>\n",
       "      <td>12.946</td>\n",
       "      <td>11.0</td>\n",
       "      <td>0.659</td>\n",
       "      <td>Cz</td>\n",
       "      <td>0</td>\n",
       "    </tr>\n",
       "    <tr>\n",
       "      <th>1</th>\n",
       "      <td>598.06</td>\n",
       "      <td>599.54</td>\n",
       "      <td>1.48</td>\n",
       "      <td>79.922</td>\n",
       "      <td>15.977</td>\n",
       "      <td>2.373</td>\n",
       "      <td>0.421</td>\n",
       "      <td>12.889</td>\n",
       "      <td>19.0</td>\n",
       "      <td>0.376</td>\n",
       "      <td>Cz</td>\n",
       "      <td>0</td>\n",
       "    </tr>\n",
       "    <tr>\n",
       "      <th>2</th>\n",
       "      <td>604.36</td>\n",
       "      <td>605.12</td>\n",
       "      <td>0.76</td>\n",
       "      <td>60.649</td>\n",
       "      <td>12.520</td>\n",
       "      <td>2.209</td>\n",
       "      <td>0.350</td>\n",
       "      <td>12.646</td>\n",
       "      <td>9.0</td>\n",
       "      <td>0.481</td>\n",
       "      <td>Cz</td>\n",
       "      <td>0</td>\n",
       "    </tr>\n",
       "    <tr>\n",
       "      <th>3</th>\n",
       "      <td>655.06</td>\n",
       "      <td>655.88</td>\n",
       "      <td>0.82</td>\n",
       "      <td>47.596</td>\n",
       "      <td>10.832</td>\n",
       "      <td>2.149</td>\n",
       "      <td>0.369</td>\n",
       "      <td>13.297</td>\n",
       "      <td>11.0</td>\n",
       "      <td>0.530</td>\n",
       "      <td>Cz</td>\n",
       "      <td>0</td>\n",
       "    </tr>\n",
       "    <tr>\n",
       "      <th>4</th>\n",
       "      <td>725.60</td>\n",
       "      <td>726.88</td>\n",
       "      <td>1.28</td>\n",
       "      <td>77.591</td>\n",
       "      <td>18.836</td>\n",
       "      <td>2.370</td>\n",
       "      <td>0.288</td>\n",
       "      <td>12.370</td>\n",
       "      <td>15.0</td>\n",
       "      <td>0.698</td>\n",
       "      <td>Cz</td>\n",
       "      <td>0</td>\n",
       "    </tr>\n",
       "  </tbody>\n",
       "</table>\n",
       "</div>"
      ],
      "text/plain": [
       "    Start     End  Duration  Amplitude     RMS  AbsPower  RelPower  Frequency  \\\n",
       "0  585.51  586.38      0.87     59.435  13.185     2.255     0.473     12.946   \n",
       "1  598.06  599.54      1.48     79.922  15.977     2.373     0.421     12.889   \n",
       "2  604.36  605.12      0.76     60.649  12.520     2.209     0.350     12.646   \n",
       "3  655.06  655.88      0.82     47.596  10.832     2.149     0.369     13.297   \n",
       "4  725.60  726.88      1.28     77.591  18.836     2.370     0.288     12.370   \n",
       "\n",
       "   Oscillations  Symmetry Channel  IdxChannel  \n",
       "0          11.0     0.659      Cz           0  \n",
       "1          19.0     0.376      Cz           0  \n",
       "2           9.0     0.481      Cz           0  \n",
       "3          11.0     0.530      Cz           0  \n",
       "4          15.0     0.698      Cz           0  "
      ]
     },
     "execution_count": 6,
     "metadata": {},
     "output_type": "execute_result"
    }
   ],
   "source": [
    "sp_multi = yasa.spindles_detect_multi(data, sf, ch_names=chan, multi_only=True, remove_outliers=True)\n",
    "print(sp_multi.shape[0], 'spindles detected that are common to at least two electrodes.')\n",
    "sp_multi.head().round(3)"
   ]
  },
  {
   "cell_type": "code",
   "execution_count": 7,
   "metadata": {},
   "outputs": [
    {
     "data": {
      "text/plain": [
       "Cz    579\n",
       "Pz    500\n",
       "Fz    440\n",
       "Name: Channel, dtype: int64"
      ]
     },
     "metadata": {},
     "output_type": "display_data"
    },
    {
     "data": {
      "text/html": [
       "<div>\n",
       "<style scoped>\n",
       "    .dataframe tbody tr th:only-of-type {\n",
       "        vertical-align: middle;\n",
       "    }\n",
       "\n",
       "    .dataframe tbody tr th {\n",
       "        vertical-align: top;\n",
       "    }\n",
       "\n",
       "    .dataframe thead th {\n",
       "        text-align: right;\n",
       "    }\n",
       "</style>\n",
       "<table border=\"1\" class=\"dataframe\">\n",
       "  <thead>\n",
       "    <tr style=\"text-align: right;\">\n",
       "      <th></th>\n",
       "      <th>Start</th>\n",
       "      <th>End</th>\n",
       "      <th>Duration</th>\n",
       "      <th>Amplitude</th>\n",
       "      <th>RMS</th>\n",
       "      <th>AbsPower</th>\n",
       "      <th>RelPower</th>\n",
       "      <th>Frequency</th>\n",
       "      <th>Oscillations</th>\n",
       "      <th>Symmetry</th>\n",
       "      <th>IdxChannel</th>\n",
       "    </tr>\n",
       "    <tr>\n",
       "      <th>Channel</th>\n",
       "      <th></th>\n",
       "      <th></th>\n",
       "      <th></th>\n",
       "      <th></th>\n",
       "      <th></th>\n",
       "      <th></th>\n",
       "      <th></th>\n",
       "      <th></th>\n",
       "      <th></th>\n",
       "      <th></th>\n",
       "      <th></th>\n",
       "    </tr>\n",
       "  </thead>\n",
       "  <tbody>\n",
       "    <tr>\n",
       "      <th>Cz</th>\n",
       "      <td>12584.65</td>\n",
       "      <td>12585.61</td>\n",
       "      <td>0.96</td>\n",
       "      <td>74.25</td>\n",
       "      <td>16.34</td>\n",
       "      <td>2.41</td>\n",
       "      <td>0.39</td>\n",
       "      <td>12.63</td>\n",
       "      <td>11.80</td>\n",
       "      <td>0.52</td>\n",
       "      <td>0</td>\n",
       "    </tr>\n",
       "    <tr>\n",
       "      <th>Fz</th>\n",
       "      <td>13090.57</td>\n",
       "      <td>13091.43</td>\n",
       "      <td>0.86</td>\n",
       "      <td>65.38</td>\n",
       "      <td>14.53</td>\n",
       "      <td>2.30</td>\n",
       "      <td>0.37</td>\n",
       "      <td>12.50</td>\n",
       "      <td>10.44</td>\n",
       "      <td>0.51</td>\n",
       "      <td>1</td>\n",
       "    </tr>\n",
       "    <tr>\n",
       "      <th>Pz</th>\n",
       "      <td>12496.29</td>\n",
       "      <td>12497.27</td>\n",
       "      <td>0.98</td>\n",
       "      <td>67.65</td>\n",
       "      <td>14.85</td>\n",
       "      <td>2.32</td>\n",
       "      <td>0.39</td>\n",
       "      <td>12.67</td>\n",
       "      <td>12.18</td>\n",
       "      <td>0.51</td>\n",
       "      <td>2</td>\n",
       "    </tr>\n",
       "  </tbody>\n",
       "</table>\n",
       "</div>"
      ],
      "text/plain": [
       "            Start       End  Duration  Amplitude    RMS  AbsPower  RelPower  \\\n",
       "Channel                                                                       \n",
       "Cz       12584.65  12585.61      0.96      74.25  16.34      2.41      0.39   \n",
       "Fz       13090.57  13091.43      0.86      65.38  14.53      2.30      0.37   \n",
       "Pz       12496.29  12497.27      0.98      67.65  14.85      2.32      0.39   \n",
       "\n",
       "         Frequency  Oscillations  Symmetry  IdxChannel  \n",
       "Channel                                                 \n",
       "Cz           12.63         11.80      0.52           0  \n",
       "Fz           12.50         10.44      0.51           1  \n",
       "Pz           12.67         12.18      0.51           2  "
      ]
     },
     "metadata": {},
     "output_type": "display_data"
    }
   ],
   "source": [
    "display(sp_multi['Channel'].value_counts())\n",
    "display(sp_multi.groupby('Channel').mean().round(2))"
   ]
  },
  {
   "cell_type": "markdown",
   "metadata": {},
   "source": [
    "### Find spindles that are present on ALL channels only\n",
    "\n",
    "The code below show how to apply an even more stringent selection: only the spindles that are common across all electrodes are kept. This method is not natively implemented in YASA."
   ]
  },
  {
   "cell_type": "code",
   "execution_count": 8,
   "metadata": {},
   "outputs": [
    {
     "name": "stdout",
     "output_type": "stream",
     "text": [
      "1219 unique spindles that are common across ALL channels.\n"
     ]
    },
    {
     "data": {
      "text/html": [
       "<div>\n",
       "<style scoped>\n",
       "    .dataframe tbody tr th:only-of-type {\n",
       "        vertical-align: middle;\n",
       "    }\n",
       "\n",
       "    .dataframe tbody tr th {\n",
       "        vertical-align: top;\n",
       "    }\n",
       "\n",
       "    .dataframe thead th {\n",
       "        text-align: right;\n",
       "    }\n",
       "</style>\n",
       "<table border=\"1\" class=\"dataframe\">\n",
       "  <thead>\n",
       "    <tr style=\"text-align: right;\">\n",
       "      <th></th>\n",
       "      <th>Start</th>\n",
       "      <th>End</th>\n",
       "      <th>Duration</th>\n",
       "      <th>Amplitude</th>\n",
       "      <th>RMS</th>\n",
       "      <th>AbsPower</th>\n",
       "      <th>RelPower</th>\n",
       "      <th>Frequency</th>\n",
       "      <th>Oscillations</th>\n",
       "      <th>Symmetry</th>\n",
       "      <th>Channel</th>\n",
       "      <th>IdxChannel</th>\n",
       "    </tr>\n",
       "  </thead>\n",
       "  <tbody>\n",
       "    <tr>\n",
       "      <th>3</th>\n",
       "      <td>604.36</td>\n",
       "      <td>605.12</td>\n",
       "      <td>0.76</td>\n",
       "      <td>60.649</td>\n",
       "      <td>12.520</td>\n",
       "      <td>2.209</td>\n",
       "      <td>0.350</td>\n",
       "      <td>12.646</td>\n",
       "      <td>9.0</td>\n",
       "      <td>0.481</td>\n",
       "      <td>Cz</td>\n",
       "      <td>0</td>\n",
       "    </tr>\n",
       "    <tr>\n",
       "      <th>6</th>\n",
       "      <td>631.57</td>\n",
       "      <td>632.18</td>\n",
       "      <td>0.61</td>\n",
       "      <td>158.228</td>\n",
       "      <td>37.444</td>\n",
       "      <td>3.150</td>\n",
       "      <td>0.436</td>\n",
       "      <td>12.612</td>\n",
       "      <td>7.0</td>\n",
       "      <td>0.387</td>\n",
       "      <td>Cz</td>\n",
       "      <td>0</td>\n",
       "    </tr>\n",
       "    <tr>\n",
       "      <th>7</th>\n",
       "      <td>655.06</td>\n",
       "      <td>655.88</td>\n",
       "      <td>0.82</td>\n",
       "      <td>47.596</td>\n",
       "      <td>10.832</td>\n",
       "      <td>2.149</td>\n",
       "      <td>0.369</td>\n",
       "      <td>13.297</td>\n",
       "      <td>11.0</td>\n",
       "      <td>0.530</td>\n",
       "      <td>Cz</td>\n",
       "      <td>0</td>\n",
       "    </tr>\n",
       "    <tr>\n",
       "      <th>9</th>\n",
       "      <td>735.12</td>\n",
       "      <td>736.39</td>\n",
       "      <td>1.27</td>\n",
       "      <td>80.165</td>\n",
       "      <td>16.962</td>\n",
       "      <td>2.543</td>\n",
       "      <td>0.579</td>\n",
       "      <td>12.675</td>\n",
       "      <td>15.0</td>\n",
       "      <td>0.609</td>\n",
       "      <td>Cz</td>\n",
       "      <td>0</td>\n",
       "    </tr>\n",
       "    <tr>\n",
       "      <th>11</th>\n",
       "      <td>744.01</td>\n",
       "      <td>745.47</td>\n",
       "      <td>1.46</td>\n",
       "      <td>79.723</td>\n",
       "      <td>16.769</td>\n",
       "      <td>2.602</td>\n",
       "      <td>0.636</td>\n",
       "      <td>12.773</td>\n",
       "      <td>19.0</td>\n",
       "      <td>0.660</td>\n",
       "      <td>Cz</td>\n",
       "      <td>0</td>\n",
       "    </tr>\n",
       "  </tbody>\n",
       "</table>\n",
       "</div>"
      ],
      "text/plain": [
       "     Start     End  Duration  Amplitude     RMS  AbsPower  RelPower  \\\n",
       "3   604.36  605.12      0.76     60.649  12.520     2.209     0.350   \n",
       "6   631.57  632.18      0.61    158.228  37.444     3.150     0.436   \n",
       "7   655.06  655.88      0.82     47.596  10.832     2.149     0.369   \n",
       "9   735.12  736.39      1.27     80.165  16.962     2.543     0.579   \n",
       "11  744.01  745.47      1.46     79.723  16.769     2.602     0.636   \n",
       "\n",
       "    Frequency  Oscillations  Symmetry Channel  IdxChannel  \n",
       "3      12.646           9.0     0.481      Cz           0  \n",
       "6      12.612           7.0     0.387      Cz           0  \n",
       "7      13.297          11.0     0.530      Cz           0  \n",
       "9      12.675          15.0     0.609      Cz           0  \n",
       "11     12.773          19.0     0.660      Cz           0  "
      ]
     },
     "execution_count": 8,
     "metadata": {},
     "output_type": "execute_result"
    }
   ],
   "source": [
    "from functools import reduce\n",
    "grp_start = sp.groupby('Channel')['Start'].apply(lambda x: list(np.round(x).astype(int))).to_dict()\n",
    "grp_end = sp.groupby('Channel')['End'].apply(lambda x: list(np.round(x).astype(int))).to_dict()\n",
    "\n",
    "intersect_start = reduce(np.intersect1d, (grp_start[c] for c in sp['Channel'].unique()))\n",
    "intersect_end = reduce(np.intersect1d, (grp_end[c] for c in sp['Channel'].unique()))\n",
    "\n",
    "idx_start = np.in1d(sp['Start'].round().astype(int), intersect_start)\n",
    "idx_end = np.in1d(sp['End'].round().astype(int), intersect_end)\n",
    "idx_good = np.logical_or(idx_start, idx_end)\n",
    "\n",
    "# Now we keep only these spindles in the dataframe\n",
    "print(sp[idx_good].shape[0], 'unique spindles that are common across ALL channels.')\n",
    "sp[idx_good].head().round(3)"
   ]
  },
  {
   "cell_type": "markdown",
   "metadata": {},
   "source": [
    "### Test with a bad channel\n",
    "\n",
    "Here, we create a fake channel with no spindle to test the detection."
   ]
  },
  {
   "cell_type": "code",
   "execution_count": 9,
   "metadata": {},
   "outputs": [
    {
     "name": "stderr",
     "output_type": "stream",
     "text": [
      "07-Feb-19 15:50:24 | WARNING | No spindles were found in data. Returning None.\n",
      "07-Feb-19 15:50:24 | WARNING | No spindles were found in channel Fz.\n"
     ]
    },
    {
     "data": {
      "text/plain": [
       "Pz    786\n",
       "Cz    764\n",
       "Name: Channel, dtype: int64"
      ]
     },
     "metadata": {},
     "output_type": "display_data"
    },
    {
     "data": {
      "text/html": [
       "<div>\n",
       "<style scoped>\n",
       "    .dataframe tbody tr th:only-of-type {\n",
       "        vertical-align: middle;\n",
       "    }\n",
       "\n",
       "    .dataframe tbody tr th {\n",
       "        vertical-align: top;\n",
       "    }\n",
       "\n",
       "    .dataframe thead th {\n",
       "        text-align: right;\n",
       "    }\n",
       "</style>\n",
       "<table border=\"1\" class=\"dataframe\">\n",
       "  <thead>\n",
       "    <tr style=\"text-align: right;\">\n",
       "      <th></th>\n",
       "      <th>Start</th>\n",
       "      <th>End</th>\n",
       "      <th>Duration</th>\n",
       "      <th>Amplitude</th>\n",
       "      <th>RMS</th>\n",
       "      <th>AbsPower</th>\n",
       "      <th>RelPower</th>\n",
       "      <th>Frequency</th>\n",
       "      <th>Oscillations</th>\n",
       "      <th>Symmetry</th>\n",
       "      <th>Channel</th>\n",
       "      <th>IdxChannel</th>\n",
       "    </tr>\n",
       "  </thead>\n",
       "  <tbody>\n",
       "    <tr>\n",
       "      <th>0</th>\n",
       "      <td>522.54</td>\n",
       "      <td>523.79</td>\n",
       "      <td>1.25</td>\n",
       "      <td>45.509</td>\n",
       "      <td>10.850</td>\n",
       "      <td>2.131</td>\n",
       "      <td>0.470</td>\n",
       "      <td>13.083</td>\n",
       "      <td>16.0</td>\n",
       "      <td>0.190</td>\n",
       "      <td>Cz</td>\n",
       "      <td>0</td>\n",
       "    </tr>\n",
       "    <tr>\n",
       "      <th>1</th>\n",
       "      <td>585.51</td>\n",
       "      <td>586.38</td>\n",
       "      <td>0.87</td>\n",
       "      <td>59.435</td>\n",
       "      <td>13.185</td>\n",
       "      <td>2.255</td>\n",
       "      <td>0.473</td>\n",
       "      <td>12.946</td>\n",
       "      <td>11.0</td>\n",
       "      <td>0.659</td>\n",
       "      <td>Cz</td>\n",
       "      <td>0</td>\n",
       "    </tr>\n",
       "    <tr>\n",
       "      <th>2</th>\n",
       "      <td>598.06</td>\n",
       "      <td>599.54</td>\n",
       "      <td>1.48</td>\n",
       "      <td>79.922</td>\n",
       "      <td>15.977</td>\n",
       "      <td>2.373</td>\n",
       "      <td>0.421</td>\n",
       "      <td>12.889</td>\n",
       "      <td>19.0</td>\n",
       "      <td>0.376</td>\n",
       "      <td>Cz</td>\n",
       "      <td>0</td>\n",
       "    </tr>\n",
       "    <tr>\n",
       "      <th>3</th>\n",
       "      <td>604.36</td>\n",
       "      <td>605.12</td>\n",
       "      <td>0.76</td>\n",
       "      <td>60.649</td>\n",
       "      <td>12.520</td>\n",
       "      <td>2.209</td>\n",
       "      <td>0.350</td>\n",
       "      <td>12.646</td>\n",
       "      <td>9.0</td>\n",
       "      <td>0.481</td>\n",
       "      <td>Cz</td>\n",
       "      <td>0</td>\n",
       "    </tr>\n",
       "    <tr>\n",
       "      <th>4</th>\n",
       "      <td>607.53</td>\n",
       "      <td>608.05</td>\n",
       "      <td>0.52</td>\n",
       "      <td>50.211</td>\n",
       "      <td>13.847</td>\n",
       "      <td>2.358</td>\n",
       "      <td>0.258</td>\n",
       "      <td>13.452</td>\n",
       "      <td>6.0</td>\n",
       "      <td>0.849</td>\n",
       "      <td>Cz</td>\n",
       "      <td>0</td>\n",
       "    </tr>\n",
       "  </tbody>\n",
       "</table>\n",
       "</div>"
      ],
      "text/plain": [
       "    Start     End  Duration  Amplitude     RMS  AbsPower  RelPower  Frequency  \\\n",
       "0  522.54  523.79      1.25     45.509  10.850     2.131     0.470     13.083   \n",
       "1  585.51  586.38      0.87     59.435  13.185     2.255     0.473     12.946   \n",
       "2  598.06  599.54      1.48     79.922  15.977     2.373     0.421     12.889   \n",
       "3  604.36  605.12      0.76     60.649  12.520     2.209     0.350     12.646   \n",
       "4  607.53  608.05      0.52     50.211  13.847     2.358     0.258     13.452   \n",
       "\n",
       "   Oscillations  Symmetry Channel  IdxChannel  \n",
       "0          16.0     0.190      Cz           0  \n",
       "1          11.0     0.659      Cz           0  \n",
       "2          19.0     0.376      Cz           0  \n",
       "3           9.0     0.481      Cz           0  \n",
       "4           6.0     0.849      Cz           0  "
      ]
     },
     "execution_count": 9,
     "metadata": {},
     "output_type": "execute_result"
    }
   ],
   "source": [
    "# data[1, :] = np.random.rand(data.shape[1])\n",
    "data[1, :] = np.sin(0.1 * np.arange(data.shape[1]))\n",
    "sp_bad = yasa.spindles_detect_multi(data, sf, ch_names=chan, multi_only=False)\n",
    "display(sp_bad['Channel'].value_counts())\n",
    "sp.head().round(3)"
   ]
  },
  {
   "cell_type": "code",
   "execution_count": 10,
   "metadata": {},
   "outputs": [
    {
     "data": {
      "text/plain": [
       "array([74835,     0, 77198])"
      ]
     },
     "execution_count": 10,
     "metadata": {},
     "output_type": "execute_result"
    }
   ],
   "source": [
    "bool_vector = yasa.get_bool_vector(data, sf, sp_bad)\n",
    "bool_vector.sum(1)"
   ]
  },
  {
   "cell_type": "markdown",
   "metadata": {},
   "source": [
    "## Example 2: Using a Raw object from MNE-Python\n",
    "\n",
    "This example demonstrates how to manipulate [MNE Raw object](https://mne-tools.github.io/stable/generated/mne.io.Raw.html#mne.io.Raw). The MNE package has several [functions](https://mne-tools.github.io/stable/python_reference.html#module-mne.io) to load the most standard EEG file formats (EDF, BrainVision, EEGLab, FieldTrip...).\n",
    "\n",
    "### Load using MNE\n",
    "For the sake of this example, we'll load a PSG file encoded in the native MNE format (*.fif) using the `mne.io.read_raw_fif` function."
   ]
  },
  {
   "cell_type": "code",
   "execution_count": 11,
   "metadata": {},
   "outputs": [
    {
     "name": "stdout",
     "output_type": "stream",
     "text": [
      "Opening raw data file C:\\Users\\Raphael\\Desktop\\yasa\\notebooks\\sub-02_mne_raw.fif...\n",
      "    Range : 0 ... 293999 =      0.000 ...  2939.990 secs\n",
      "Ready.\n",
      "Reading 0 ... 293999  =      0.000 ...  2939.990 secs...\n"
     ]
    }
   ],
   "source": [
    "import mne\n",
    "\n",
    "# Load the raw object\n",
    "raw = mne.io.read_raw_fif('sub-02_mne_raw.fif', preload=True)"
   ]
  },
  {
   "cell_type": "code",
   "execution_count": 12,
   "metadata": {},
   "outputs": [
    {
     "name": "stdout",
     "output_type": "stream",
     "text": [
      "Chan = ['F3', 'F4', 'C3', 'C4', 'O1', 'O2', 'EOG1', 'EOG2', 'EMG1']\n",
      "Sampling frequency = 100.0\n",
      "Data shape = (9, 294000)\n"
     ]
    }
   ],
   "source": [
    "# Let's have a look at the data\n",
    "print('Chan =', raw.ch_names)\n",
    "print('Sampling frequency =', raw.info['sfreq'])\n",
    "print('Data shape =', raw._data.shape)"
   ]
  },
  {
   "cell_type": "markdown",
   "metadata": {},
   "source": [
    "### Applying YASA\n",
    "\n",
    "Before we can apply the detection on our Raw object, there are *two important things that we need to do*:\n",
    "\n",
    "1. We need to select only the channels of interests. Indeed, we do not want to run the detection on EMG, EOG or ECG channels.\n",
    "2. We need to convert the data amplitude to micro-volts ($\\mu V$). The default unit in MNE is volts, which means that we need to scale our data by a factor of 1,000,000 (= 1e6)."
   ]
  },
  {
   "cell_type": "markdown",
   "metadata": {},
   "source": [
    "#### Channel selection"
   ]
  },
  {
   "cell_type": "code",
   "execution_count": 13,
   "metadata": {},
   "outputs": [
    {
     "name": "stdout",
     "output_type": "stream",
     "text": [
      "Chan = ['F3', 'F4', 'C3', 'C4', 'O1', 'O2']\n"
     ]
    }
   ],
   "source": [
    "# 1 - Select only the EEG channels\n",
    "raw_eeg = raw.copy().pick_types(eeg=True)\n",
    "print('Chan =', raw_eeg.ch_names)"
   ]
  },
  {
   "cell_type": "code",
   "execution_count": 14,
   "metadata": {},
   "outputs": [
    {
     "name": "stdout",
     "output_type": "stream",
     "text": [
      "Chan = ['F3', 'F4', 'C3', 'C4']\n"
     ]
    }
   ],
   "source": [
    "# 1bis - Remove O1 and O2 channels from data\n",
    "raw_eeg.drop_channels(['O1', 'O2'])\n",
    "print('Chan =', raw_eeg.ch_names)"
   ]
  },
  {
   "cell_type": "markdown",
   "metadata": {},
   "source": [
    "#### Data scaling\n",
    "\n",
    "Are we absolutely sure that the data are in volts and not micro-volts? To quickly check that, let's display the maximum value of each channel:"
   ]
  },
  {
   "cell_type": "code",
   "execution_count": 15,
   "metadata": {},
   "outputs": [
    {
     "data": {
      "text/plain": [
       "array([0.00116572, 0.00108572, 0.00053502, 0.00056241])"
      ]
     },
     "execution_count": 15,
     "metadata": {},
     "output_type": "execute_result"
    }
   ],
   "source": [
    "# Maximum value of each channel\n",
    "raw_eeg._data.max(axis=1)"
   ]
  },
  {
   "cell_type": "markdown",
   "metadata": {},
   "source": [
    "As you can see above, the data are definitely in volts and not micro-volts (otherwise we would have expected values that at the very least superior to 10). We therefore need to convert our data to micro-volts (1 $V$ = 1,000,000 $\\mu V$):"
   ]
  },
  {
   "cell_type": "code",
   "execution_count": 16,
   "metadata": {},
   "outputs": [],
   "source": [
    "# Convert V --> uV\n",
    "data_mv = raw_eeg._data * 1e6"
   ]
  },
  {
   "cell_type": "markdown",
   "metadata": {},
   "source": [
    "#### Run the detection"
   ]
  },
  {
   "cell_type": "code",
   "execution_count": 17,
   "metadata": {},
   "outputs": [
    {
     "data": {
      "text/html": [
       "<div>\n",
       "<style scoped>\n",
       "    .dataframe tbody tr th:only-of-type {\n",
       "        vertical-align: middle;\n",
       "    }\n",
       "\n",
       "    .dataframe tbody tr th {\n",
       "        vertical-align: top;\n",
       "    }\n",
       "\n",
       "    .dataframe thead th {\n",
       "        text-align: right;\n",
       "    }\n",
       "</style>\n",
       "<table border=\"1\" class=\"dataframe\">\n",
       "  <thead>\n",
       "    <tr style=\"text-align: right;\">\n",
       "      <th></th>\n",
       "      <th>Start</th>\n",
       "      <th>End</th>\n",
       "      <th>Duration</th>\n",
       "      <th>Amplitude</th>\n",
       "      <th>RMS</th>\n",
       "      <th>AbsPower</th>\n",
       "      <th>RelPower</th>\n",
       "      <th>Frequency</th>\n",
       "      <th>Oscillations</th>\n",
       "      <th>Symmetry</th>\n",
       "      <th>Channel</th>\n",
       "      <th>IdxChannel</th>\n",
       "    </tr>\n",
       "  </thead>\n",
       "  <tbody>\n",
       "    <tr>\n",
       "      <th>0</th>\n",
       "      <td>879.76</td>\n",
       "      <td>880.53</td>\n",
       "      <td>0.77</td>\n",
       "      <td>49.915</td>\n",
       "      <td>9.490</td>\n",
       "      <td>2.017</td>\n",
       "      <td>0.393</td>\n",
       "      <td>13.803</td>\n",
       "      <td>10.0</td>\n",
       "      <td>0.359</td>\n",
       "      <td>F3</td>\n",
       "      <td>0</td>\n",
       "    </tr>\n",
       "    <tr>\n",
       "      <th>1</th>\n",
       "      <td>1041.76</td>\n",
       "      <td>1042.24</td>\n",
       "      <td>0.48</td>\n",
       "      <td>34.017</td>\n",
       "      <td>8.702</td>\n",
       "      <td>1.779</td>\n",
       "      <td>0.328</td>\n",
       "      <td>13.075</td>\n",
       "      <td>6.0</td>\n",
       "      <td>0.286</td>\n",
       "      <td>F3</td>\n",
       "      <td>0</td>\n",
       "    </tr>\n",
       "    <tr>\n",
       "      <th>2</th>\n",
       "      <td>1068.45</td>\n",
       "      <td>1069.46</td>\n",
       "      <td>1.01</td>\n",
       "      <td>39.570</td>\n",
       "      <td>7.860</td>\n",
       "      <td>1.521</td>\n",
       "      <td>0.268</td>\n",
       "      <td>13.472</td>\n",
       "      <td>13.0</td>\n",
       "      <td>0.696</td>\n",
       "      <td>F3</td>\n",
       "      <td>0</td>\n",
       "    </tr>\n",
       "    <tr>\n",
       "      <th>3</th>\n",
       "      <td>1078.82</td>\n",
       "      <td>1079.38</td>\n",
       "      <td>0.56</td>\n",
       "      <td>41.574</td>\n",
       "      <td>9.711</td>\n",
       "      <td>2.070</td>\n",
       "      <td>0.409</td>\n",
       "      <td>13.175</td>\n",
       "      <td>8.0</td>\n",
       "      <td>0.684</td>\n",
       "      <td>F3</td>\n",
       "      <td>0</td>\n",
       "    </tr>\n",
       "    <tr>\n",
       "      <th>4</th>\n",
       "      <td>1085.62</td>\n",
       "      <td>1086.04</td>\n",
       "      <td>0.42</td>\n",
       "      <td>22.991</td>\n",
       "      <td>5.182</td>\n",
       "      <td>1.615</td>\n",
       "      <td>0.350</td>\n",
       "      <td>13.981</td>\n",
       "      <td>5.0</td>\n",
       "      <td>0.186</td>\n",
       "      <td>F3</td>\n",
       "      <td>0</td>\n",
       "    </tr>\n",
       "  </tbody>\n",
       "</table>\n",
       "</div>"
      ],
      "text/plain": [
       "     Start      End  Duration  Amplitude    RMS  AbsPower  RelPower  \\\n",
       "0   879.76   880.53      0.77     49.915  9.490     2.017     0.393   \n",
       "1  1041.76  1042.24      0.48     34.017  8.702     1.779     0.328   \n",
       "2  1068.45  1069.46      1.01     39.570  7.860     1.521     0.268   \n",
       "3  1078.82  1079.38      0.56     41.574  9.711     2.070     0.409   \n",
       "4  1085.62  1086.04      0.42     22.991  5.182     1.615     0.350   \n",
       "\n",
       "   Frequency  Oscillations  Symmetry Channel  IdxChannel  \n",
       "0     13.803          10.0     0.359      F3           0  \n",
       "1     13.075           6.0     0.286      F3           0  \n",
       "2     13.472          13.0     0.696      F3           0  \n",
       "3     13.175           8.0     0.684      F3           0  \n",
       "4     13.981           5.0     0.186      F3           0  "
      ]
     },
     "execution_count": 17,
     "metadata": {},
     "output_type": "execute_result"
    }
   ],
   "source": [
    "sp = yasa.spindles_detect_multi(data=data_mv, \n",
    "                                sf=raw_eeg.info['sfreq'], \n",
    "                                ch_names=raw_eeg.ch_names)\n",
    "sp.head().round(3)"
   ]
  },
  {
   "cell_type": "code",
   "execution_count": null,
   "metadata": {},
   "outputs": [],
   "source": []
  }
 ],
 "metadata": {
  "kernelspec": {
   "display_name": "Python 3",
   "language": "python",
   "name": "python3"
  },
  "language_info": {
   "codemirror_mode": {
    "name": "ipython",
    "version": 3
   },
   "file_extension": ".py",
   "mimetype": "text/x-python",
   "name": "python",
   "nbconvert_exporter": "python",
   "pygments_lexer": "ipython3",
   "version": "3.6.5"
  }
 },
 "nbformat": 4,
 "nbformat_minor": 2
}
