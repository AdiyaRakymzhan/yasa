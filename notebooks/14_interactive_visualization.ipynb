{
 "cells": [
  {
   "cell_type": "code",
   "execution_count": 1,
   "metadata": {},
   "outputs": [],
   "source": [
    "import yasa\n",
    "import numpy as np\n",
    "import seaborn as sns\n",
    "import matplotlib.pyplot as plt\n",
    "sns.set(font_scale=1.2)"
   ]
  },
  {
   "cell_type": "code",
   "execution_count": 2,
   "metadata": {},
   "outputs": [
    {
     "data": {
      "text/plain": [
       "(3, 2161058)"
      ]
     },
     "execution_count": 2,
     "metadata": {},
     "output_type": "execute_result"
    }
   ],
   "source": [
    "# Load data\n",
    "f = np.load('data_full_6hrs_100Hz_Cz+Fz+Pz.npz')\n",
    "data = f['data']\n",
    "chan = f['chan']\n",
    "sf = 100.\n",
    "times = np.arange(data.shape[-1]) / sf\n",
    "data.shape"
   ]
  },
  {
   "cell_type": "code",
   "execution_count": 3,
   "metadata": {},
   "outputs": [
    {
     "data": {
      "text/html": [
       "<div>\n",
       "<style scoped>\n",
       "    .dataframe tbody tr th:only-of-type {\n",
       "        vertical-align: middle;\n",
       "    }\n",
       "\n",
       "    .dataframe tbody tr th {\n",
       "        vertical-align: top;\n",
       "    }\n",
       "\n",
       "    .dataframe thead th {\n",
       "        text-align: right;\n",
       "    }\n",
       "</style>\n",
       "<table border=\"1\" class=\"dataframe\">\n",
       "  <thead>\n",
       "    <tr style=\"text-align: right;\">\n",
       "      <th></th>\n",
       "      <th>Start</th>\n",
       "      <th>Peak</th>\n",
       "      <th>End</th>\n",
       "      <th>Duration</th>\n",
       "      <th>Amplitude</th>\n",
       "      <th>RMS</th>\n",
       "      <th>AbsPower</th>\n",
       "      <th>RelPower</th>\n",
       "      <th>Frequency</th>\n",
       "      <th>Oscillations</th>\n",
       "      <th>Symmetry</th>\n",
       "      <th>Channel</th>\n",
       "      <th>IdxChannel</th>\n",
       "    </tr>\n",
       "  </thead>\n",
       "  <tbody>\n",
       "    <tr>\n",
       "      <th>0</th>\n",
       "      <td>522.54</td>\n",
       "      <td>522.78</td>\n",
       "      <td>523.79</td>\n",
       "      <td>1.25</td>\n",
       "      <td>45.51</td>\n",
       "      <td>10.85</td>\n",
       "      <td>2.13</td>\n",
       "      <td>0.47</td>\n",
       "      <td>13.08</td>\n",
       "      <td>16.0</td>\n",
       "      <td>0.19</td>\n",
       "      <td>Cz</td>\n",
       "      <td>0</td>\n",
       "    </tr>\n",
       "    <tr>\n",
       "      <th>1</th>\n",
       "      <td>585.51</td>\n",
       "      <td>586.09</td>\n",
       "      <td>586.38</td>\n",
       "      <td>0.87</td>\n",
       "      <td>59.44</td>\n",
       "      <td>13.19</td>\n",
       "      <td>2.26</td>\n",
       "      <td>0.47</td>\n",
       "      <td>12.95</td>\n",
       "      <td>11.0</td>\n",
       "      <td>0.66</td>\n",
       "      <td>Cz</td>\n",
       "      <td>0</td>\n",
       "    </tr>\n",
       "    <tr>\n",
       "      <th>2</th>\n",
       "      <td>598.06</td>\n",
       "      <td>598.62</td>\n",
       "      <td>599.54</td>\n",
       "      <td>1.48</td>\n",
       "      <td>79.92</td>\n",
       "      <td>15.98</td>\n",
       "      <td>2.37</td>\n",
       "      <td>0.42</td>\n",
       "      <td>12.89</td>\n",
       "      <td>19.0</td>\n",
       "      <td>0.38</td>\n",
       "      <td>Cz</td>\n",
       "      <td>0</td>\n",
       "    </tr>\n",
       "    <tr>\n",
       "      <th>3</th>\n",
       "      <td>604.36</td>\n",
       "      <td>604.73</td>\n",
       "      <td>605.12</td>\n",
       "      <td>0.76</td>\n",
       "      <td>60.65</td>\n",
       "      <td>12.52</td>\n",
       "      <td>2.21</td>\n",
       "      <td>0.35</td>\n",
       "      <td>12.65</td>\n",
       "      <td>9.0</td>\n",
       "      <td>0.48</td>\n",
       "      <td>Cz</td>\n",
       "      <td>0</td>\n",
       "    </tr>\n",
       "    <tr>\n",
       "      <th>4</th>\n",
       "      <td>607.53</td>\n",
       "      <td>607.98</td>\n",
       "      <td>608.05</td>\n",
       "      <td>0.52</td>\n",
       "      <td>50.21</td>\n",
       "      <td>13.85</td>\n",
       "      <td>2.36</td>\n",
       "      <td>0.26</td>\n",
       "      <td>13.45</td>\n",
       "      <td>6.0</td>\n",
       "      <td>0.85</td>\n",
       "      <td>Cz</td>\n",
       "      <td>0</td>\n",
       "    </tr>\n",
       "  </tbody>\n",
       "</table>\n",
       "</div>"
      ],
      "text/plain": [
       "    Start    Peak     End  Duration  Amplitude    RMS  AbsPower  RelPower  \\\n",
       "0  522.54  522.78  523.79      1.25      45.51  10.85      2.13      0.47   \n",
       "1  585.51  586.09  586.38      0.87      59.44  13.19      2.26      0.47   \n",
       "2  598.06  598.62  599.54      1.48      79.92  15.98      2.37      0.42   \n",
       "3  604.36  604.73  605.12      0.76      60.65  12.52      2.21      0.35   \n",
       "4  607.53  607.98  608.05      0.52      50.21  13.85      2.36      0.26   \n",
       "\n",
       "   Frequency  Oscillations  Symmetry Channel  IdxChannel  \n",
       "0      13.08          16.0      0.19      Cz           0  \n",
       "1      12.95          11.0      0.66      Cz           0  \n",
       "2      12.89          19.0      0.38      Cz           0  \n",
       "3      12.65           9.0      0.48      Cz           0  \n",
       "4      13.45           6.0      0.85      Cz           0  "
      ]
     },
     "execution_count": 3,
     "metadata": {},
     "output_type": "execute_result"
    }
   ],
   "source": [
    "# Apply the detection\n",
    "sp = yasa.spindles_detect(data, sf, ch_names=chan)\n",
    "sp.summary().head().round(2)"
   ]
  },
  {
   "cell_type": "code",
   "execution_count": 4,
   "metadata": {},
   "outputs": [
    {
     "data": {
      "application/vnd.jupyter.widget-view+json": {
       "model_id": "088f89be8fdc4afdb81131f7c5f8f172",
       "version_major": 2,
       "version_minor": 0
      },
      "text/plain": [
       "Canvas(toolbar=Toolbar(toolitems=[('Home', 'Reset original view', 'home', 'home'), ('Back', 'Back to previous …"
      ]
     },
     "metadata": {},
     "output_type": "display_data"
    },
    {
     "name": "stderr",
     "output_type": "stream",
     "text": [
      "/Users/raphael/.pyenv/versions/3.8.3/lib/python3.8/site-packages/traitlets/traitlets.py:567: FutureWarning: elementwise comparison failed; returning scalar instead, but in the future will perform elementwise comparison\n",
      "  silent = bool(old_value == new_value)\n"
     ]
    },
    {
     "data": {
      "application/vnd.jupyter.widget-view+json": {
       "model_id": "118e5e93b0c64c79be614456d4a1f90a",
       "version_major": 2,
       "version_minor": 0
      },
      "text/plain": [
       "interactive(children=(IntSlider(value=0, description='Epoch:', layout=Layout(align_items='center', justify_con…"
      ]
     },
     "metadata": {},
     "output_type": "display_data"
    }
   ],
   "source": [
    "%matplotlib widget\n",
    "import ipywidgets as ipy\n",
    "\n",
    "# Define mask\n",
    "mask = sp.get_mask()\n",
    "spindles_highlight = data * mask\n",
    "spindles_highlight = np.where(spindles_highlight == 0, np.nan, spindles_highlight)\n",
    "\n",
    "win_size = 10\n",
    "n_epochs = int((data.shape[-1] / sf) / win_size)\n",
    "\n",
    "# Define xlim and xrange\n",
    "xlim = [0, win_size]\n",
    "xrange = np.arange(xlim[0] * sf, (xlim[1] * sf + 1), dtype=int)\n",
    "\n",
    "# Plot\n",
    "fig, ax = plt.subplots(figsize=(12, 4))\n",
    "plt.plot(times[xrange], data[0, xrange], 'k', lw=1)\n",
    "plt.plot(times[xrange], spindles_highlight[0, xrange], 'indianred')\n",
    "plt.xlabel('Time (seconds)')\n",
    "plt.ylabel('Amplitude (uV)')\n",
    "fig.canvas.header_visible = False\n",
    "fig.tight_layout()\n",
    "\n",
    "\n",
    "# WIDGETS\n",
    "layout = ipy.Layout(\n",
    "    width=\"50%\",\n",
    "    justify_content='center', \n",
    "    align_items='center'\n",
    ")\n",
    "\n",
    "\n",
    "sl_ep = ipy.IntSlider(\n",
    "    min=0, \n",
    "    max=n_epochs,\n",
    "    step=1, \n",
    "    value=0, \n",
    "    layout=layout,\n",
    "    description=\"Epoch:\",\n",
    ")\n",
    "\n",
    "sl_amp = ipy.IntSlider(\n",
    "    min=50, \n",
    "    max=500,\n",
    "    step=25, \n",
    "    value=200,\n",
    "    layout=layout,\n",
    "    orientation='horizontal',\n",
    "    description=\"Amplitude:\"\n",
    ")\n",
    "\n",
    "dd_ch = ipy.Dropdown(options=chan,\n",
    "    value=chan[0],\n",
    "    description='Channel:'\n",
    ")\n",
    "\n",
    "dd_win = ipy.Dropdown(\n",
    "    options=[1, 5, 10, 30, 60],\n",
    "    value=win_size,\n",
    "    description='Window size:',\n",
    ")\n",
    " \n",
    "def update(epoch, amplitude, channel, win_size):\n",
    "    \"\"\"Update plot.\"\"\"\n",
    "    n_epochs = int((data.shape[-1] / sf) / win_size)\n",
    "    sl_ep.max = n_epochs\n",
    "    xlim = [epoch * win_size, (epoch + 1) * win_size]\n",
    "    xrange = np.arange(xlim[0] * sf, (xlim[1] * sf), dtype=int)\n",
    "    try:\n",
    "        ax.lines[0].set_data(times[xrange], data[dd_ch.index, xrange])\n",
    "        ax.lines[1].set_data(times[xrange], spindles_highlight[dd_ch.index, xrange])\n",
    "        ax.set_xlim(xlim)\n",
    "    except IndexError:\n",
    "        pass\n",
    "    ax.set_ylim([-amplitude, amplitude])\n",
    "\n",
    "ipy.interact(update, epoch=sl_ep, amplitude=sl_amp, channel=dd_ch, win_size=dd_win);"
   ]
  },
  {
   "cell_type": "code",
   "execution_count": null,
   "metadata": {},
   "outputs": [],
   "source": []
  }
 ],
 "metadata": {
  "kernelspec": {
   "display_name": "Python 3",
   "language": "python",
   "name": "python3"
  },
  "language_info": {
   "codemirror_mode": {
    "name": "ipython",
    "version": 3
   },
   "file_extension": ".py",
   "mimetype": "text/x-python",
   "name": "python",
   "nbconvert_exporter": "python",
   "pygments_lexer": "ipython3",
   "version": "3.8.3"
  }
 },
 "nbformat": 4,
 "nbformat_minor": 4
}
