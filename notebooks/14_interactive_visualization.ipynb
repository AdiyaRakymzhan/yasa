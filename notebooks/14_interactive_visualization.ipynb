{
 "cells": [
  {
   "cell_type": "code",
   "execution_count": 1,
   "metadata": {},
   "outputs": [],
   "source": [
    "import yasa\n",
    "import numpy as np\n",
    "import seaborn as sns\n",
    "import matplotlib.pyplot as plt\n",
    "sns.set(font_scale=1.2)\n",
    "\n",
    "%matplotlib widget"
   ]
  },
  {
   "cell_type": "code",
   "execution_count": 2,
   "metadata": {},
   "outputs": [
    {
     "name": "stderr",
     "output_type": "stream",
     "text": [
      "12-Oct-20 18:09:08 | WARNING | Hypnogram is SHORTER than data by 10.58 seconds. Padding hypnogram with last value to match data.size.\n"
     ]
    },
    {
     "data": {
      "text/plain": [
       "(3, 2161058)"
      ]
     },
     "execution_count": 2,
     "metadata": {},
     "output_type": "execute_result"
    }
   ],
   "source": [
    "# Load data\n",
    "f = np.load('data_full_6hrs_100Hz_Cz+Fz+Pz.npz')\n",
    "data = f['data']\n",
    "chan = f['chan']\n",
    "sf = 100.\n",
    "times = np.arange(data.shape[-1]) / sf\n",
    "\n",
    "# Load hypno\n",
    "hypno_30s = np.loadtxt('data_full_6hrs_100Hz_hypno_30s.txt')\n",
    "hypno = yasa.hypno_upsample_to_data(hypno=hypno_30s, sf_hypno=(1/30), data=data, sf_data=sf)\n",
    "\n",
    "data.shape"
   ]
  },
  {
   "cell_type": "code",
   "execution_count": 3,
   "metadata": {},
   "outputs": [
    {
     "data": {
      "text/html": [
       "<div>\n",
       "<style scoped>\n",
       "    .dataframe tbody tr th:only-of-type {\n",
       "        vertical-align: middle;\n",
       "    }\n",
       "\n",
       "    .dataframe tbody tr th {\n",
       "        vertical-align: top;\n",
       "    }\n",
       "\n",
       "    .dataframe thead th {\n",
       "        text-align: right;\n",
       "    }\n",
       "</style>\n",
       "<table border=\"1\" class=\"dataframe\">\n",
       "  <thead>\n",
       "    <tr style=\"text-align: right;\">\n",
       "      <th></th>\n",
       "      <th>Start</th>\n",
       "      <th>Peak</th>\n",
       "      <th>End</th>\n",
       "      <th>Duration</th>\n",
       "      <th>Amplitude</th>\n",
       "      <th>RMS</th>\n",
       "      <th>AbsPower</th>\n",
       "      <th>RelPower</th>\n",
       "      <th>Frequency</th>\n",
       "      <th>Oscillations</th>\n",
       "      <th>Symmetry</th>\n",
       "      <th>Stage</th>\n",
       "      <th>Channel</th>\n",
       "      <th>IdxChannel</th>\n",
       "    </tr>\n",
       "  </thead>\n",
       "  <tbody>\n",
       "    <tr>\n",
       "      <th>0</th>\n",
       "      <td>522.55</td>\n",
       "      <td>522.78</td>\n",
       "      <td>523.79</td>\n",
       "      <td>1.24</td>\n",
       "      <td>45.57</td>\n",
       "      <td>10.89</td>\n",
       "      <td>2.13</td>\n",
       "      <td>0.47</td>\n",
       "      <td>13.08</td>\n",
       "      <td>16.0</td>\n",
       "      <td>0.18</td>\n",
       "      <td>1</td>\n",
       "      <td>Cz</td>\n",
       "      <td>0</td>\n",
       "    </tr>\n",
       "    <tr>\n",
       "      <th>1</th>\n",
       "      <td>585.54</td>\n",
       "      <td>586.09</td>\n",
       "      <td>586.38</td>\n",
       "      <td>0.84</td>\n",
       "      <td>59.68</td>\n",
       "      <td>13.33</td>\n",
       "      <td>2.26</td>\n",
       "      <td>0.48</td>\n",
       "      <td>12.96</td>\n",
       "      <td>10.0</td>\n",
       "      <td>0.65</td>\n",
       "      <td>2</td>\n",
       "      <td>Cz</td>\n",
       "      <td>0</td>\n",
       "    </tr>\n",
       "    <tr>\n",
       "      <th>2</th>\n",
       "      <td>598.08</td>\n",
       "      <td>598.62</td>\n",
       "      <td>599.52</td>\n",
       "      <td>1.44</td>\n",
       "      <td>79.82</td>\n",
       "      <td>16.18</td>\n",
       "      <td>2.38</td>\n",
       "      <td>0.42</td>\n",
       "      <td>12.89</td>\n",
       "      <td>19.0</td>\n",
       "      <td>0.37</td>\n",
       "      <td>2</td>\n",
       "      <td>Cz</td>\n",
       "      <td>0</td>\n",
       "    </tr>\n",
       "    <tr>\n",
       "      <th>3</th>\n",
       "      <td>604.37</td>\n",
       "      <td>604.73</td>\n",
       "      <td>605.09</td>\n",
       "      <td>0.72</td>\n",
       "      <td>60.75</td>\n",
       "      <td>12.82</td>\n",
       "      <td>2.22</td>\n",
       "      <td>0.35</td>\n",
       "      <td>12.65</td>\n",
       "      <td>9.0</td>\n",
       "      <td>0.49</td>\n",
       "      <td>2</td>\n",
       "      <td>Cz</td>\n",
       "      <td>0</td>\n",
       "    </tr>\n",
       "    <tr>\n",
       "      <th>4</th>\n",
       "      <td>607.53</td>\n",
       "      <td>607.98</td>\n",
       "      <td>608.05</td>\n",
       "      <td>0.52</td>\n",
       "      <td>50.21</td>\n",
       "      <td>13.85</td>\n",
       "      <td>2.36</td>\n",
       "      <td>0.26</td>\n",
       "      <td>13.45</td>\n",
       "      <td>6.0</td>\n",
       "      <td>0.85</td>\n",
       "      <td>2</td>\n",
       "      <td>Cz</td>\n",
       "      <td>0</td>\n",
       "    </tr>\n",
       "    <tr>\n",
       "      <th>...</th>\n",
       "      <td>...</td>\n",
       "      <td>...</td>\n",
       "      <td>...</td>\n",
       "      <td>...</td>\n",
       "      <td>...</td>\n",
       "      <td>...</td>\n",
       "      <td>...</td>\n",
       "      <td>...</td>\n",
       "      <td>...</td>\n",
       "      <td>...</td>\n",
       "      <td>...</td>\n",
       "      <td>...</td>\n",
       "      <td>...</td>\n",
       "      <td>...</td>\n",
       "    </tr>\n",
       "    <tr>\n",
       "      <th>1664</th>\n",
       "      <td>20498.20</td>\n",
       "      <td>20498.74</td>\n",
       "      <td>20499.22</td>\n",
       "      <td>1.02</td>\n",
       "      <td>83.90</td>\n",
       "      <td>19.55</td>\n",
       "      <td>2.61</td>\n",
       "      <td>0.52</td>\n",
       "      <td>12.32</td>\n",
       "      <td>12.0</td>\n",
       "      <td>0.52</td>\n",
       "      <td>2</td>\n",
       "      <td>Pz</td>\n",
       "      <td>2</td>\n",
       "    </tr>\n",
       "    <tr>\n",
       "      <th>1665</th>\n",
       "      <td>20512.68</td>\n",
       "      <td>20512.95</td>\n",
       "      <td>20513.34</td>\n",
       "      <td>0.66</td>\n",
       "      <td>55.17</td>\n",
       "      <td>12.33</td>\n",
       "      <td>2.30</td>\n",
       "      <td>0.37</td>\n",
       "      <td>13.18</td>\n",
       "      <td>8.0</td>\n",
       "      <td>0.40</td>\n",
       "      <td>2</td>\n",
       "      <td>Pz</td>\n",
       "      <td>2</td>\n",
       "    </tr>\n",
       "    <tr>\n",
       "      <th>1666</th>\n",
       "      <td>20524.99</td>\n",
       "      <td>20525.30</td>\n",
       "      <td>20525.61</td>\n",
       "      <td>0.62</td>\n",
       "      <td>66.72</td>\n",
       "      <td>17.17</td>\n",
       "      <td>2.61</td>\n",
       "      <td>0.30</td>\n",
       "      <td>12.78</td>\n",
       "      <td>7.0</td>\n",
       "      <td>0.49</td>\n",
       "      <td>2</td>\n",
       "      <td>Pz</td>\n",
       "      <td>2</td>\n",
       "    </tr>\n",
       "    <tr>\n",
       "      <th>1667</th>\n",
       "      <td>20542.93</td>\n",
       "      <td>20543.36</td>\n",
       "      <td>20544.61</td>\n",
       "      <td>1.68</td>\n",
       "      <td>78.71</td>\n",
       "      <td>14.40</td>\n",
       "      <td>2.11</td>\n",
       "      <td>0.28</td>\n",
       "      <td>12.48</td>\n",
       "      <td>20.0</td>\n",
       "      <td>0.25</td>\n",
       "      <td>2</td>\n",
       "      <td>Pz</td>\n",
       "      <td>2</td>\n",
       "    </tr>\n",
       "    <tr>\n",
       "      <th>1668</th>\n",
       "      <td>20556.28</td>\n",
       "      <td>20556.62</td>\n",
       "      <td>20557.16</td>\n",
       "      <td>0.88</td>\n",
       "      <td>69.66</td>\n",
       "      <td>17.33</td>\n",
       "      <td>2.62</td>\n",
       "      <td>0.49</td>\n",
       "      <td>12.39</td>\n",
       "      <td>11.0</td>\n",
       "      <td>0.38</td>\n",
       "      <td>2</td>\n",
       "      <td>Pz</td>\n",
       "      <td>2</td>\n",
       "    </tr>\n",
       "  </tbody>\n",
       "</table>\n",
       "<p>1669 rows × 14 columns</p>\n",
       "</div>"
      ],
      "text/plain": [
       "         Start      Peak       End  Duration  Amplitude    RMS  AbsPower  \\\n",
       "0       522.55    522.78    523.79      1.24      45.57  10.89      2.13   \n",
       "1       585.54    586.09    586.38      0.84      59.68  13.33      2.26   \n",
       "2       598.08    598.62    599.52      1.44      79.82  16.18      2.38   \n",
       "3       604.37    604.73    605.09      0.72      60.75  12.82      2.22   \n",
       "4       607.53    607.98    608.05      0.52      50.21  13.85      2.36   \n",
       "...        ...       ...       ...       ...        ...    ...       ...   \n",
       "1664  20498.20  20498.74  20499.22      1.02      83.90  19.55      2.61   \n",
       "1665  20512.68  20512.95  20513.34      0.66      55.17  12.33      2.30   \n",
       "1666  20524.99  20525.30  20525.61      0.62      66.72  17.17      2.61   \n",
       "1667  20542.93  20543.36  20544.61      1.68      78.71  14.40      2.11   \n",
       "1668  20556.28  20556.62  20557.16      0.88      69.66  17.33      2.62   \n",
       "\n",
       "      RelPower  Frequency  Oscillations  Symmetry  Stage Channel  IdxChannel  \n",
       "0         0.47      13.08          16.0      0.18      1      Cz           0  \n",
       "1         0.48      12.96          10.0      0.65      2      Cz           0  \n",
       "2         0.42      12.89          19.0      0.37      2      Cz           0  \n",
       "3         0.35      12.65           9.0      0.49      2      Cz           0  \n",
       "4         0.26      13.45           6.0      0.85      2      Cz           0  \n",
       "...        ...        ...           ...       ...    ...     ...         ...  \n",
       "1664      0.52      12.32          12.0      0.52      2      Pz           2  \n",
       "1665      0.37      13.18           8.0      0.40      2      Pz           2  \n",
       "1666      0.30      12.78           7.0      0.49      2      Pz           2  \n",
       "1667      0.28      12.48          20.0      0.25      2      Pz           2  \n",
       "1668      0.49      12.39          11.0      0.38      2      Pz           2  \n",
       "\n",
       "[1669 rows x 14 columns]"
      ]
     },
     "execution_count": 3,
     "metadata": {},
     "output_type": "execute_result"
    }
   ],
   "source": [
    "# Apply the spindles detection\n",
    "sp = yasa.spindles_detect(data, sf, hypno=hypno, ch_names=chan)\n",
    "sp.summary().round(2)"
   ]
  },
  {
   "cell_type": "code",
   "execution_count": 4,
   "metadata": {},
   "outputs": [
    {
     "data": {
      "application/vnd.jupyter.widget-view+json": {
       "model_id": "42d547a4fc4e40109f6b2ed3b8507561",
       "version_major": 2,
       "version_minor": 0
      },
      "text/plain": [
       "Canvas(toolbar=Toolbar(toolitems=[('Home', 'Reset original view', 'home', 'home'), ('Back', 'Back to previous …"
      ]
     },
     "metadata": {},
     "output_type": "display_data"
    },
    {
     "name": "stderr",
     "output_type": "stream",
     "text": [
      "/Users/raphael/.pyenv/versions/3.8.3/lib/python3.8/site-packages/traitlets/traitlets.py:567: FutureWarning: elementwise comparison failed; returning scalar instead, but in the future will perform elementwise comparison\n",
      "  silent = bool(old_value == new_value)\n"
     ]
    },
    {
     "data": {
      "application/vnd.jupyter.widget-view+json": {
       "model_id": "ba91f5c2e770488c96c521b9df1e7d22",
       "version_major": 2,
       "version_minor": 0
      },
      "text/plain": [
       "interactive(children=(IntSlider(value=0, description='Epoch:', layout=Layout(align_items='center', justify_con…"
      ]
     },
     "metadata": {},
     "output_type": "display_data"
    }
   ],
   "source": [
    "# Plot the spindles\n",
    "sp.plot_detection();"
   ]
  },
  {
   "cell_type": "code",
   "execution_count": 6,
   "metadata": {},
   "outputs": [
    {
     "data": {
      "application/vnd.jupyter.widget-view+json": {
       "model_id": "55c9a523a9054290b244940dcd965b87",
       "version_major": 2,
       "version_minor": 0
      },
      "text/plain": [
       "Canvas(toolbar=Toolbar(toolitems=[('Home', 'Reset original view', 'home', 'home'), ('Back', 'Back to previous …"
      ]
     },
     "metadata": {},
     "output_type": "display_data"
    },
    {
     "name": "stderr",
     "output_type": "stream",
     "text": [
      "/Users/raphael/.pyenv/versions/3.8.3/lib/python3.8/site-packages/traitlets/traitlets.py:567: FutureWarning: elementwise comparison failed; returning scalar instead, but in the future will perform elementwise comparison\n",
      "  silent = bool(old_value == new_value)\n"
     ]
    },
    {
     "data": {
      "application/vnd.jupyter.widget-view+json": {
       "model_id": "9a2965f1daa54fdfb1d81f526c10e263",
       "version_major": 2,
       "version_minor": 0
      },
      "text/plain": [
       "interactive(children=(IntSlider(value=0, description='Epoch:', layout=Layout(align_items='center', justify_con…"
      ]
     },
     "metadata": {},
     "output_type": "display_data"
    }
   ],
   "source": [
    "# Same but for the slow-waves\n",
    "sw = yasa.sw_detect(data, sf, hypno=hypno, ch_names=chan)\n",
    "sw.plot_detection();"
   ]
  },
  {
   "cell_type": "code",
   "execution_count": null,
   "metadata": {},
   "outputs": [],
   "source": []
  }
 ],
 "metadata": {
  "kernelspec": {
   "display_name": "Python 3",
   "language": "python",
   "name": "python3"
  },
  "language_info": {
   "codemirror_mode": {
    "name": "ipython",
    "version": 3
   },
   "file_extension": ".py",
   "mimetype": "text/x-python",
   "name": "python",
   "nbconvert_exporter": "python",
   "pygments_lexer": "ipython3",
   "version": "3.8.3"
  }
 },
 "nbformat": 4,
 "nbformat_minor": 4
}
