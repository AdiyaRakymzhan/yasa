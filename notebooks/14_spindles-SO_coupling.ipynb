{
 "cells": [
  {
   "cell_type": "markdown",
   "metadata": {},
   "source": [
    "# Coupling"
   ]
  },
  {
   "cell_type": "code",
   "execution_count": 1,
   "metadata": {},
   "outputs": [
    {
     "name": "stdout",
     "output_type": "stream",
     "text": [
      "(2161058,) [15.797 22.307 39.922 25.657 27.094]\n"
     ]
    }
   ],
   "source": [
    "import mne\n",
    "import yasa\n",
    "import numpy as np\n",
    "import pandas as pd\n",
    "import pingouin as pg\n",
    "\n",
    "import seaborn as sns\n",
    "import matplotlib.pyplot as plt\n",
    "sns.set(style='ticks', font_scale=1.2)\n",
    "\n",
    "# Load EEG data\n",
    "f = np.load('data_full_6hrs_100Hz_Cz+Fz+Pz.npz')\n",
    "data, ch_names = f['data'], f['chan']\n",
    "sf = 100.\n",
    "times = np.arange(data.size) / sf\n",
    "\n",
    "# Keep only Cz\n",
    "data = data[0, :].astype(np.float64)\n",
    "print(data.shape, np.round(data[0:5], 3))"
   ]
  },
  {
   "cell_type": "code",
   "execution_count": 2,
   "metadata": {},
   "outputs": [
    {
     "name": "stdout",
     "output_type": "stream",
     "text": [
      "(720,) Unique values = [0 1 2 3 4]\n"
     ]
    },
    {
     "name": "stderr",
     "output_type": "stream",
     "text": [
      "c:\\users\\raphael\\desktop\\yasa\\yasa\\hypno.py:168: UserWarning: Hypnogram is SHORTER than data by 10.58 seconds. Padding hypnogram (with last value) to match data.size.\n",
      "  'data.size.' % dur_diff)\n"
     ]
    }
   ],
   "source": [
    "# Load the hypnogram data\n",
    "hypno = np.loadtxt('data_full_6hrs_100Hz_hypno_30s.txt').astype(int)\n",
    "print(hypno.shape, 'Unique values =', np.unique(hypno))\n",
    "\n",
    "# Upsample to data\n",
    "hypno = yasa.hypno_upsample_to_data(hypno=hypno, sf_hypno=1/30, data=data, sf_data=sf)"
   ]
  },
  {
   "cell_type": "markdown",
   "metadata": {},
   "source": [
    "## Event-locked analyses"
   ]
  },
  {
   "cell_type": "markdown",
   "metadata": {},
   "source": [
    "**Spindles detection**"
   ]
  },
  {
   "cell_type": "code",
   "execution_count": 3,
   "metadata": {},
   "outputs": [
    {
     "name": "stdout",
     "output_type": "stream",
     "text": [
      "(482, 12)\n"
     ]
    },
    {
     "name": "stderr",
     "output_type": "stream",
     "text": [
      "C:\\Users\\Raphael\\AppData\\Local\\Continuum\\anaconda3\\lib\\site-packages\\sklearn\\ensemble\\_iforest.py:248: FutureWarning: 'behaviour' is deprecated in 0.22 and will be removed in 0.24. You should not pass or set this parameter.\n",
      "  FutureWarning\n"
     ]
    },
    {
     "data": {
      "text/html": [
       "<div>\n",
       "<style scoped>\n",
       "    .dataframe tbody tr th:only-of-type {\n",
       "        vertical-align: middle;\n",
       "    }\n",
       "\n",
       "    .dataframe tbody tr th {\n",
       "        vertical-align: top;\n",
       "    }\n",
       "\n",
       "    .dataframe thead th {\n",
       "        text-align: right;\n",
       "    }\n",
       "</style>\n",
       "<table border=\"1\" class=\"dataframe\">\n",
       "  <thead>\n",
       "    <tr style=\"text-align: right;\">\n",
       "      <th></th>\n",
       "      <th>Start</th>\n",
       "      <th>Peak</th>\n",
       "      <th>End</th>\n",
       "      <th>Duration</th>\n",
       "      <th>Amplitude</th>\n",
       "      <th>RMS</th>\n",
       "      <th>AbsPower</th>\n",
       "      <th>RelPower</th>\n",
       "      <th>Frequency</th>\n",
       "      <th>Oscillations</th>\n",
       "      <th>Symmetry</th>\n",
       "      <th>Stage</th>\n",
       "    </tr>\n",
       "  </thead>\n",
       "  <tbody>\n",
       "    <tr>\n",
       "      <th>0</th>\n",
       "      <td>585.54</td>\n",
       "      <td>586.09</td>\n",
       "      <td>586.38</td>\n",
       "      <td>0.84</td>\n",
       "      <td>59.682744</td>\n",
       "      <td>13.334660</td>\n",
       "      <td>2.256629</td>\n",
       "      <td>0.475648</td>\n",
       "      <td>12.957519</td>\n",
       "      <td>10.0</td>\n",
       "      <td>0.647059</td>\n",
       "      <td>2</td>\n",
       "    </tr>\n",
       "    <tr>\n",
       "      <th>1</th>\n",
       "      <td>598.09</td>\n",
       "      <td>598.62</td>\n",
       "      <td>599.52</td>\n",
       "      <td>1.43</td>\n",
       "      <td>79.858324</td>\n",
       "      <td>16.234394</td>\n",
       "      <td>2.377198</td>\n",
       "      <td>0.424400</td>\n",
       "      <td>12.888586</td>\n",
       "      <td>19.0</td>\n",
       "      <td>0.368056</td>\n",
       "      <td>2</td>\n",
       "    </tr>\n",
       "    <tr>\n",
       "      <th>2</th>\n",
       "      <td>604.37</td>\n",
       "      <td>604.73</td>\n",
       "      <td>605.08</td>\n",
       "      <td>0.71</td>\n",
       "      <td>60.636707</td>\n",
       "      <td>12.874629</td>\n",
       "      <td>2.222283</td>\n",
       "      <td>0.355090</td>\n",
       "      <td>12.648408</td>\n",
       "      <td>9.0</td>\n",
       "      <td>0.500000</td>\n",
       "      <td>2</td>\n",
       "    </tr>\n",
       "    <tr>\n",
       "      <th>3</th>\n",
       "      <td>622.93</td>\n",
       "      <td>623.53</td>\n",
       "      <td>624.39</td>\n",
       "      <td>1.46</td>\n",
       "      <td>144.871977</td>\n",
       "      <td>26.807843</td>\n",
       "      <td>2.651264</td>\n",
       "      <td>0.465681</td>\n",
       "      <td>12.768725</td>\n",
       "      <td>18.0</td>\n",
       "      <td>0.408163</td>\n",
       "      <td>2</td>\n",
       "    </tr>\n",
       "    <tr>\n",
       "      <th>4</th>\n",
       "      <td>655.06</td>\n",
       "      <td>655.50</td>\n",
       "      <td>655.86</td>\n",
       "      <td>0.80</td>\n",
       "      <td>47.939197</td>\n",
       "      <td>10.889576</td>\n",
       "      <td>2.148836</td>\n",
       "      <td>0.369696</td>\n",
       "      <td>13.328633</td>\n",
       "      <td>11.0</td>\n",
       "      <td>0.543210</td>\n",
       "      <td>2</td>\n",
       "    </tr>\n",
       "  </tbody>\n",
       "</table>\n",
       "</div>"
      ],
      "text/plain": [
       "    Start    Peak     End  Duration   Amplitude        RMS  AbsPower  \\\n",
       "0  585.54  586.09  586.38      0.84   59.682744  13.334660  2.256629   \n",
       "1  598.09  598.62  599.52      1.43   79.858324  16.234394  2.377198   \n",
       "2  604.37  604.73  605.08      0.71   60.636707  12.874629  2.222283   \n",
       "3  622.93  623.53  624.39      1.46  144.871977  26.807843  2.651264   \n",
       "4  655.06  655.50  655.86      0.80   47.939197  10.889576  2.148836   \n",
       "\n",
       "   RelPower  Frequency  Oscillations  Symmetry Stage  \n",
       "0  0.475648  12.957519          10.0  0.647059     2  \n",
       "1  0.424400  12.888586          19.0  0.368056     2  \n",
       "2  0.355090  12.648408           9.0  0.500000     2  \n",
       "3  0.465681  12.768725          18.0  0.408163     2  \n",
       "4  0.369696  13.328633          11.0  0.543210     2  "
      ]
     },
     "execution_count": 3,
     "metadata": {},
     "output_type": "execute_result"
    }
   ],
   "source": [
    "sp = yasa.spindles_detect(data, sf, hypno, include=(2, 3), remove_outliers=True)\n",
    "print(sp.shape)\n",
    "sp.head()"
   ]
  },
  {
   "cell_type": "code",
   "execution_count": 4,
   "metadata": {},
   "outputs": [
    {
     "data": {
      "text/html": [
       "<div>\n",
       "<style scoped>\n",
       "    .dataframe tbody tr th:only-of-type {\n",
       "        vertical-align: middle;\n",
       "    }\n",
       "\n",
       "    .dataframe tbody tr th {\n",
       "        vertical-align: top;\n",
       "    }\n",
       "\n",
       "    .dataframe thead th {\n",
       "        text-align: right;\n",
       "    }\n",
       "</style>\n",
       "<table border=\"1\" class=\"dataframe\">\n",
       "  <thead>\n",
       "    <tr style=\"text-align: right;\">\n",
       "      <th></th>\n",
       "      <th>Time</th>\n",
       "      <th>Event</th>\n",
       "      <th>Amplitude</th>\n",
       "    </tr>\n",
       "  </thead>\n",
       "  <tbody>\n",
       "    <tr>\n",
       "      <th>0</th>\n",
       "      <td>-1.00</td>\n",
       "      <td>0</td>\n",
       "      <td>-26.614866</td>\n",
       "    </tr>\n",
       "    <tr>\n",
       "      <th>1</th>\n",
       "      <td>-0.99</td>\n",
       "      <td>0</td>\n",
       "      <td>-26.710604</td>\n",
       "    </tr>\n",
       "    <tr>\n",
       "      <th>2</th>\n",
       "      <td>-0.98</td>\n",
       "      <td>0</td>\n",
       "      <td>-29.008289</td>\n",
       "    </tr>\n",
       "    <tr>\n",
       "      <th>3</th>\n",
       "      <td>-0.97</td>\n",
       "      <td>0</td>\n",
       "      <td>-21.062124</td>\n",
       "    </tr>\n",
       "    <tr>\n",
       "      <th>4</th>\n",
       "      <td>-0.96</td>\n",
       "      <td>0</td>\n",
       "      <td>-21.445072</td>\n",
       "    </tr>\n",
       "    <tr>\n",
       "      <th>...</th>\n",
       "      <td>...</td>\n",
       "      <td>...</td>\n",
       "      <td>...</td>\n",
       "    </tr>\n",
       "    <tr>\n",
       "      <th>96877</th>\n",
       "      <td>0.96</td>\n",
       "      <td>481</td>\n",
       "      <td>-10.818273</td>\n",
       "    </tr>\n",
       "    <tr>\n",
       "      <th>96878</th>\n",
       "      <td>0.97</td>\n",
       "      <td>481</td>\n",
       "      <td>-0.574422</td>\n",
       "    </tr>\n",
       "    <tr>\n",
       "      <th>96879</th>\n",
       "      <td>0.98</td>\n",
       "      <td>481</td>\n",
       "      <td>3.638003</td>\n",
       "    </tr>\n",
       "    <tr>\n",
       "      <th>96880</th>\n",
       "      <td>0.99</td>\n",
       "      <td>481</td>\n",
       "      <td>2.010475</td>\n",
       "    </tr>\n",
       "    <tr>\n",
       "      <th>96881</th>\n",
       "      <td>1.00</td>\n",
       "      <td>481</td>\n",
       "      <td>3.159319</td>\n",
       "    </tr>\n",
       "  </tbody>\n",
       "</table>\n",
       "<p>96882 rows × 3 columns</p>\n",
       "</div>"
      ],
      "text/plain": [
       "       Time Event  Amplitude\n",
       "0     -1.00     0 -26.614866\n",
       "1     -0.99     0 -26.710604\n",
       "2     -0.98     0 -29.008289\n",
       "3     -0.97     0 -21.062124\n",
       "4     -0.96     0 -21.445072\n",
       "...     ...   ...        ...\n",
       "96877  0.96   481 -10.818273\n",
       "96878  0.97   481  -0.574422\n",
       "96879  0.98   481   3.638003\n",
       "96880  0.99   481   2.010475\n",
       "96881  1.00   481   3.159319\n",
       "\n",
       "[96882 rows x 3 columns]"
      ]
     },
     "execution_count": 4,
     "metadata": {},
     "output_type": "execute_result"
    }
   ],
   "source": [
    "# Get data centered around the most prominent peak of each spindle\n",
    "events = yasa.get_sync_events(data, sf, detection=sp, center='Peak', time_before=1, time_after=1)\n",
    "events"
   ]
  },
  {
   "cell_type": "code",
   "execution_count": 5,
   "metadata": {},
   "outputs": [
    {
     "data": {
      "image/png": "[encoded data removed]",
      "text/plain": [
       "<Figure size 432x288 with 1 Axes>"
      ]
     },
     "metadata": {},
     "output_type": "display_data"
    }
   ],
   "source": [
    "# Plot the peak-locked sleep spindle average across all detected spindles in NEM for this participant\n",
    "events.groupby(\"Time\")['Amplitude'].mean().plot(color=['tab:blue'])\n",
    "plt.ylabel('Amplitude')\n",
    "plt.title(\"Peak-locked average sleep spindle\")\n",
    "sns.despine()"
   ]
  },
  {
   "cell_type": "markdown",
   "metadata": {},
   "source": [
    "**Slow oscillations amplitude**"
   ]
  },
  {
   "cell_type": "code",
   "execution_count": 6,
   "metadata": {},
   "outputs": [],
   "source": [
    "# Filter slow-oscillations\n",
    "data_so = mne.filter.filter_data(data, sf, 0.1, 1.25, verbose=0, h_trans_bandwidth=0.1, l_trans_bandwidth=0.1)\n",
    "\n",
    "# Get filtered SO data centered around the most prominent peak of each spindle\n",
    "events_so = yasa.get_sync_events(data_so, sf, detection=sp, center='Peak', time_before=1, time_after=1)\n",
    "events = events.merge(events_so, on=['Time', 'Event'], suffixes=['_sp', '_so'])\n",
    "events.rename(columns={'Amplitude_sp': 'Spindles', 'Amplitude_so': 'SO'}, inplace=True)"
   ]
  },
  {
   "cell_type": "code",
   "execution_count": 7,
   "metadata": {},
   "outputs": [
    {
     "data": {
      "image/png": "[encoded data removed]",
      "text/plain": [
       "<Figure size 432x288 with 1 Axes>"
      ]
     },
     "metadata": {},
     "output_type": "display_data"
    }
   ],
   "source": [
    "# Overlay spindles + slow-oscillations\n",
    "events.groupby(\"Time\").mean().plot(color=['tab:blue', 'tab:red'])\n",
    "plt.ylabel('Amplitude')\n",
    "plt.title(\"Peak-locked average sleep spindle\")\n",
    "sns.despine()"
   ]
  },
  {
   "cell_type": "markdown",
   "metadata": {},
   "source": [
    "**Slow-oscillations phase**"
   ]
  },
  {
   "cell_type": "code",
   "execution_count": 8,
   "metadata": {},
   "outputs": [
    {
     "data": {
      "text/html": [
       "<div>\n",
       "<style scoped>\n",
       "    .dataframe tbody tr th:only-of-type {\n",
       "        vertical-align: middle;\n",
       "    }\n",
       "\n",
       "    .dataframe tbody tr th {\n",
       "        vertical-align: top;\n",
       "    }\n",
       "\n",
       "    .dataframe thead th {\n",
       "        text-align: right;\n",
       "    }\n",
       "</style>\n",
       "<table border=\"1\" class=\"dataframe\">\n",
       "  <thead>\n",
       "    <tr style=\"text-align: right;\">\n",
       "      <th></th>\n",
       "      <th>Time</th>\n",
       "      <th>Event</th>\n",
       "      <th>Spindles</th>\n",
       "      <th>SO</th>\n",
       "      <th>SO_phase</th>\n",
       "    </tr>\n",
       "  </thead>\n",
       "  <tbody>\n",
       "    <tr>\n",
       "      <th>0</th>\n",
       "      <td>-1.00</td>\n",
       "      <td>0</td>\n",
       "      <td>-26.614866</td>\n",
       "      <td>-13.393822</td>\n",
       "      <td>-2.627925</td>\n",
       "    </tr>\n",
       "    <tr>\n",
       "      <th>1</th>\n",
       "      <td>-0.99</td>\n",
       "      <td>0</td>\n",
       "      <td>-26.710604</td>\n",
       "      <td>-12.862176</td>\n",
       "      <td>-2.604123</td>\n",
       "    </tr>\n",
       "    <tr>\n",
       "      <th>2</th>\n",
       "      <td>-0.98</td>\n",
       "      <td>0</td>\n",
       "      <td>-29.008289</td>\n",
       "      <td>-12.336220</td>\n",
       "      <td>-2.581127</td>\n",
       "    </tr>\n",
       "    <tr>\n",
       "      <th>3</th>\n",
       "      <td>-0.97</td>\n",
       "      <td>0</td>\n",
       "      <td>-21.062124</td>\n",
       "      <td>-11.818120</td>\n",
       "      <td>-2.559007</td>\n",
       "    </tr>\n",
       "    <tr>\n",
       "      <th>4</th>\n",
       "      <td>-0.96</td>\n",
       "      <td>0</td>\n",
       "      <td>-21.445072</td>\n",
       "      <td>-11.309553</td>\n",
       "      <td>-2.537843</td>\n",
       "    </tr>\n",
       "  </tbody>\n",
       "</table>\n",
       "</div>"
      ],
      "text/plain": [
       "   Time Event   Spindles         SO  SO_phase\n",
       "0 -1.00     0 -26.614866 -13.393822 -2.627925\n",
       "1 -0.99     0 -26.710604 -12.862176 -2.604123\n",
       "2 -0.98     0 -29.008289 -12.336220 -2.581127\n",
       "3 -0.97     0 -21.062124 -11.818120 -2.559007\n",
       "4 -0.96     0 -21.445072 -11.309553 -2.537843"
      ]
     },
     "execution_count": 8,
     "metadata": {},
     "output_type": "execute_result"
    }
   ],
   "source": [
    "from scipy.signal import hilbert\n",
    "from scipy.fftpack import next_fast_len\n",
    "\n",
    "# Extract instantaneous phase using Hilbert transform\n",
    "n = data_so.size\n",
    "nfast = next_fast_len(n)\n",
    "inst_phase = np.angle(hilbert(data_so, N=nfast)[:n])\n",
    "\n",
    "# Get SO phase centered around the most prominent peak of each spindle\n",
    "events_phase = yasa.get_sync_events(inst_phase, sf, detection=sp, center='Peak', time_before=1, time_after=1)\n",
    "events_phase.rename(columns={'Amplitude': \"SO_phase\"}, inplace=True)\n",
    "events = events.merge(events_phase, on=['Time', 'Event'])\n",
    "events.head()"
   ]
  },
  {
   "cell_type": "code",
   "execution_count": 9,
   "metadata": {},
   "outputs": [
    {
     "data": {
      "text/plain": [
       "0.5307643897664661"
      ]
     },
     "execution_count": 9,
     "metadata": {},
     "output_type": "execute_result"
    }
   ],
   "source": [
    "# Find the average phase (in radians) at spindles most prominent peak\n",
    "events.groupby(\"Time\")[\"SO_phase\"].agg(pg.circ_mean).loc[0]"
   ]
  },
  {
   "cell_type": "code",
   "execution_count": 10,
   "metadata": {},
   "outputs": [
    {
     "name": "stdout",
     "output_type": "stream",
     "text": [
      "Circular mean = 0.537, vector length = 0.097\n"
     ]
    },
    {
     "name": "stderr",
     "output_type": "stream",
     "text": [
      "C:\\Users\\Raphael\\AppData\\Local\\Continuum\\anaconda3\\lib\\site-packages\\sklearn\\ensemble\\_iforest.py:248: FutureWarning: 'behaviour' is deprecated in 0.22 and will be removed in 0.24. You should not pass or set this parameter.\n",
      "  FutureWarning\n"
     ]
    }
   ],
   "source": [
    "# A shortcut for all the steps above is to use:\n",
    "sp = yasa.spindles_detect(data, sf, hypno, include=(2, 3), remove_outliers=True, coupling=True, freq_so=(0.1, 1.25))\n",
    "circ_mean = pg.circ_mean(sp['SOPhase'])\n",
    "circ_vectorlength = pg.circ_r(sp['SOPhase'])\n",
    "print(f\"Circular mean = {circ_mean:.3f}, vector length = {circ_vectorlength:.3f}\")"
   ]
  },
  {
   "cell_type": "code",
   "execution_count": 11,
   "metadata": {},
   "outputs": [
    {
     "data": {
      "image/png": "[encoded data removed]",
      "text/plain": [
       "<Figure size 288x288 with 1 Axes>"
      ]
     },
     "metadata": {},
     "output_type": "display_data"
    }
   ],
   "source": [
    "sns.set(font_scale=1.5, style='white')\n",
    "\n",
    "# Note that the function plot_circmean is only implemented in Pingouin>=0.3.3\n",
    "pg.plot_circmean(sp['SOPhase'], kwargs_markers=dict(ms=6));"
   ]
  },
  {
   "cell_type": "markdown",
   "metadata": {},
   "source": [
    "*************************\n",
    "\n",
    "## Data-driven PAC\n",
    "\n",
    "To calculate formal phase-amplitude coupling, we'll be using the [tensorpac](https://etiennecmb.github.io/tensorpac/) package. Make sure to install it using: `pip install -U tensorpac`.\n",
    "\n",
    "Here, rather than focusing on event-locked window (e.g. time around a spindles), we'll simply use epochs of 15-seconds of N2 sleep to measure a more formal phase-amplitude coupling (PAC) across a range of phase and amplitude frequencies."
   ]
  },
  {
   "cell_type": "code",
   "execution_count": 12,
   "metadata": {},
   "outputs": [
    {
     "data": {
      "text/plain": [
       "(50, 1500)"
      ]
     },
     "execution_count": 12,
     "metadata": {},
     "output_type": "execute_result"
    }
   ],
   "source": [
    "# Segment N2 sleep into 15-seconds non-overlapping window\n",
    "_, data_N2 = yasa.sliding_window(data[hypno == 2], sf, window=15)\n",
    "# To speed up computation, keep only the first 50 epochs\n",
    "data_N2 = data_N2[:50, :]\n",
    "data_N2.shape"
   ]
  },
  {
   "cell_type": "code",
   "execution_count": 13,
   "metadata": {},
   "outputs": [
    {
     "data": {
      "image/png": "[encoded data removed]",
      "text/plain": [
       "<Figure size 432x288 with 2 Axes>"
      ]
     },
     "metadata": {},
     "output_type": "display_data"
    }
   ],
   "source": [
    "from tensorpac import Pac\n",
    "sns.set(font_scale=1.1, style='white')\n",
    "\n",
    "# Define a PAC object\n",
    "p = Pac(idpac=(1, 3, 0),\n",
    "        f_pha=np.arange(0.125, 4.25, 0.25), \n",
    "        f_amp=np.arange(7.25, 25.5, 0.5), \n",
    "        verbose='WARNING')\n",
    "\n",
    "# Filter the data and extract PAC\n",
    "xpac = p.filterfit(sf, data_N2, n_perm=50)\n",
    "pval = p.pvalues\n",
    "\n",
    "# Plot the Phase-Amplitude Coupling with p-values\n",
    "p.comodulogram(xpac.mean(-1), title=str(p), vmin=0, plotas='imshow');"
   ]
  },
  {
   "cell_type": "code",
   "execution_count": 14,
   "metadata": {},
   "outputs": [
    {
     "data": {
      "text/html": [
       "<div>\n",
       "<style scoped>\n",
       "    .dataframe tbody tr th:only-of-type {\n",
       "        vertical-align: middle;\n",
       "    }\n",
       "\n",
       "    .dataframe tbody tr th {\n",
       "        vertical-align: top;\n",
       "    }\n",
       "\n",
       "    .dataframe thead th {\n",
       "        text-align: right;\n",
       "    }\n",
       "</style>\n",
       "<table border=\"1\" class=\"dataframe\">\n",
       "  <thead>\n",
       "    <tr style=\"text-align: right;\">\n",
       "      <th>FreqPhase</th>\n",
       "      <th>0.25</th>\n",
       "      <th>0.50</th>\n",
       "      <th>0.75</th>\n",
       "      <th>1.00</th>\n",
       "      <th>1.25</th>\n",
       "      <th>1.50</th>\n",
       "      <th>1.75</th>\n",
       "      <th>2.00</th>\n",
       "      <th>2.25</th>\n",
       "      <th>2.50</th>\n",
       "      <th>2.75</th>\n",
       "      <th>3.00</th>\n",
       "      <th>3.25</th>\n",
       "      <th>3.50</th>\n",
       "      <th>3.75</th>\n",
       "      <th>4.00</th>\n",
       "    </tr>\n",
       "    <tr>\n",
       "      <th>FreqAmplitude</th>\n",
       "      <th></th>\n",
       "      <th></th>\n",
       "      <th></th>\n",
       "      <th></th>\n",
       "      <th></th>\n",
       "      <th></th>\n",
       "      <th></th>\n",
       "      <th></th>\n",
       "      <th></th>\n",
       "      <th></th>\n",
       "      <th></th>\n",
       "      <th></th>\n",
       "      <th></th>\n",
       "      <th></th>\n",
       "      <th></th>\n",
       "      <th></th>\n",
       "    </tr>\n",
       "  </thead>\n",
       "  <tbody>\n",
       "    <tr>\n",
       "      <th>7.5</th>\n",
       "      <td>0.61</td>\n",
       "      <td>0.43</td>\n",
       "      <td>0.33</td>\n",
       "      <td>0.28</td>\n",
       "      <td>0.17</td>\n",
       "      <td>0.12</td>\n",
       "      <td>0.11</td>\n",
       "      <td>0.09</td>\n",
       "      <td>0.07</td>\n",
       "      <td>0.06</td>\n",
       "      <td>0.06</td>\n",
       "      <td>0.06</td>\n",
       "      <td>0.05</td>\n",
       "      <td>0.05</td>\n",
       "      <td>0.05</td>\n",
       "      <td>0.05</td>\n",
       "    </tr>\n",
       "    <tr>\n",
       "      <th>8.0</th>\n",
       "      <td>0.56</td>\n",
       "      <td>0.42</td>\n",
       "      <td>0.33</td>\n",
       "      <td>0.27</td>\n",
       "      <td>0.18</td>\n",
       "      <td>0.14</td>\n",
       "      <td>0.12</td>\n",
       "      <td>0.10</td>\n",
       "      <td>0.07</td>\n",
       "      <td>0.06</td>\n",
       "      <td>0.06</td>\n",
       "      <td>0.05</td>\n",
       "      <td>0.05</td>\n",
       "      <td>0.04</td>\n",
       "      <td>0.05</td>\n",
       "      <td>0.05</td>\n",
       "    </tr>\n",
       "    <tr>\n",
       "      <th>8.5</th>\n",
       "      <td>0.50</td>\n",
       "      <td>0.38</td>\n",
       "      <td>0.29</td>\n",
       "      <td>0.25</td>\n",
       "      <td>0.19</td>\n",
       "      <td>0.15</td>\n",
       "      <td>0.12</td>\n",
       "      <td>0.09</td>\n",
       "      <td>0.07</td>\n",
       "      <td>0.06</td>\n",
       "      <td>0.06</td>\n",
       "      <td>0.05</td>\n",
       "      <td>0.05</td>\n",
       "      <td>0.05</td>\n",
       "      <td>0.04</td>\n",
       "      <td>0.04</td>\n",
       "    </tr>\n",
       "    <tr>\n",
       "      <th>9.0</th>\n",
       "      <td>0.51</td>\n",
       "      <td>0.35</td>\n",
       "      <td>0.28</td>\n",
       "      <td>0.25</td>\n",
       "      <td>0.21</td>\n",
       "      <td>0.17</td>\n",
       "      <td>0.12</td>\n",
       "      <td>0.10</td>\n",
       "      <td>0.07</td>\n",
       "      <td>0.07</td>\n",
       "      <td>0.07</td>\n",
       "      <td>0.05</td>\n",
       "      <td>0.05</td>\n",
       "      <td>0.05</td>\n",
       "      <td>0.04</td>\n",
       "      <td>0.04</td>\n",
       "    </tr>\n",
       "    <tr>\n",
       "      <th>9.5</th>\n",
       "      <td>0.57</td>\n",
       "      <td>0.35</td>\n",
       "      <td>0.32</td>\n",
       "      <td>0.25</td>\n",
       "      <td>0.22</td>\n",
       "      <td>0.19</td>\n",
       "      <td>0.15</td>\n",
       "      <td>0.12</td>\n",
       "      <td>0.10</td>\n",
       "      <td>0.09</td>\n",
       "      <td>0.08</td>\n",
       "      <td>0.06</td>\n",
       "      <td>0.06</td>\n",
       "      <td>0.05</td>\n",
       "      <td>0.05</td>\n",
       "      <td>0.05</td>\n",
       "    </tr>\n",
       "    <tr>\n",
       "      <th>10.0</th>\n",
       "      <td>0.69</td>\n",
       "      <td>0.40</td>\n",
       "      <td>0.36</td>\n",
       "      <td>0.28</td>\n",
       "      <td>0.22</td>\n",
       "      <td>0.17</td>\n",
       "      <td>0.15</td>\n",
       "      <td>0.12</td>\n",
       "      <td>0.11</td>\n",
       "      <td>0.09</td>\n",
       "      <td>0.08</td>\n",
       "      <td>0.07</td>\n",
       "      <td>0.07</td>\n",
       "      <td>0.05</td>\n",
       "      <td>0.05</td>\n",
       "      <td>0.05</td>\n",
       "    </tr>\n",
       "    <tr>\n",
       "      <th>10.5</th>\n",
       "      <td>0.92</td>\n",
       "      <td>0.47</td>\n",
       "      <td>0.39</td>\n",
       "      <td>0.32</td>\n",
       "      <td>0.24</td>\n",
       "      <td>0.20</td>\n",
       "      <td>0.18</td>\n",
       "      <td>0.14</td>\n",
       "      <td>0.13</td>\n",
       "      <td>0.11</td>\n",
       "      <td>0.11</td>\n",
       "      <td>0.10</td>\n",
       "      <td>0.09</td>\n",
       "      <td>0.07</td>\n",
       "      <td>0.06</td>\n",
       "      <td>0.06</td>\n",
       "    </tr>\n",
       "    <tr>\n",
       "      <th>11.0</th>\n",
       "      <td>1.06</td>\n",
       "      <td>0.52</td>\n",
       "      <td>0.38</td>\n",
       "      <td>0.31</td>\n",
       "      <td>0.25</td>\n",
       "      <td>0.22</td>\n",
       "      <td>0.19</td>\n",
       "      <td>0.14</td>\n",
       "      <td>0.13</td>\n",
       "      <td>0.11</td>\n",
       "      <td>0.11</td>\n",
       "      <td>0.11</td>\n",
       "      <td>0.09</td>\n",
       "      <td>0.07</td>\n",
       "      <td>0.07</td>\n",
       "      <td>0.06</td>\n",
       "    </tr>\n",
       "    <tr>\n",
       "      <th>11.5</th>\n",
       "      <td>1.15</td>\n",
       "      <td>0.59</td>\n",
       "      <td>0.40</td>\n",
       "      <td>0.35</td>\n",
       "      <td>0.30</td>\n",
       "      <td>0.27</td>\n",
       "      <td>0.23</td>\n",
       "      <td>0.17</td>\n",
       "      <td>0.15</td>\n",
       "      <td>0.13</td>\n",
       "      <td>0.12</td>\n",
       "      <td>0.12</td>\n",
       "      <td>0.10</td>\n",
       "      <td>0.08</td>\n",
       "      <td>0.08</td>\n",
       "      <td>0.08</td>\n",
       "    </tr>\n",
       "    <tr>\n",
       "      <th>12.0</th>\n",
       "      <td>1.12</td>\n",
       "      <td>0.63</td>\n",
       "      <td>0.42</td>\n",
       "      <td>0.35</td>\n",
       "      <td>0.31</td>\n",
       "      <td>0.29</td>\n",
       "      <td>0.23</td>\n",
       "      <td>0.18</td>\n",
       "      <td>0.15</td>\n",
       "      <td>0.13</td>\n",
       "      <td>0.12</td>\n",
       "      <td>0.12</td>\n",
       "      <td>0.10</td>\n",
       "      <td>0.08</td>\n",
       "      <td>0.07</td>\n",
       "      <td>0.09</td>\n",
       "    </tr>\n",
       "  </tbody>\n",
       "</table>\n",
       "</div>"
      ],
      "text/plain": [
       "FreqPhase      0.25  0.50  0.75  1.00  1.25  1.50  1.75  2.00  2.25  2.50  \\\n",
       "FreqAmplitude                                                               \n",
       "7.5            0.61  0.43  0.33  0.28  0.17  0.12  0.11  0.09  0.07  0.06   \n",
       "8.0            0.56  0.42  0.33  0.27  0.18  0.14  0.12  0.10  0.07  0.06   \n",
       "8.5            0.50  0.38  0.29  0.25  0.19  0.15  0.12  0.09  0.07  0.06   \n",
       "9.0            0.51  0.35  0.28  0.25  0.21  0.17  0.12  0.10  0.07  0.07   \n",
       "9.5            0.57  0.35  0.32  0.25  0.22  0.19  0.15  0.12  0.10  0.09   \n",
       "10.0           0.69  0.40  0.36  0.28  0.22  0.17  0.15  0.12  0.11  0.09   \n",
       "10.5           0.92  0.47  0.39  0.32  0.24  0.20  0.18  0.14  0.13  0.11   \n",
       "11.0           1.06  0.52  0.38  0.31  0.25  0.22  0.19  0.14  0.13  0.11   \n",
       "11.5           1.15  0.59  0.40  0.35  0.30  0.27  0.23  0.17  0.15  0.13   \n",
       "12.0           1.12  0.63  0.42  0.35  0.31  0.29  0.23  0.18  0.15  0.13   \n",
       "\n",
       "FreqPhase      2.75  3.00  3.25  3.50  3.75  4.00  \n",
       "FreqAmplitude                                      \n",
       "7.5            0.06  0.06  0.05  0.05  0.05  0.05  \n",
       "8.0            0.06  0.05  0.05  0.04  0.05  0.05  \n",
       "8.5            0.06  0.05  0.05  0.05  0.04  0.04  \n",
       "9.0            0.07  0.05  0.05  0.05  0.04  0.04  \n",
       "9.5            0.08  0.06  0.06  0.05  0.05  0.05  \n",
       "10.0           0.08  0.07  0.07  0.05  0.05  0.05  \n",
       "10.5           0.11  0.10  0.09  0.07  0.06  0.06  \n",
       "11.0           0.11  0.11  0.09  0.07  0.07  0.06  \n",
       "11.5           0.12  0.12  0.10  0.08  0.08  0.08  \n",
       "12.0           0.12  0.12  0.10  0.08  0.07  0.09  "
      ]
     },
     "execution_count": 14,
     "metadata": {},
     "output_type": "execute_result"
    }
   ],
   "source": [
    "# Extract PAC values into a DataFrame\n",
    "df_pac = pd.DataFrame(xpac.mean(-1), columns=p.xvec, index=p.yvec)\n",
    "df_pac.columns.name = 'FreqPhase'\n",
    "df_pac.index.name = 'FreqAmplitude'\n",
    "df_pac.head(10).round(2)"
   ]
  },
  {
   "cell_type": "code",
   "execution_count": null,
   "metadata": {},
   "outputs": [],
   "source": []
  }
 ],
 "metadata": {
  "kernelspec": {
   "display_name": "Python 3",
   "language": "python",
   "name": "python3"
  },
  "language_info": {
   "codemirror_mode": {
    "name": "ipython",
    "version": 3
   },
   "file_extension": ".py",
   "mimetype": "text/x-python",
   "name": "python",
   "nbconvert_exporter": "python",
   "pygments_lexer": "ipython3",
   "version": "3.6.5"
  }
 },
 "nbformat": 4,
 "nbformat_minor": 4
}
