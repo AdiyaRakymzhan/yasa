{
 "cells": [
  {
   "cell_type": "markdown",
   "metadata": {},
   "source": [
    "# Spindles-SO coupling\n",
    "\n",
    "Replicate the analysis done in Fig 2A of [Winer et al. 2019](https://www.jneurosci.org/content/39/32/6315)"
   ]
  },
  {
   "cell_type": "code",
   "execution_count": 1,
   "metadata": {},
   "outputs": [
    {
     "name": "stdout",
     "output_type": "stream",
     "text": [
      "(2161058,) [15.797 22.307 39.922 25.657 27.094]\n"
     ]
    }
   ],
   "source": [
    "import mne\n",
    "import yasa\n",
    "import numpy as np\n",
    "import pandas as pd\n",
    "import seaborn as sns\n",
    "import matplotlib.pyplot as plt\n",
    "sns.set(style='ticks', font_scale=1.2)\n",
    "\n",
    "# Load EEG data\n",
    "f = np.load('data_full_6hrs_100Hz_Cz+Fz+Pz.npz')\n",
    "data, ch_names = f['data'], f['chan']\n",
    "sf = 100.\n",
    "times = np.arange(data.size) / sf\n",
    "\n",
    "# Keep only Cz\n",
    "data = data[0, :].astype(np.float64)\n",
    "print(data.shape, np.round(data[0:5], 3))"
   ]
  },
  {
   "cell_type": "code",
   "execution_count": 2,
   "metadata": {},
   "outputs": [
    {
     "name": "stdout",
     "output_type": "stream",
     "text": [
      "(720,) Unique values = [0 1 2 3 4]\n"
     ]
    },
    {
     "name": "stderr",
     "output_type": "stream",
     "text": [
      "d:\\git\\yasa\\yasa\\hypno.py:168: UserWarning: Hypnogram is SHORTER then data by 10.58 seconds. Padding hypnogram (with last value) to match data.size.\n",
      "  'data.size.' % dur_diff)\n"
     ]
    }
   ],
   "source": [
    "# Load the hypnogram data\n",
    "hypno = np.loadtxt('data_full_6hrs_100Hz_hypno_30s.txt').astype(int)\n",
    "print(hypno.shape, 'Unique values =', np.unique(hypno))\n",
    "\n",
    "# Upsample to data\n",
    "hypno = yasa.hypno_upsample_to_data(hypno=hypno, sf_hypno=1/30, data=data, sf_data=sf)"
   ]
  },
  {
   "cell_type": "markdown",
   "metadata": {},
   "source": [
    "## Spindles-locked analyses"
   ]
  },
  {
   "cell_type": "markdown",
   "metadata": {},
   "source": [
    "**Spindles**"
   ]
  },
  {
   "cell_type": "code",
   "execution_count": 3,
   "metadata": {},
   "outputs": [
    {
     "name": "stdout",
     "output_type": "stream",
     "text": [
      "(486, 12)\n"
     ]
    },
    {
     "data": {
      "text/html": [
       "<div>\n",
       "<style scoped>\n",
       "    .dataframe tbody tr th:only-of-type {\n",
       "        vertical-align: middle;\n",
       "    }\n",
       "\n",
       "    .dataframe tbody tr th {\n",
       "        vertical-align: top;\n",
       "    }\n",
       "\n",
       "    .dataframe thead th {\n",
       "        text-align: right;\n",
       "    }\n",
       "</style>\n",
       "<table border=\"1\" class=\"dataframe\">\n",
       "  <thead>\n",
       "    <tr style=\"text-align: right;\">\n",
       "      <th></th>\n",
       "      <th>Start</th>\n",
       "      <th>Peak</th>\n",
       "      <th>End</th>\n",
       "      <th>Duration</th>\n",
       "      <th>Amplitude</th>\n",
       "      <th>RMS</th>\n",
       "      <th>AbsPower</th>\n",
       "      <th>RelPower</th>\n",
       "      <th>Frequency</th>\n",
       "      <th>Oscillations</th>\n",
       "      <th>Symmetry</th>\n",
       "      <th>Stage</th>\n",
       "    </tr>\n",
       "  </thead>\n",
       "  <tbody>\n",
       "    <tr>\n",
       "      <th>0</th>\n",
       "      <td>585.54</td>\n",
       "      <td>586.09</td>\n",
       "      <td>586.38</td>\n",
       "      <td>0.84</td>\n",
       "      <td>59.682744</td>\n",
       "      <td>13.334660</td>\n",
       "      <td>2.256629</td>\n",
       "      <td>0.475648</td>\n",
       "      <td>12.957519</td>\n",
       "      <td>10.0</td>\n",
       "      <td>0.647059</td>\n",
       "      <td>2</td>\n",
       "    </tr>\n",
       "    <tr>\n",
       "      <th>1</th>\n",
       "      <td>598.09</td>\n",
       "      <td>598.62</td>\n",
       "      <td>599.52</td>\n",
       "      <td>1.43</td>\n",
       "      <td>79.858324</td>\n",
       "      <td>16.234394</td>\n",
       "      <td>2.377198</td>\n",
       "      <td>0.424400</td>\n",
       "      <td>12.888586</td>\n",
       "      <td>19.0</td>\n",
       "      <td>0.368056</td>\n",
       "      <td>2</td>\n",
       "    </tr>\n",
       "    <tr>\n",
       "      <th>2</th>\n",
       "      <td>604.37</td>\n",
       "      <td>604.73</td>\n",
       "      <td>605.08</td>\n",
       "      <td>0.71</td>\n",
       "      <td>60.636707</td>\n",
       "      <td>12.874629</td>\n",
       "      <td>2.222283</td>\n",
       "      <td>0.355090</td>\n",
       "      <td>12.648408</td>\n",
       "      <td>9.0</td>\n",
       "      <td>0.500000</td>\n",
       "      <td>2</td>\n",
       "    </tr>\n",
       "    <tr>\n",
       "      <th>3</th>\n",
       "      <td>655.06</td>\n",
       "      <td>655.50</td>\n",
       "      <td>655.86</td>\n",
       "      <td>0.80</td>\n",
       "      <td>47.939197</td>\n",
       "      <td>10.889576</td>\n",
       "      <td>2.148836</td>\n",
       "      <td>0.369696</td>\n",
       "      <td>13.328633</td>\n",
       "      <td>11.0</td>\n",
       "      <td>0.543210</td>\n",
       "      <td>2</td>\n",
       "    </tr>\n",
       "    <tr>\n",
       "      <th>4</th>\n",
       "      <td>725.60</td>\n",
       "      <td>726.50</td>\n",
       "      <td>726.88</td>\n",
       "      <td>1.28</td>\n",
       "      <td>77.591328</td>\n",
       "      <td>18.836009</td>\n",
       "      <td>2.370011</td>\n",
       "      <td>0.288164</td>\n",
       "      <td>12.369699</td>\n",
       "      <td>15.0</td>\n",
       "      <td>0.697674</td>\n",
       "      <td>2</td>\n",
       "    </tr>\n",
       "  </tbody>\n",
       "</table>\n",
       "</div>"
      ],
      "text/plain": [
       "    Start    Peak     End  Duration  Amplitude        RMS  AbsPower  RelPower  \\\n",
       "0  585.54  586.09  586.38      0.84  59.682744  13.334660  2.256629  0.475648   \n",
       "1  598.09  598.62  599.52      1.43  79.858324  16.234394  2.377198  0.424400   \n",
       "2  604.37  604.73  605.08      0.71  60.636707  12.874629  2.222283  0.355090   \n",
       "3  655.06  655.50  655.86      0.80  47.939197  10.889576  2.148836  0.369696   \n",
       "4  725.60  726.50  726.88      1.28  77.591328  18.836009  2.370011  0.288164   \n",
       "\n",
       "   Frequency  Oscillations  Symmetry Stage  \n",
       "0  12.957519          10.0  0.647059     2  \n",
       "1  12.888586          19.0  0.368056     2  \n",
       "2  12.648408           9.0  0.500000     2  \n",
       "3  13.328633          11.0  0.543210     2  \n",
       "4  12.369699          15.0  0.697674     2  "
      ]
     },
     "execution_count": 3,
     "metadata": {},
     "output_type": "execute_result"
    }
   ],
   "source": [
    "sp = yasa.spindles_detect(data, sf, hypno, include=(2, 3), remove_outliers=True)\n",
    "print(sp.shape)\n",
    "sp.head()"
   ]
  },
  {
   "cell_type": "code",
   "execution_count": 4,
   "metadata": {},
   "outputs": [
    {
     "data": {
      "text/html": [
       "<div>\n",
       "<style scoped>\n",
       "    .dataframe tbody tr th:only-of-type {\n",
       "        vertical-align: middle;\n",
       "    }\n",
       "\n",
       "    .dataframe tbody tr th {\n",
       "        vertical-align: top;\n",
       "    }\n",
       "\n",
       "    .dataframe thead th {\n",
       "        text-align: right;\n",
       "    }\n",
       "</style>\n",
       "<table border=\"1\" class=\"dataframe\">\n",
       "  <thead>\n",
       "    <tr style=\"text-align: right;\">\n",
       "      <th></th>\n",
       "      <th>Time</th>\n",
       "      <th>Event</th>\n",
       "      <th>Amplitude</th>\n",
       "    </tr>\n",
       "  </thead>\n",
       "  <tbody>\n",
       "    <tr>\n",
       "      <th>0</th>\n",
       "      <td>-1.00</td>\n",
       "      <td>0</td>\n",
       "      <td>-26.614866</td>\n",
       "    </tr>\n",
       "    <tr>\n",
       "      <th>1</th>\n",
       "      <td>-0.99</td>\n",
       "      <td>0</td>\n",
       "      <td>-26.710604</td>\n",
       "    </tr>\n",
       "    <tr>\n",
       "      <th>2</th>\n",
       "      <td>-0.98</td>\n",
       "      <td>0</td>\n",
       "      <td>-29.008289</td>\n",
       "    </tr>\n",
       "    <tr>\n",
       "      <th>3</th>\n",
       "      <td>-0.97</td>\n",
       "      <td>0</td>\n",
       "      <td>-21.062124</td>\n",
       "    </tr>\n",
       "    <tr>\n",
       "      <th>4</th>\n",
       "      <td>-0.96</td>\n",
       "      <td>0</td>\n",
       "      <td>-21.445072</td>\n",
       "    </tr>\n",
       "    <tr>\n",
       "      <th>...</th>\n",
       "      <td>...</td>\n",
       "      <td>...</td>\n",
       "      <td>...</td>\n",
       "    </tr>\n",
       "    <tr>\n",
       "      <th>97681</th>\n",
       "      <td>0.96</td>\n",
       "      <td>485</td>\n",
       "      <td>-10.818273</td>\n",
       "    </tr>\n",
       "    <tr>\n",
       "      <th>97682</th>\n",
       "      <td>0.97</td>\n",
       "      <td>485</td>\n",
       "      <td>-0.574422</td>\n",
       "    </tr>\n",
       "    <tr>\n",
       "      <th>97683</th>\n",
       "      <td>0.98</td>\n",
       "      <td>485</td>\n",
       "      <td>3.638003</td>\n",
       "    </tr>\n",
       "    <tr>\n",
       "      <th>97684</th>\n",
       "      <td>0.99</td>\n",
       "      <td>485</td>\n",
       "      <td>2.010475</td>\n",
       "    </tr>\n",
       "    <tr>\n",
       "      <th>97685</th>\n",
       "      <td>1.00</td>\n",
       "      <td>485</td>\n",
       "      <td>3.159319</td>\n",
       "    </tr>\n",
       "  </tbody>\n",
       "</table>\n",
       "<p>97686 rows × 3 columns</p>\n",
       "</div>"
      ],
      "text/plain": [
       "       Time Event  Amplitude\n",
       "0     -1.00     0 -26.614866\n",
       "1     -0.99     0 -26.710604\n",
       "2     -0.98     0 -29.008289\n",
       "3     -0.97     0 -21.062124\n",
       "4     -0.96     0 -21.445072\n",
       "...     ...   ...        ...\n",
       "97681  0.96   485 -10.818273\n",
       "97682  0.97   485  -0.574422\n",
       "97683  0.98   485   3.638003\n",
       "97684  0.99   485   2.010475\n",
       "97685  1.00   485   3.159319\n",
       "\n",
       "[97686 rows x 3 columns]"
      ]
     },
     "execution_count": 4,
     "metadata": {},
     "output_type": "execute_result"
    }
   ],
   "source": [
    "# Get data centered around the most prominent peak of each spindle\n",
    "events = yasa.get_sync_events(data, sf, detection=sp, center='Peak', time_before=1, time_after=1)\n",
    "events"
   ]
  },
  {
   "cell_type": "code",
   "execution_count": 5,
   "metadata": {},
   "outputs": [
    {
     "data": {
      "image/png": "[encoded data removed]",
      "text/plain": [
       "<Figure size 432x288 with 1 Axes>"
      ]
     },
     "metadata": {},
     "output_type": "display_data"
    }
   ],
   "source": [
    "# Plot the peak-locked sleep spindle average across all detected spindles in NEM for this participant\n",
    "events.groupby(\"Time\")['Amplitude'].mean().plot(color=['tab:blue'])\n",
    "plt.ylabel('Amplitude')\n",
    "plt.title(\"Peak-locked average sleep spindle\")\n",
    "sns.despine()"
   ]
  },
  {
   "cell_type": "markdown",
   "metadata": {},
   "source": [
    "**Slow oscillations amplitude**"
   ]
  },
  {
   "cell_type": "code",
   "execution_count": 6,
   "metadata": {},
   "outputs": [],
   "source": [
    "# Filter slow-oscillations\n",
    "data_so = mne.filter.filter_data(data, sf, 0.1, 1.25, verbose=0, h_trans_bandwidth=0.1, l_trans_bandwidth=0.1)\n",
    "\n",
    "# Get filtered SO data centered around the most prominent peak of each spindle\n",
    "events_so = yasa.get_sync_events(data_so, sf, detection=sp, center='Peak', time_before=1, time_after=1)\n",
    "events = events.merge(events_so, on=['Time', 'Event'], suffixes=['_sp', '_so'])\n",
    "events.rename(columns={'Amplitude_sp': 'Spindles', 'Amplitude_so': 'SO'}, inplace=True)"
   ]
  },
  {
   "cell_type": "code",
   "execution_count": 7,
   "metadata": {},
   "outputs": [
    {
     "data": {
      "image/png": "[encoded data removed]",
      "text/plain": [
       "<Figure size 432x288 with 1 Axes>"
      ]
     },
     "metadata": {},
     "output_type": "display_data"
    }
   ],
   "source": [
    "# Overlay spindles + slow-oscillations\n",
    "events.groupby(\"Time\").mean().plot(color=['tab:blue', 'tab:red'])\n",
    "plt.ylabel('Amplitude')\n",
    "plt.title(\"Peak-locked average sleep spindle\")\n",
    "sns.despine()"
   ]
  },
  {
   "cell_type": "markdown",
   "metadata": {},
   "source": [
    "**Slow-oscillations phase**"
   ]
  },
  {
   "cell_type": "code",
   "execution_count": 8,
   "metadata": {},
   "outputs": [
    {
     "data": {
      "text/html": [
       "<div>\n",
       "<style scoped>\n",
       "    .dataframe tbody tr th:only-of-type {\n",
       "        vertical-align: middle;\n",
       "    }\n",
       "\n",
       "    .dataframe tbody tr th {\n",
       "        vertical-align: top;\n",
       "    }\n",
       "\n",
       "    .dataframe thead th {\n",
       "        text-align: right;\n",
       "    }\n",
       "</style>\n",
       "<table border=\"1\" class=\"dataframe\">\n",
       "  <thead>\n",
       "    <tr style=\"text-align: right;\">\n",
       "      <th></th>\n",
       "      <th>Time</th>\n",
       "      <th>Event</th>\n",
       "      <th>Spindles</th>\n",
       "      <th>SO</th>\n",
       "      <th>SO_phase</th>\n",
       "    </tr>\n",
       "  </thead>\n",
       "  <tbody>\n",
       "    <tr>\n",
       "      <th>0</th>\n",
       "      <td>-1.00</td>\n",
       "      <td>0</td>\n",
       "      <td>-26.614866</td>\n",
       "      <td>-13.393822</td>\n",
       "      <td>-2.627925</td>\n",
       "    </tr>\n",
       "    <tr>\n",
       "      <th>1</th>\n",
       "      <td>-0.99</td>\n",
       "      <td>0</td>\n",
       "      <td>-26.710604</td>\n",
       "      <td>-12.862176</td>\n",
       "      <td>-2.604123</td>\n",
       "    </tr>\n",
       "    <tr>\n",
       "      <th>2</th>\n",
       "      <td>-0.98</td>\n",
       "      <td>0</td>\n",
       "      <td>-29.008289</td>\n",
       "      <td>-12.336220</td>\n",
       "      <td>-2.581127</td>\n",
       "    </tr>\n",
       "    <tr>\n",
       "      <th>3</th>\n",
       "      <td>-0.97</td>\n",
       "      <td>0</td>\n",
       "      <td>-21.062124</td>\n",
       "      <td>-11.818120</td>\n",
       "      <td>-2.559007</td>\n",
       "    </tr>\n",
       "    <tr>\n",
       "      <th>4</th>\n",
       "      <td>-0.96</td>\n",
       "      <td>0</td>\n",
       "      <td>-21.445072</td>\n",
       "      <td>-11.309553</td>\n",
       "      <td>-2.537843</td>\n",
       "    </tr>\n",
       "  </tbody>\n",
       "</table>\n",
       "</div>"
      ],
      "text/plain": [
       "   Time Event   Spindles         SO  SO_phase\n",
       "0 -1.00     0 -26.614866 -13.393822 -2.627925\n",
       "1 -0.99     0 -26.710604 -12.862176 -2.604123\n",
       "2 -0.98     0 -29.008289 -12.336220 -2.581127\n",
       "3 -0.97     0 -21.062124 -11.818120 -2.559007\n",
       "4 -0.96     0 -21.445072 -11.309553 -2.537843"
      ]
     },
     "execution_count": 8,
     "metadata": {},
     "output_type": "execute_result"
    }
   ],
   "source": [
    "from scipy.fftpack import next_fast_len\n",
    "from scipy.signal import hilbert\n",
    "\n",
    "# Extract instantaneous phase using Hilbert transform\n",
    "n = data_so.size\n",
    "nfast = next_fast_len(n)\n",
    "analytic = hilbert(data_so, N=nfast)[:n]\n",
    "inst_phase = np.angle(analytic)\n",
    "\n",
    "# Get SO phase centered around the most prominent peak of each spindle\n",
    "events_phase = yasa.get_sync_events(inst_phase, sf, detection=sp, center='Peak', time_before=1, time_after=1)\n",
    "events_phase.rename(columns={'Amplitude': \"SO_phase\"}, inplace=True)\n",
    "events = events.merge(events_phase, on=['Time', 'Event'])\n",
    "events.head()"
   ]
  },
  {
   "cell_type": "code",
   "execution_count": 9,
   "metadata": {},
   "outputs": [
    {
     "data": {
      "text/plain": [
       "0.07978956757566986"
      ]
     },
     "execution_count": 9,
     "metadata": {},
     "output_type": "execute_result"
    }
   ],
   "source": [
    "# Find the average phase (in radians) at spindles most prominent peak\n",
    "events.groupby(\"Time\").mean().loc[0., \"SO_phase\"]"
   ]
  }
 ],
 "metadata": {
  "kernelspec": {
   "display_name": "Python 3",
   "language": "python",
   "name": "python3"
  },
  "language_info": {
   "codemirror_mode": {
    "name": "ipython",
    "version": 3
   },
   "file_extension": ".py",
   "mimetype": "text/x-python",
   "name": "python",
   "nbconvert_exporter": "python",
   "pygments_lexer": "ipython3",
   "version": "3.6.5"
  }
 },
 "nbformat": 4,
 "nbformat_minor": 4
}
